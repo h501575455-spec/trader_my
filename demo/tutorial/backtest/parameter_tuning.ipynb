{
 "cells": [
  {
   "cell_type": "code",
   "execution_count": 1,
   "metadata": {},
   "outputs": [],
   "source": [
    "import os\n",
    "os.chdir(os.path.dirname(os.path.dirname(os.path.dirname(os.getcwd()))))"
   ]
  },
  {
   "cell_type": "code",
   "execution_count": 2,
   "metadata": {},
   "outputs": [
    {
     "name": "stderr",
     "output_type": "stream",
     "text": [
      "c:\\Users\\zhaoxs3\\AppData\\Local\\miniforge3\\envs\\frozen\\Lib\\site-packages\\tqdm_joblib\\__init__.py:4: TqdmWarning: IProgress not found. Please update jupyter and ipywidgets. See https://ipywidgets.readthedocs.io/en/stable/user_install.html\n",
      "  from tqdm.autonotebook import tqdm\n"
     ]
    }
   ],
   "source": [
    "from demo.strategy.momentum.momentum import FactorFactory"
   ]
  },
  {
   "cell_type": "code",
   "execution_count": 3,
   "metadata": {},
   "outputs": [],
   "source": [
    "test = FactorFactory()"
   ]
  },
  {
   "cell_type": "markdown",
   "metadata": {},
   "source": [
    "### Parallel Mode"
   ]
  },
  {
   "cell_type": "code",
   "execution_count": 4,
   "metadata": {},
   "outputs": [],
   "source": [
    "test.run_mode = 'parallel'"
   ]
  },
  {
   "cell_type": "code",
   "execution_count": 5,
   "metadata": {},
   "outputs": [],
   "source": [
    "params = [{'asset_range': (10, 20), 'optimizer': 'equal-weight'}, \n",
    "          {'optimizer': 'mean-variance', 'cov_method': 'custom', 'cov_window': 60, 'opt_func': 'sharpe', 'long_short': False}, \n",
    "          {'optimizer': 'equal-weight', 'date_rule': 'W-FRI'}, \n",
    "          {'optimizer': 'mean-variance', 'cov_method': 'shrink', 'cov_window': 60, 'opt_func': 'sharpe', 'long_short': False, 'date_rule': '2ME'},\n",
    "          ]"
   ]
  },
  {
   "cell_type": "code",
   "execution_count": 6,
   "metadata": {},
   "outputs": [],
   "source": [
    "test.num_cores = 4"
   ]
  },
  {
   "cell_type": "code",
   "execution_count": 7,
   "metadata": {},
   "outputs": [
    {
     "name": "stdout",
     "output_type": "stream",
     "text": [
      "✅ Successfully connected to database    🔗 Done!                                \n"
     ]
    },
    {
     "name": "stderr",
     "output_type": "stream",
     "text": [
      "Parallel Processing:   0%|          | 0/4 [00:01<?, ?it/s]"
     ]
    },
    {
     "name": "stdout",
     "output_type": "stream",
     "text": [
      "Created a new test with date_rule of W-MON and asset_range of (0, 5)\n",
      "Batch 2: {'batch': 2, 'params': {'optimizer': 'mean-variance', 'cov_method': 'custom', 'cov_window': 60, 'opt_func': 'sharpe', 'long_short': False}}\n"
     ]
    },
    {
     "name": "stderr",
     "output_type": "stream",
     "text": [
      "Processing batch 2:   2%|▏         | 6/286 [00:00<00:15, 17.92it/s]"
     ]
    },
    {
     "name": "stdout",
     "output_type": "stream",
     "text": [
      "Created a new test with date_rule of 2ME and asset_range of (0, 5)\n",
      "Batch 4: {'batch': 4, 'params': {'optimizer': 'mean-variance', 'cov_method': 'shrink', 'cov_window': 60, 'opt_func': 'sharpe', 'long_short': False, 'date_rule': '2ME'}}\n"
     ]
    },
    {
     "name": "stderr",
     "output_type": "stream",
     "text": [
      "Processing batch 4:   6%|▌         | 2/34 [00:00<00:02, 14.03it/s]]"
     ]
    },
    {
     "name": "stdout",
     "output_type": "stream",
     "text": [
      "Created a new test with date_rule of W-FRI and asset_range of (0, 5)\n",
      "Batch 3: {'batch': 3, 'params': {'optimizer': 'equal-weight', 'date_rule': 'W-FRI'}}\n"
     ]
    },
    {
     "name": "stderr",
     "output_type": "stream",
     "text": [
      "Processing batch 2:   3%|▎         | 9/286 [00:01<00:49,  5.65it/s]"
     ]
    },
    {
     "name": "stdout",
     "output_type": "stream",
     "text": [
      "Created a new test with date_rule of W-MON and asset_range of (10, 20)\n",
      "Batch 1: {'batch': 1, 'params': {'asset_range': (10, 20), 'optimizer': 'equal-weight'}}\n"
     ]
    },
    {
     "name": "stderr",
     "output_type": "stream",
     "text": [
      "Processing batch 4: 100%|██████████| 34/34 [00:06<00:00,  5.13it/s]]]\n",
      "Processing batch 1:  19%|█▊        | 53/286 [00:04<00:25,  8.98it/s]]"
     ]
    },
    {
     "name": "stdout",
     "output_type": "stream",
     "text": [
      "🔔 Warnings: Not consistent with date_rule for the last holding period.\n"
     ]
    },
    {
     "name": "stderr",
     "output_type": "stream",
     "text": [
      "Processing batch 3: 100%|██████████| 286/286 [00:12<00:00, 22.19it/s]\n",
      "Processing batch 1:  51%|█████     | 146/286 [00:12<00:11, 11.97it/s]"
     ]
    },
    {
     "name": "stdout",
     "output_type": "stream",
     "text": [
      "🔔 Warnings: Detected empty or incomplete dataframe for the last holding period.\n"
     ]
    },
    {
     "name": "stderr",
     "output_type": "stream",
     "text": [
      "Processing batch 1: 100%|██████████| 286/286 [00:19<00:00, 14.77it/s]\n"
     ]
    },
    {
     "name": "stdout",
     "output_type": "stream",
     "text": [
      "🔔 Warnings: Not consistent with date_rule for the last holding period.\n"
     ]
    },
    {
     "name": "stderr",
     "output_type": "stream",
     "text": [
      "Processing batch 2: 100%|██████████| 286/286 [00:29<00:00,  9.78it/s]\n"
     ]
    },
    {
     "name": "stdout",
     "output_type": "stream",
     "text": [
      "🔔 Warnings: Not consistent with date_rule for the last holding period.\n"
     ]
    },
    {
     "name": "stderr",
     "output_type": "stream",
     "text": [
      "Parallel Processing: 100%|██████████| 4/4 [00:31<00:00,  7.78s/it]\n"
     ]
    }
   ],
   "source": [
    "daily_ret, result = test.param_tuning(params, parallel=True, backend=\"threading\")"
   ]
  },
  {
   "cell_type": "code",
   "execution_count": 9,
   "metadata": {},
   "outputs": [
    {
     "data": {
      "text/html": [
       "<div>\n",
       "<style scoped>\n",
       "    .dataframe tbody tr th:only-of-type {\n",
       "        vertical-align: middle;\n",
       "    }\n",
       "\n",
       "    .dataframe tbody tr th {\n",
       "        vertical-align: top;\n",
       "    }\n",
       "\n",
       "    .dataframe thead th {\n",
       "        text-align: right;\n",
       "    }\n",
       "</style>\n",
       "<table border=\"1\" class=\"dataframe\">\n",
       "  <thead>\n",
       "    <tr style=\"text-align: right;\">\n",
       "      <th></th>\n",
       "      <th>Account</th>\n",
       "      <th>Benchmark</th>\n",
       "      <th>Annual Rate</th>\n",
       "      <th>Beta</th>\n",
       "      <th>Alpha</th>\n",
       "      <th>Sharpe</th>\n",
       "      <th>Sortino</th>\n",
       "      <th>IR</th>\n",
       "      <th>Win Rate</th>\n",
       "      <th>Max Drawdown</th>\n",
       "      <th>params</th>\n",
       "    </tr>\n",
       "    <tr>\n",
       "      <th>batch</th>\n",
       "      <th></th>\n",
       "      <th></th>\n",
       "      <th></th>\n",
       "      <th></th>\n",
       "      <th></th>\n",
       "      <th></th>\n",
       "      <th></th>\n",
       "      <th></th>\n",
       "      <th></th>\n",
       "      <th></th>\n",
       "      <th></th>\n",
       "    </tr>\n",
       "  </thead>\n",
       "  <tbody>\n",
       "    <tr>\n",
       "      <th>1</th>\n",
       "      <td>0.6188</td>\n",
       "      <td>1.0033</td>\n",
       "      <td>-0.0879</td>\n",
       "      <td>0.8632</td>\n",
       "      <td>-0.0884</td>\n",
       "      <td>-0.2726</td>\n",
       "      <td>-0.3814</td>\n",
       "      <td>-0.0306</td>\n",
       "      <td>0.4458</td>\n",
       "      <td>0.6300</td>\n",
       "      <td>{'asset_range': (10, 20), 'optimizer': 'equal-...</td>\n",
       "    </tr>\n",
       "    <tr>\n",
       "      <th>2</th>\n",
       "      <td>0.5263</td>\n",
       "      <td>1.0033</td>\n",
       "      <td>-0.1157</td>\n",
       "      <td>0.6527</td>\n",
       "      <td>-0.1161</td>\n",
       "      <td>-0.5493</td>\n",
       "      <td>-0.7515</td>\n",
       "      <td>-0.0489</td>\n",
       "      <td>0.3480</td>\n",
       "      <td>0.6731</td>\n",
       "      <td>{'optimizer': 'mean-variance', 'cov_method': '...</td>\n",
       "    </tr>\n",
       "    <tr>\n",
       "      <th>3</th>\n",
       "      <td>0.6411</td>\n",
       "      <td>0.8309</td>\n",
       "      <td>-0.0815</td>\n",
       "      <td>0.7221</td>\n",
       "      <td>-0.0564</td>\n",
       "      <td>-0.3251</td>\n",
       "      <td>-0.4483</td>\n",
       "      <td>-0.0194</td>\n",
       "      <td>0.3949</td>\n",
       "      <td>0.5922</td>\n",
       "      <td>{'optimizer': 'equal-weight', 'date_rule': 'W-...</td>\n",
       "    </tr>\n",
       "    <tr>\n",
       "      <th>4</th>\n",
       "      <td>0.7896</td>\n",
       "      <td>0.9800</td>\n",
       "      <td>-0.0446</td>\n",
       "      <td>0.6732</td>\n",
       "      <td>-0.0419</td>\n",
       "      <td>-0.1458</td>\n",
       "      <td>-0.2087</td>\n",
       "      <td>-0.0177</td>\n",
       "      <td>0.3394</td>\n",
       "      <td>0.5346</td>\n",
       "      <td>{'optimizer': 'mean-variance', 'cov_method': '...</td>\n",
       "    </tr>\n",
       "  </tbody>\n",
       "</table>\n",
       "</div>"
      ],
      "text/plain": [
       "       Account  Benchmark  Annual Rate    Beta   Alpha  Sharpe  Sortino  \\\n",
       "batch                                                                     \n",
       "1       0.6188     1.0033      -0.0879  0.8632 -0.0884 -0.2726  -0.3814   \n",
       "2       0.5263     1.0033      -0.1157  0.6527 -0.1161 -0.5493  -0.7515   \n",
       "3       0.6411     0.8309      -0.0815  0.7221 -0.0564 -0.3251  -0.4483   \n",
       "4       0.7896     0.9800      -0.0446  0.6732 -0.0419 -0.1458  -0.2087   \n",
       "\n",
       "           IR  Win Rate  Max Drawdown  \\\n",
       "batch                                   \n",
       "1     -0.0306    0.4458        0.6300   \n",
       "2     -0.0489    0.3480        0.6731   \n",
       "3     -0.0194    0.3949        0.5922   \n",
       "4     -0.0177    0.3394        0.5346   \n",
       "\n",
       "                                                  params  \n",
       "batch                                                     \n",
       "1      {'asset_range': (10, 20), 'optimizer': 'equal-...  \n",
       "2      {'optimizer': 'mean-variance', 'cov_method': '...  \n",
       "3      {'optimizer': 'equal-weight', 'date_rule': 'W-...  \n",
       "4      {'optimizer': 'mean-variance', 'cov_method': '...  "
      ]
     },
     "execution_count": 9,
     "metadata": {},
     "output_type": "execute_result"
    }
   ],
   "source": [
    "result"
   ]
  },
  {
   "cell_type": "markdown",
   "metadata": {},
   "source": [
    "### Single Thread Mode"
   ]
  },
  {
   "cell_type": "code",
   "execution_count": 10,
   "metadata": {},
   "outputs": [],
   "source": [
    "test.run_mode = \"normal\""
   ]
  },
  {
   "cell_type": "code",
   "execution_count": 11,
   "metadata": {},
   "outputs": [
    {
     "name": "stdout",
     "output_type": "stream",
     "text": [
      "Created a new test with date_rule of W-MON and asset_range of (10, 20)\n",
      "Batch 1: {'batch': 1, 'params': {'asset_range': (10, 20), 'optimizer': 'equal-weight'}}\n"
     ]
    },
    {
     "name": "stderr",
     "output_type": "stream",
     "text": [
      "Performing Backtest: 100%|██████████| 286/286 [00:06<00:00, 45.04it/s]\n"
     ]
    },
    {
     "name": "stdout",
     "output_type": "stream",
     "text": [
      "🔔 Warnings: Not consistent with date_rule for the last holding period.\n",
      "Result for batch 1 with {'batch': 1, 'params': {'asset_range': (10, 20), 'optimizer': 'equal-weight'}}:    Account  Benchmark  Annual Rate    Beta   Alpha  Sharpe  Sortino      IR  \\\n",
      "0   0.6188     1.0033      -0.0879  0.8632 -0.0884 -0.2726  -0.3814 -0.0306   \n",
      "\n",
      "   Win Rate  Max Drawdown  \n",
      "0    0.4458          0.63  \n",
      "Created a new test with date_rule of W-MON and asset_range of (0, 5)\n",
      "Batch 2: {'batch': 2, 'params': {'optimizer': 'mean-variance', 'cov_method': 'custom', 'cov_window': 60, 'opt_func': 'sharpe', 'long_short': False}}\n"
     ]
    },
    {
     "name": "stderr",
     "output_type": "stream",
     "text": [
      "Performing Backtest: 100%|██████████| 286/286 [00:12<00:00, 23.11it/s]\n"
     ]
    },
    {
     "name": "stdout",
     "output_type": "stream",
     "text": [
      "🔔 Warnings: Not consistent with date_rule for the last holding period.\n",
      "Result for batch 2 with {'batch': 2, 'params': {'optimizer': 'mean-variance', 'cov_method': 'custom', 'cov_window': 60, 'opt_func': 'sharpe', 'long_short': False}}:    Account  Benchmark  Annual Rate    Beta   Alpha  Sharpe  Sortino      IR  \\\n",
      "0   0.5263     1.0033      -0.1157  0.6527 -0.1161 -0.5493  -0.7515 -0.0489   \n",
      "\n",
      "   Win Rate  Max Drawdown  \n",
      "0     0.348        0.6731  \n",
      "Created a new test with date_rule of W-FRI and asset_range of (0, 5)\n",
      "Batch 3: {'batch': 3, 'params': {'optimizer': 'equal-weight', 'date_rule': 'W-FRI'}}\n"
     ]
    },
    {
     "name": "stderr",
     "output_type": "stream",
     "text": [
      "Performing Backtest: 100%|██████████| 286/286 [00:03<00:00, 79.14it/s]\n"
     ]
    },
    {
     "name": "stdout",
     "output_type": "stream",
     "text": [
      "🔔 Warnings: Detected empty or incomplete dataframe for the last holding period.\n",
      "Result for batch 3 with {'batch': 3, 'params': {'optimizer': 'equal-weight', 'date_rule': 'W-FRI'}}:    Account  Benchmark  Annual Rate    Beta   Alpha  Sharpe  Sortino      IR  \\\n",
      "0   0.6411     0.8309      -0.0815  0.7221 -0.0564 -0.3251  -0.4483 -0.0194   \n",
      "\n",
      "   Win Rate  Max Drawdown  \n",
      "0    0.3949        0.5922  \n",
      "Created a new test with date_rule of 2ME and asset_range of (0, 5)\n",
      "Batch 4: {'batch': 4, 'params': {'optimizer': 'mean-variance', 'cov_method': 'shrink', 'cov_window': 60, 'opt_func': 'sharpe', 'long_short': False, 'date_rule': '2ME'}}\n"
     ]
    },
    {
     "name": "stderr",
     "output_type": "stream",
     "text": [
      "Performing Backtest: 100%|██████████| 34/34 [00:01<00:00, 23.98it/s]"
     ]
    },
    {
     "name": "stdout",
     "output_type": "stream",
     "text": [
      "🔔 Warnings: Not consistent with date_rule for the last holding period.\n",
      "Result for batch 4 with {'batch': 4, 'params': {'optimizer': 'mean-variance', 'cov_method': 'shrink', 'cov_window': 60, 'opt_func': 'sharpe', 'long_short': False, 'date_rule': '2ME'}}:    Account  Benchmark  Annual Rate    Beta   Alpha  Sharpe  Sortino      IR  \\\n",
      "0   0.7896       0.98      -0.0446  0.6732 -0.0419 -0.1458  -0.2087 -0.0177   \n",
      "\n",
      "   Win Rate  Max Drawdown  \n",
      "0    0.3394        0.5346  \n"
     ]
    },
    {
     "name": "stderr",
     "output_type": "stream",
     "text": [
      "\n"
     ]
    }
   ],
   "source": [
    "daily_ret, result = test.param_tuning(params, parallel=False)"
   ]
  },
  {
   "cell_type": "code",
   "execution_count": 12,
   "metadata": {},
   "outputs": [
    {
     "data": {
      "text/html": [
       "<div>\n",
       "<style scoped>\n",
       "    .dataframe tbody tr th:only-of-type {\n",
       "        vertical-align: middle;\n",
       "    }\n",
       "\n",
       "    .dataframe tbody tr th {\n",
       "        vertical-align: top;\n",
       "    }\n",
       "\n",
       "    .dataframe thead th {\n",
       "        text-align: right;\n",
       "    }\n",
       "</style>\n",
       "<table border=\"1\" class=\"dataframe\">\n",
       "  <thead>\n",
       "    <tr style=\"text-align: right;\">\n",
       "      <th></th>\n",
       "      <th>Account</th>\n",
       "      <th>Benchmark</th>\n",
       "      <th>Annual Rate</th>\n",
       "      <th>Beta</th>\n",
       "      <th>Alpha</th>\n",
       "      <th>Sharpe</th>\n",
       "      <th>Sortino</th>\n",
       "      <th>IR</th>\n",
       "      <th>Win Rate</th>\n",
       "      <th>Max Drawdown</th>\n",
       "      <th>params</th>\n",
       "    </tr>\n",
       "  </thead>\n",
       "  <tbody>\n",
       "    <tr>\n",
       "      <th>batch 1</th>\n",
       "      <td>0.6188</td>\n",
       "      <td>1.0033</td>\n",
       "      <td>-0.0879</td>\n",
       "      <td>0.8632</td>\n",
       "      <td>-0.0884</td>\n",
       "      <td>-0.2726</td>\n",
       "      <td>-0.3814</td>\n",
       "      <td>-0.0306</td>\n",
       "      <td>0.4458</td>\n",
       "      <td>0.6300</td>\n",
       "      <td>{'asset_range': (10, 20), 'optimizer': 'equal-...</td>\n",
       "    </tr>\n",
       "    <tr>\n",
       "      <th>batch 2</th>\n",
       "      <td>0.5263</td>\n",
       "      <td>1.0033</td>\n",
       "      <td>-0.1157</td>\n",
       "      <td>0.6527</td>\n",
       "      <td>-0.1161</td>\n",
       "      <td>-0.5493</td>\n",
       "      <td>-0.7515</td>\n",
       "      <td>-0.0489</td>\n",
       "      <td>0.3480</td>\n",
       "      <td>0.6731</td>\n",
       "      <td>{'optimizer': 'mean-variance', 'cov_method': '...</td>\n",
       "    </tr>\n",
       "    <tr>\n",
       "      <th>batch 3</th>\n",
       "      <td>0.6411</td>\n",
       "      <td>0.8309</td>\n",
       "      <td>-0.0815</td>\n",
       "      <td>0.7221</td>\n",
       "      <td>-0.0564</td>\n",
       "      <td>-0.3251</td>\n",
       "      <td>-0.4483</td>\n",
       "      <td>-0.0194</td>\n",
       "      <td>0.3949</td>\n",
       "      <td>0.5922</td>\n",
       "      <td>{'optimizer': 'equal-weight', 'date_rule': 'W-...</td>\n",
       "    </tr>\n",
       "    <tr>\n",
       "      <th>batch 4</th>\n",
       "      <td>0.7896</td>\n",
       "      <td>0.9800</td>\n",
       "      <td>-0.0446</td>\n",
       "      <td>0.6732</td>\n",
       "      <td>-0.0419</td>\n",
       "      <td>-0.1458</td>\n",
       "      <td>-0.2087</td>\n",
       "      <td>-0.0177</td>\n",
       "      <td>0.3394</td>\n",
       "      <td>0.5346</td>\n",
       "      <td>{'optimizer': 'mean-variance', 'cov_method': '...</td>\n",
       "    </tr>\n",
       "  </tbody>\n",
       "</table>\n",
       "</div>"
      ],
      "text/plain": [
       "         Account  Benchmark  Annual Rate    Beta   Alpha  Sharpe  Sortino  \\\n",
       "batch 1   0.6188     1.0033      -0.0879  0.8632 -0.0884 -0.2726  -0.3814   \n",
       "batch 2   0.5263     1.0033      -0.1157  0.6527 -0.1161 -0.5493  -0.7515   \n",
       "batch 3   0.6411     0.8309      -0.0815  0.7221 -0.0564 -0.3251  -0.4483   \n",
       "batch 4   0.7896     0.9800      -0.0446  0.6732 -0.0419 -0.1458  -0.2087   \n",
       "\n",
       "             IR  Win Rate  Max Drawdown  \\\n",
       "batch 1 -0.0306    0.4458        0.6300   \n",
       "batch 2 -0.0489    0.3480        0.6731   \n",
       "batch 3 -0.0194    0.3949        0.5922   \n",
       "batch 4 -0.0177    0.3394        0.5346   \n",
       "\n",
       "                                                    params  \n",
       "batch 1  {'asset_range': (10, 20), 'optimizer': 'equal-...  \n",
       "batch 2  {'optimizer': 'mean-variance', 'cov_method': '...  \n",
       "batch 3  {'optimizer': 'equal-weight', 'date_rule': 'W-...  \n",
       "batch 4  {'optimizer': 'mean-variance', 'cov_method': '...  "
      ]
     },
     "execution_count": 12,
     "metadata": {},
     "output_type": "execute_result"
    }
   ],
   "source": [
    "result"
   ]
  }
 ],
 "metadata": {
  "kernelspec": {
   "display_name": "frozen",
   "language": "python",
   "name": "python3"
  },
  "language_info": {
   "codemirror_mode": {
    "name": "ipython",
    "version": 3
   },
   "file_extension": ".py",
   "mimetype": "text/x-python",
   "name": "python",
   "nbconvert_exporter": "python",
   "pygments_lexer": "ipython3",
   "version": "3.11.0"
  }
 },
 "nbformat": 4,
 "nbformat_minor": 4
}
