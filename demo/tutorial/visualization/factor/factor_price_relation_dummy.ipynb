{
 "cells": [
  {
   "cell_type": "markdown",
   "id": "13b5095d",
   "metadata": {},
   "source": [
    "## Implement with Plotly"
   ]
  },
  {
   "cell_type": "code",
   "execution_count": null,
   "id": "3f88f436",
   "metadata": {},
   "outputs": [],
   "source": [
    "from frozen.utils.plotting import FactorPlot\n",
    "from frozen.utils.helper import create_dummy_test_data"
   ]
  },
  {
   "cell_type": "code",
   "execution_count": 2,
   "id": "5abe3df1",
   "metadata": {},
   "outputs": [],
   "source": [
    "price_data, factor_data = create_dummy_test_data(start_date=\"2023-01-01\", end_date=\"2023-12-31\", method=\"advanced\")"
   ]
  },
  {
   "cell_type": "code",
   "execution_count": 3,
   "id": "1784c966",
   "metadata": {},
   "outputs": [
    {
     "data": {
      "application/vnd.plotly.v1+json": {
       "config": {
        "plotlyServerURL": "https://plot.ly"
       },
       "data": [
        {
         "close": {
          "bdata": "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",
          "dtype": "f8"
         },
         "decreasing": {
          "fillcolor": "#ef5350",
          "line": {
           "color": "#ef5350"
          }
         },
         "high": {
          "bdata": "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",
          "dtype": "f8"
         },
         "increasing": {
          "fillcolor": "#26a69a",
          "line": {
           "color": "#26a69a"
          }
         },
         "line": {
          "width": 1
         },
         "low": {
          "bdata": "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",
          "dtype": "f8"
         },
         "name": "Price",
         "open": {
          "bdata": "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",
          "dtype": "f8"
         },
         "type": "candlestick",
         "x": [
          "2023-01-02T00:00:00.000000000",
          "2023-01-03T00:00:00.000000000",
          "2023-01-04T00:00:00.000000000",
          "2023-01-05T00:00:00.000000000",
          "2023-01-06T00:00:00.000000000",
          "2023-01-09T00:00:00.000000000",
          "2023-01-10T00:00:00.000000000",
          "2023-01-11T00:00:00.000000000",
          "2023-01-12T00:00:00.000000000",
          "2023-01-13T00:00:00.000000000",
          "2023-01-16T00:00:00.000000000",
          "2023-01-17T00:00:00.000000000",
          "2023-01-18T00:00:00.000000000",
          "2023-01-19T00:00:00.000000000",
          "2023-01-20T00:00:00.000000000",
          "2023-01-23T00:00:00.000000000",
          "2023-01-24T00:00:00.000000000",
          "2023-01-25T00:00:00.000000000",
          "2023-01-26T00:00:00.000000000",
          "2023-01-27T00:00:00.000000000",
          "2023-01-30T00:00:00.000000000",
          "2023-01-31T00:00:00.000000000",
          "2023-02-01T00:00:00.000000000",
          "2023-02-02T00:00:00.000000000",
          "2023-02-03T00:00:00.000000000",
          "2023-02-06T00:00:00.000000000",
          "2023-02-07T00:00:00.000000000",
          "2023-02-08T00:00:00.000000000",
          "2023-02-09T00:00:00.000000000",
          "2023-02-10T00:00:00.000000000",
          "2023-02-13T00:00:00.000000000",
          "2023-02-14T00:00:00.000000000",
          "2023-02-15T00:00:00.000000000",
          "2023-02-16T00:00:00.000000000",
          "2023-02-17T00:00:00.000000000",
          "2023-02-20T00:00:00.000000000",
          "2023-02-21T00:00:00.000000000",
          "2023-02-22T00:00:00.000000000",
          "2023-02-23T00:00:00.000000000",
          "2023-02-24T00:00:00.000000000",
          "2023-02-27T00:00:00.000000000",
          "2023-02-28T00:00:00.000000000",
          "2023-03-01T00:00:00.000000000",
          "2023-03-02T00:00:00.000000000",
          "2023-03-03T00:00:00.000000000",
          "2023-03-06T00:00:00.000000000",
          "2023-03-07T00:00:00.000000000",
          "2023-03-08T00:00:00.000000000",
          "2023-03-09T00:00:00.000000000",
          "2023-03-10T00:00:00.000000000",
          "2023-03-13T00:00:00.000000000",
          "2023-03-14T00:00:00.000000000",
          "2023-03-15T00:00:00.000000000",
          "2023-03-16T00:00:00.000000000",
          "2023-03-17T00:00:00.000000000",
          "2023-03-20T00:00:00.000000000",
          "2023-03-21T00:00:00.000000000",
          "2023-03-22T00:00:00.000000000",
          "2023-03-23T00:00:00.000000000",
          "2023-03-24T00:00:00.000000000",
          "2023-03-27T00:00:00.000000000",
          "2023-03-28T00:00:00.000000000",
          "2023-03-29T00:00:00.000000000",
          "2023-03-30T00:00:00.000000000",
          "2023-03-31T00:00:00.000000000",
          "2023-04-03T00:00:00.000000000",
          "2023-04-04T00:00:00.000000000",
          "2023-04-05T00:00:00.000000000",
          "2023-04-06T00:00:00.000000000",
          "2023-04-07T00:00:00.000000000",
          "2023-04-10T00:00:00.000000000",
          "2023-04-11T00:00:00.000000000",
          "2023-04-12T00:00:00.000000000",
          "2023-04-13T00:00:00.000000000",
          "2023-04-14T00:00:00.000000000",
          "2023-04-17T00:00:00.000000000",
          "2023-04-18T00:00:00.000000000",
          "2023-04-19T00:00:00.000000000",
          "2023-04-20T00:00:00.000000000",
          "2023-04-21T00:00:00.000000000",
          "2023-04-24T00:00:00.000000000",
          "2023-04-25T00:00:00.000000000",
          "2023-04-26T00:00:00.000000000",
          "2023-04-27T00:00:00.000000000",
          "2023-04-28T00:00:00.000000000",
          "2023-05-01T00:00:00.000000000",
          "2023-05-02T00:00:00.000000000",
          "2023-05-03T00:00:00.000000000",
          "2023-05-04T00:00:00.000000000",
          "2023-05-05T00:00:00.000000000",
          "2023-05-08T00:00:00.000000000",
          "2023-05-09T00:00:00.000000000",
          "2023-05-10T00:00:00.000000000",
          "2023-05-11T00:00:00.000000000",
          "2023-05-12T00:00:00.000000000",
          "2023-05-15T00:00:00.000000000",
          "2023-05-16T00:00:00.000000000",
          "2023-05-17T00:00:00.000000000",
          "2023-05-18T00:00:00.000000000",
          "2023-05-19T00:00:00.000000000",
          "2023-05-22T00:00:00.000000000",
          "2023-05-23T00:00:00.000000000",
          "2023-05-24T00:00:00.000000000",
          "2023-05-25T00:00:00.000000000",
          "2023-05-26T00:00:00.000000000",
          "2023-05-29T00:00:00.000000000",
          "2023-05-30T00:00:00.000000000",
          "2023-05-31T00:00:00.000000000",
          "2023-06-01T00:00:00.000000000",
          "2023-06-02T00:00:00.000000000",
          "2023-06-05T00:00:00.000000000",
          "2023-06-06T00:00:00.000000000",
          "2023-06-07T00:00:00.000000000",
          "2023-06-08T00:00:00.000000000",
          "2023-06-09T00:00:00.000000000",
          "2023-06-12T00:00:00.000000000",
          "2023-06-13T00:00:00.000000000",
          "2023-06-14T00:00:00.000000000",
          "2023-06-15T00:00:00.000000000",
          "2023-06-16T00:00:00.000000000",
          "2023-06-19T00:00:00.000000000",
          "2023-06-20T00:00:00.000000000",
          "2023-06-21T00:00:00.000000000",
          "2023-06-22T00:00:00.000000000",
          "2023-06-23T00:00:00.000000000",
          "2023-06-26T00:00:00.000000000",
          "2023-06-27T00:00:00.000000000",
          "2023-06-28T00:00:00.000000000",
          "2023-06-29T00:00:00.000000000",
          "2023-06-30T00:00:00.000000000",
          "2023-07-03T00:00:00.000000000",
          "2023-07-04T00:00:00.000000000",
          "2023-07-05T00:00:00.000000000",
          "2023-07-06T00:00:00.000000000",
          "2023-07-07T00:00:00.000000000",
          "2023-07-10T00:00:00.000000000",
          "2023-07-11T00:00:00.000000000",
          "2023-07-12T00:00:00.000000000",
          "2023-07-13T00:00:00.000000000",
          "2023-07-14T00:00:00.000000000",
          "2023-07-17T00:00:00.000000000",
          "2023-07-18T00:00:00.000000000",
          "2023-07-19T00:00:00.000000000",
          "2023-07-20T00:00:00.000000000",
          "2023-07-21T00:00:00.000000000",
          "2023-07-24T00:00:00.000000000",
          "2023-07-25T00:00:00.000000000",
          "2023-07-26T00:00:00.000000000",
          "2023-07-27T00:00:00.000000000",
          "2023-07-28T00:00:00.000000000",
          "2023-07-31T00:00:00.000000000",
          "2023-08-01T00:00:00.000000000",
          "2023-08-02T00:00:00.000000000",
          "2023-08-03T00:00:00.000000000",
          "2023-08-04T00:00:00.000000000",
          "2023-08-07T00:00:00.000000000",
          "2023-08-08T00:00:00.000000000",
          "2023-08-09T00:00:00.000000000",
          "2023-08-10T00:00:00.000000000",
          "2023-08-11T00:00:00.000000000",
          "2023-08-14T00:00:00.000000000",
          "2023-08-15T00:00:00.000000000",
          "2023-08-16T00:00:00.000000000",
          "2023-08-17T00:00:00.000000000",
          "2023-08-18T00:00:00.000000000",
          "2023-08-21T00:00:00.000000000",
          "2023-08-22T00:00:00.000000000",
          "2023-08-23T00:00:00.000000000",
          "2023-08-24T00:00:00.000000000",
          "2023-08-25T00:00:00.000000000",
          "2023-08-28T00:00:00.000000000",
          "2023-08-29T00:00:00.000000000",
          "2023-08-30T00:00:00.000000000",
          "2023-08-31T00:00:00.000000000",
          "2023-09-01T00:00:00.000000000",
          "2023-09-04T00:00:00.000000000",
          "2023-09-05T00:00:00.000000000",
          "2023-09-06T00:00:00.000000000",
          "2023-09-07T00:00:00.000000000",
          "2023-09-08T00:00:00.000000000",
          "2023-09-11T00:00:00.000000000",
          "2023-09-12T00:00:00.000000000",
          "2023-09-13T00:00:00.000000000",
          "2023-09-14T00:00:00.000000000",
          "2023-09-15T00:00:00.000000000",
          "2023-09-18T00:00:00.000000000",
          "2023-09-19T00:00:00.000000000",
          "2023-09-20T00:00:00.000000000",
          "2023-09-21T00:00:00.000000000",
          "2023-09-22T00:00:00.000000000",
          "2023-09-25T00:00:00.000000000",
          "2023-09-26T00:00:00.000000000",
          "2023-09-27T00:00:00.000000000",
          "2023-09-28T00:00:00.000000000",
          "2023-09-29T00:00:00.000000000",
          "2023-10-02T00:00:00.000000000",
          "2023-10-03T00:00:00.000000000",
          "2023-10-04T00:00:00.000000000",
          "2023-10-05T00:00:00.000000000",
          "2023-10-06T00:00:00.000000000",
          "2023-10-09T00:00:00.000000000",
          "2023-10-10T00:00:00.000000000",
          "2023-10-11T00:00:00.000000000",
          "2023-10-12T00:00:00.000000000",
          "2023-10-13T00:00:00.000000000",
          "2023-10-16T00:00:00.000000000",
          "2023-10-17T00:00:00.000000000",
          "2023-10-18T00:00:00.000000000",
          "2023-10-19T00:00:00.000000000",
          "2023-10-20T00:00:00.000000000",
          "2023-10-23T00:00:00.000000000",
          "2023-10-24T00:00:00.000000000",
          "2023-10-25T00:00:00.000000000",
          "2023-10-26T00:00:00.000000000",
          "2023-10-27T00:00:00.000000000",
          "2023-10-30T00:00:00.000000000",
          "2023-10-31T00:00:00.000000000",
          "2023-11-01T00:00:00.000000000",
          "2023-11-02T00:00:00.000000000",
          "2023-11-03T00:00:00.000000000",
          "2023-11-06T00:00:00.000000000",
          "2023-11-07T00:00:00.000000000",
          "2023-11-08T00:00:00.000000000",
          "2023-11-09T00:00:00.000000000",
          "2023-11-10T00:00:00.000000000",
          "2023-11-13T00:00:00.000000000",
          "2023-11-14T00:00:00.000000000",
          "2023-11-15T00:00:00.000000000",
          "2023-11-16T00:00:00.000000000",
          "2023-11-17T00:00:00.000000000",
          "2023-11-20T00:00:00.000000000",
          "2023-11-21T00:00:00.000000000",
          "2023-11-22T00:00:00.000000000",
          "2023-11-23T00:00:00.000000000",
          "2023-11-24T00:00:00.000000000",
          "2023-11-27T00:00:00.000000000",
          "2023-11-28T00:00:00.000000000",
          "2023-11-29T00:00:00.000000000",
          "2023-11-30T00:00:00.000000000",
          "2023-12-01T00:00:00.000000000",
          "2023-12-04T00:00:00.000000000",
          "2023-12-05T00:00:00.000000000",
          "2023-12-06T00:00:00.000000000",
          "2023-12-07T00:00:00.000000000",
          "2023-12-08T00:00:00.000000000",
          "2023-12-11T00:00:00.000000000",
          "2023-12-12T00:00:00.000000000",
          "2023-12-13T00:00:00.000000000",
          "2023-12-14T00:00:00.000000000",
          "2023-12-15T00:00:00.000000000",
          "2023-12-18T00:00:00.000000000",
          "2023-12-19T00:00:00.000000000",
          "2023-12-20T00:00:00.000000000",
          "2023-12-21T00:00:00.000000000",
          "2023-12-22T00:00:00.000000000",
          "2023-12-25T00:00:00.000000000",
          "2023-12-26T00:00:00.000000000",
          "2023-12-27T00:00:00.000000000",
          "2023-12-28T00:00:00.000000000",
          "2023-12-29T00:00:00.000000000"
         ],
         "xaxis": "x",
         "yaxis": "y"
        },
        {
         "marker": {
          "color": [
           "blue",
           "red",
           "blue",
           "red",
           "red",
           "blue",
           "blue",
           "red",
           "red",
           "blue",
           "blue",
           "blue",
           "blue",
           "blue",
           "red",
           "red",
           "red",
           "red",
           "red",
           "red",
           "red",
           "red",
           "red",
           "red",
           "red",
           "red",
           "red",
           "red",
           "red",
           "red",
           "red",
           "red",
           "red",
           "red",
           "red",
           "red",
           "red",
           "red",
           "red",
           "red",
           "red",
           "red",
           "red",
           "red",
           "red",
           "red",
           "red",
           "red",
           "red",
           "red",
           "red",
           "red",
           "red",
           "red",
           "red",
           "blue",
           "blue",
           "blue",
           "red",
           "blue",
           "red",
           "blue",
           "blue",
           "blue",
           "blue",
           "red",
           "blue",
           "blue",
           "blue",
           "blue",
           "blue",
           "blue",
           "blue",
           "blue",
           "blue",
           "blue",
           "blue",
           "blue",
           "blue",
           "blue",
           "red",
           "red",
           "blue",
           "red",
           "red",
           "red",
           "blue",
           "red",
           "red",
           "blue",
           "blue",
           "blue",
           "red",
           "blue",
           "blue",
           "red",
           "blue",
           "blue",
           "red",
           "red",
           "red",
           "red",
           "red",
           "red",
           "red",
           "red",
           "red",
           "blue",
           "blue",
           "blue",
           "red",
           "red",
           "blue",
           "blue",
           "blue",
           "blue",
           "red",
           "blue",
           "blue",
           "red",
           "blue",
           "blue",
           "blue",
           "red",
           "blue",
           "blue",
           "blue",
           "blue",
           "blue",
           "blue",
           "red",
           "red",
           "red",
           "red",
           "red",
           "red",
           "red",
           "red",
           "red",
           "red",
           "red",
           "red",
           "blue",
           "red",
           "blue",
           "blue",
           "red",
           "red",
           "red",
           "red",
           "blue",
           "red",
           "red",
           "red",
           "red",
           "red",
           "blue",
           "blue",
           "blue",
           "blue",
           "red",
           "blue",
           "blue",
           "blue",
           "blue",
           "blue",
           "blue",
           "blue",
           "blue",
           "blue",
           "blue",
           "blue",
           "blue",
           "blue",
           "blue",
           "blue",
           "red",
           "red",
           "red",
           "blue",
           "blue",
           "blue",
           "blue",
           "blue",
           "blue",
           "blue",
           "blue",
           "blue",
           "blue",
           "red",
           "red",
           "red",
           "blue",
           "red",
           "red",
           "red",
           "red",
           "red",
           "red",
           "red",
           "blue",
           "red",
           "red",
           "blue",
           "blue",
           "red",
           "red",
           "red",
           "blue",
           "blue",
           "blue",
           "blue",
           "blue",
           "blue",
           "blue",
           "blue",
           "blue",
           "blue",
           "blue",
           "blue",
           "blue",
           "blue",
           "blue",
           "blue",
           "red",
           "red",
           "red",
           "red",
           "red",
           "red",
           "red",
           "red",
           "red",
           "red",
           "blue",
           "red",
           "red",
           "blue",
           "red",
           "blue",
           "red",
           "red",
           "red",
           "blue",
           "red",
           "red",
           "red",
           "red",
           "blue",
           "red",
           "red",
           "blue",
           "blue",
           "blue",
           "blue",
           "blue",
           "blue",
           "blue",
           "blue",
           "blue"
          ]
         },
         "name": "Momentum Factor",
         "opacity": 0.7,
         "text": [
          "0.004",
          "-0.016",
          "0.026",
          "-0.020",
          "-0.027",
          "0.014",
          "0.023",
          "-0.009",
          "-0.009",
          "0.006",
          "0.056",
          "0.049",
          "0.075",
          "0.006",
          "-0.006",
          "-0.065",
          "-0.093",
          "-0.087",
          "-0.120",
          "-0.120",
          "-0.082",
          "-0.116",
          "-0.107",
          "-0.071",
          "-0.045",
          "-0.055",
          "-0.059",
          "-0.087",
          "-0.057",
          "-0.034",
          "-0.081",
          "-0.056",
          "-0.071",
          "-0.073",
          "-0.054",
          "-0.025",
          "-0.010",
          "-0.062",
          "-0.071",
          "-0.053",
          "-0.039",
          "-0.089",
          "-0.047",
          "-0.047",
          "-0.084",
          "-0.065",
          "-0.109",
          "-0.021",
          "-0.020",
          "-0.032",
          "-0.041",
          "-0.085",
          "-0.062",
          "-0.052",
          "-0.017",
          "0.010",
          "0.005",
          "0.001",
          "-0.003",
          "0.036",
          "-0.008",
          "0.036",
          "0.033",
          "0.033",
          "0.005",
          "-0.048",
          "0.004",
          "0.061",
          "0.038",
          "0.005",
          "0.031",
          "0.032",
          "0.075",
          "0.116",
          "0.054",
          "0.069",
          "0.038",
          "0.059",
          "0.019",
          "0.006",
          "-0.031",
          "-0.010",
          "0.029",
          "-0.046",
          "-0.027",
          "-0.029",
          "0.008",
          "-0.039",
          "-0.043",
          "0.015",
          "0.006",
          "0.019",
          "-0.044",
          "0.013",
          "0.016",
          "-0.043",
          "0.009",
          "0.012",
          "-0.028",
          "-0.003",
          "-0.064",
          "-0.071",
          "-0.087",
          "-0.035",
          "-0.082",
          "-0.045",
          "-0.035",
          "0.016",
          "0.021",
          "0.020",
          "-0.001",
          "-0.025",
          "0.011",
          "0.053",
          "0.073",
          "0.068",
          "-0.000",
          "0.008",
          "0.018",
          "-0.037",
          "0.085",
          "0.043",
          "0.060",
          "-0.008",
          "0.028",
          "0.074",
          "0.011",
          "0.054",
          "0.042",
          "0.046",
          "-0.054",
          "-0.025",
          "-0.054",
          "-0.008",
          "-0.063",
          "-0.044",
          "-0.097",
          "-0.080",
          "-0.037",
          "-0.084",
          "-0.050",
          "-0.015",
          "0.002",
          "-0.055",
          "0.008",
          "0.013",
          "-0.019",
          "-0.040",
          "-0.030",
          "-0.016",
          "0.016",
          "-0.050",
          "-0.013",
          "-0.007",
          "-0.018",
          "-0.093",
          "0.014",
          "0.070",
          "0.037",
          "0.035",
          "-0.015",
          "0.023",
          "0.037",
          "0.036",
          "0.044",
          "0.044",
          "0.027",
          "0.079",
          "0.087",
          "0.048",
          "0.049",
          "0.031",
          "0.046",
          "0.025",
          "0.021",
          "0.030",
          "-0.010",
          "-0.030",
          "-0.016",
          "0.071",
          "0.091",
          "0.103",
          "0.073",
          "0.073",
          "0.055",
          "0.083",
          "0.055",
          "0.023",
          "0.045",
          "-0.067",
          "-0.005",
          "-0.025",
          "0.000",
          "-0.054",
          "-0.038",
          "-0.046",
          "-0.070",
          "-0.044",
          "-0.051",
          "-0.016",
          "0.031",
          "-0.033",
          "-0.009",
          "0.037",
          "0.039",
          "-0.021",
          "-0.011",
          "-0.013",
          "0.020",
          "0.104",
          "0.152",
          "0.162",
          "0.106",
          "0.106",
          "0.147",
          "0.211",
          "0.157",
          "0.128",
          "0.119",
          "0.037",
          "0.100",
          "0.007",
          "0.011",
          "0.002",
          "-0.042",
          "-0.051",
          "-0.008",
          "-0.032",
          "-0.020",
          "-0.014",
          "-0.070",
          "-0.030",
          "-0.060",
          "-0.028",
          "0.032",
          "-0.019",
          "-0.035",
          "0.007",
          "-0.002",
          "0.018",
          "-0.021",
          "-0.052",
          "-0.004",
          "0.026",
          "-0.010",
          "-0.023",
          "-0.011",
          "-0.020",
          "0.001",
          "-0.028",
          "-0.009",
          "0.027",
          "0.050",
          "0.051",
          "0.020",
          "0.021",
          "0.069",
          "0.048",
          "0.025",
          "0.048"
         ],
         "textfont": {
          "size": 10
         },
         "textposition": "outside",
         "type": "bar",
         "x": [
          "2023-01-02T00:00:00.000000000",
          "2023-01-03T00:00:00.000000000",
          "2023-01-04T00:00:00.000000000",
          "2023-01-05T00:00:00.000000000",
          "2023-01-06T00:00:00.000000000",
          "2023-01-09T00:00:00.000000000",
          "2023-01-10T00:00:00.000000000",
          "2023-01-11T00:00:00.000000000",
          "2023-01-12T00:00:00.000000000",
          "2023-01-13T00:00:00.000000000",
          "2023-01-16T00:00:00.000000000",
          "2023-01-17T00:00:00.000000000",
          "2023-01-18T00:00:00.000000000",
          "2023-01-19T00:00:00.000000000",
          "2023-01-20T00:00:00.000000000",
          "2023-01-23T00:00:00.000000000",
          "2023-01-24T00:00:00.000000000",
          "2023-01-25T00:00:00.000000000",
          "2023-01-26T00:00:00.000000000",
          "2023-01-27T00:00:00.000000000",
          "2023-01-30T00:00:00.000000000",
          "2023-01-31T00:00:00.000000000",
          "2023-02-01T00:00:00.000000000",
          "2023-02-02T00:00:00.000000000",
          "2023-02-03T00:00:00.000000000",
          "2023-02-06T00:00:00.000000000",
          "2023-02-07T00:00:00.000000000",
          "2023-02-08T00:00:00.000000000",
          "2023-02-09T00:00:00.000000000",
          "2023-02-10T00:00:00.000000000",
          "2023-02-13T00:00:00.000000000",
          "2023-02-14T00:00:00.000000000",
          "2023-02-15T00:00:00.000000000",
          "2023-02-16T00:00:00.000000000",
          "2023-02-17T00:00:00.000000000",
          "2023-02-20T00:00:00.000000000",
          "2023-02-21T00:00:00.000000000",
          "2023-02-22T00:00:00.000000000",
          "2023-02-23T00:00:00.000000000",
          "2023-02-24T00:00:00.000000000",
          "2023-02-27T00:00:00.000000000",
          "2023-02-28T00:00:00.000000000",
          "2023-03-01T00:00:00.000000000",
          "2023-03-02T00:00:00.000000000",
          "2023-03-03T00:00:00.000000000",
          "2023-03-06T00:00:00.000000000",
          "2023-03-07T00:00:00.000000000",
          "2023-03-08T00:00:00.000000000",
          "2023-03-09T00:00:00.000000000",
          "2023-03-10T00:00:00.000000000",
          "2023-03-13T00:00:00.000000000",
          "2023-03-14T00:00:00.000000000",
          "2023-03-15T00:00:00.000000000",
          "2023-03-16T00:00:00.000000000",
          "2023-03-17T00:00:00.000000000",
          "2023-03-20T00:00:00.000000000",
          "2023-03-21T00:00:00.000000000",
          "2023-03-22T00:00:00.000000000",
          "2023-03-23T00:00:00.000000000",
          "2023-03-24T00:00:00.000000000",
          "2023-03-27T00:00:00.000000000",
          "2023-03-28T00:00:00.000000000",
          "2023-03-29T00:00:00.000000000",
          "2023-03-30T00:00:00.000000000",
          "2023-03-31T00:00:00.000000000",
          "2023-04-03T00:00:00.000000000",
          "2023-04-04T00:00:00.000000000",
          "2023-04-05T00:00:00.000000000",
          "2023-04-06T00:00:00.000000000",
          "2023-04-07T00:00:00.000000000",
          "2023-04-10T00:00:00.000000000",
          "2023-04-11T00:00:00.000000000",
          "2023-04-12T00:00:00.000000000",
          "2023-04-13T00:00:00.000000000",
          "2023-04-14T00:00:00.000000000",
          "2023-04-17T00:00:00.000000000",
          "2023-04-18T00:00:00.000000000",
          "2023-04-19T00:00:00.000000000",
          "2023-04-20T00:00:00.000000000",
          "2023-04-21T00:00:00.000000000",
          "2023-04-24T00:00:00.000000000",
          "2023-04-25T00:00:00.000000000",
          "2023-04-26T00:00:00.000000000",
          "2023-04-27T00:00:00.000000000",
          "2023-04-28T00:00:00.000000000",
          "2023-05-01T00:00:00.000000000",
          "2023-05-02T00:00:00.000000000",
          "2023-05-03T00:00:00.000000000",
          "2023-05-04T00:00:00.000000000",
          "2023-05-05T00:00:00.000000000",
          "2023-05-08T00:00:00.000000000",
          "2023-05-09T00:00:00.000000000",
          "2023-05-10T00:00:00.000000000",
          "2023-05-11T00:00:00.000000000",
          "2023-05-12T00:00:00.000000000",
          "2023-05-15T00:00:00.000000000",
          "2023-05-16T00:00:00.000000000",
          "2023-05-17T00:00:00.000000000",
          "2023-05-18T00:00:00.000000000",
          "2023-05-19T00:00:00.000000000",
          "2023-05-22T00:00:00.000000000",
          "2023-05-23T00:00:00.000000000",
          "2023-05-24T00:00:00.000000000",
          "2023-05-25T00:00:00.000000000",
          "2023-05-26T00:00:00.000000000",
          "2023-05-29T00:00:00.000000000",
          "2023-05-30T00:00:00.000000000",
          "2023-05-31T00:00:00.000000000",
          "2023-06-01T00:00:00.000000000",
          "2023-06-02T00:00:00.000000000",
          "2023-06-05T00:00:00.000000000",
          "2023-06-06T00:00:00.000000000",
          "2023-06-07T00:00:00.000000000",
          "2023-06-08T00:00:00.000000000",
          "2023-06-09T00:00:00.000000000",
          "2023-06-12T00:00:00.000000000",
          "2023-06-13T00:00:00.000000000",
          "2023-06-14T00:00:00.000000000",
          "2023-06-15T00:00:00.000000000",
          "2023-06-16T00:00:00.000000000",
          "2023-06-19T00:00:00.000000000",
          "2023-06-20T00:00:00.000000000",
          "2023-06-21T00:00:00.000000000",
          "2023-06-22T00:00:00.000000000",
          "2023-06-23T00:00:00.000000000",
          "2023-06-26T00:00:00.000000000",
          "2023-06-27T00:00:00.000000000",
          "2023-06-28T00:00:00.000000000",
          "2023-06-29T00:00:00.000000000",
          "2023-06-30T00:00:00.000000000",
          "2023-07-03T00:00:00.000000000",
          "2023-07-04T00:00:00.000000000",
          "2023-07-05T00:00:00.000000000",
          "2023-07-06T00:00:00.000000000",
          "2023-07-07T00:00:00.000000000",
          "2023-07-10T00:00:00.000000000",
          "2023-07-11T00:00:00.000000000",
          "2023-07-12T00:00:00.000000000",
          "2023-07-13T00:00:00.000000000",
          "2023-07-14T00:00:00.000000000",
          "2023-07-17T00:00:00.000000000",
          "2023-07-18T00:00:00.000000000",
          "2023-07-19T00:00:00.000000000",
          "2023-07-20T00:00:00.000000000",
          "2023-07-21T00:00:00.000000000",
          "2023-07-24T00:00:00.000000000",
          "2023-07-25T00:00:00.000000000",
          "2023-07-26T00:00:00.000000000",
          "2023-07-27T00:00:00.000000000",
          "2023-07-28T00:00:00.000000000",
          "2023-07-31T00:00:00.000000000",
          "2023-08-01T00:00:00.000000000",
          "2023-08-02T00:00:00.000000000",
          "2023-08-03T00:00:00.000000000",
          "2023-08-04T00:00:00.000000000",
          "2023-08-07T00:00:00.000000000",
          "2023-08-08T00:00:00.000000000",
          "2023-08-09T00:00:00.000000000",
          "2023-08-10T00:00:00.000000000",
          "2023-08-11T00:00:00.000000000",
          "2023-08-14T00:00:00.000000000",
          "2023-08-15T00:00:00.000000000",
          "2023-08-16T00:00:00.000000000",
          "2023-08-17T00:00:00.000000000",
          "2023-08-18T00:00:00.000000000",
          "2023-08-21T00:00:00.000000000",
          "2023-08-22T00:00:00.000000000",
          "2023-08-23T00:00:00.000000000",
          "2023-08-24T00:00:00.000000000",
          "2023-08-25T00:00:00.000000000",
          "2023-08-28T00:00:00.000000000",
          "2023-08-29T00:00:00.000000000",
          "2023-08-30T00:00:00.000000000",
          "2023-08-31T00:00:00.000000000",
          "2023-09-01T00:00:00.000000000",
          "2023-09-04T00:00:00.000000000",
          "2023-09-05T00:00:00.000000000",
          "2023-09-06T00:00:00.000000000",
          "2023-09-07T00:00:00.000000000",
          "2023-09-08T00:00:00.000000000",
          "2023-09-11T00:00:00.000000000",
          "2023-09-12T00:00:00.000000000",
          "2023-09-13T00:00:00.000000000",
          "2023-09-14T00:00:00.000000000",
          "2023-09-15T00:00:00.000000000",
          "2023-09-18T00:00:00.000000000",
          "2023-09-19T00:00:00.000000000",
          "2023-09-20T00:00:00.000000000",
          "2023-09-21T00:00:00.000000000",
          "2023-09-22T00:00:00.000000000",
          "2023-09-25T00:00:00.000000000",
          "2023-09-26T00:00:00.000000000",
          "2023-09-27T00:00:00.000000000",
          "2023-09-28T00:00:00.000000000",
          "2023-09-29T00:00:00.000000000",
          "2023-10-02T00:00:00.000000000",
          "2023-10-03T00:00:00.000000000",
          "2023-10-04T00:00:00.000000000",
          "2023-10-05T00:00:00.000000000",
          "2023-10-06T00:00:00.000000000",
          "2023-10-09T00:00:00.000000000",
          "2023-10-10T00:00:00.000000000",
          "2023-10-11T00:00:00.000000000",
          "2023-10-12T00:00:00.000000000",
          "2023-10-13T00:00:00.000000000",
          "2023-10-16T00:00:00.000000000",
          "2023-10-17T00:00:00.000000000",
          "2023-10-18T00:00:00.000000000",
          "2023-10-19T00:00:00.000000000",
          "2023-10-20T00:00:00.000000000",
          "2023-10-23T00:00:00.000000000",
          "2023-10-24T00:00:00.000000000",
          "2023-10-25T00:00:00.000000000",
          "2023-10-26T00:00:00.000000000",
          "2023-10-27T00:00:00.000000000",
          "2023-10-30T00:00:00.000000000",
          "2023-10-31T00:00:00.000000000",
          "2023-11-01T00:00:00.000000000",
          "2023-11-02T00:00:00.000000000",
          "2023-11-03T00:00:00.000000000",
          "2023-11-06T00:00:00.000000000",
          "2023-11-07T00:00:00.000000000",
          "2023-11-08T00:00:00.000000000",
          "2023-11-09T00:00:00.000000000",
          "2023-11-10T00:00:00.000000000",
          "2023-11-13T00:00:00.000000000",
          "2023-11-14T00:00:00.000000000",
          "2023-11-15T00:00:00.000000000",
          "2023-11-16T00:00:00.000000000",
          "2023-11-17T00:00:00.000000000",
          "2023-11-20T00:00:00.000000000",
          "2023-11-21T00:00:00.000000000",
          "2023-11-22T00:00:00.000000000",
          "2023-11-23T00:00:00.000000000",
          "2023-11-24T00:00:00.000000000",
          "2023-11-27T00:00:00.000000000",
          "2023-11-28T00:00:00.000000000",
          "2023-11-29T00:00:00.000000000",
          "2023-11-30T00:00:00.000000000",
          "2023-12-01T00:00:00.000000000",
          "2023-12-04T00:00:00.000000000",
          "2023-12-05T00:00:00.000000000",
          "2023-12-06T00:00:00.000000000",
          "2023-12-07T00:00:00.000000000",
          "2023-12-08T00:00:00.000000000",
          "2023-12-11T00:00:00.000000000",
          "2023-12-12T00:00:00.000000000",
          "2023-12-13T00:00:00.000000000",
          "2023-12-14T00:00:00.000000000",
          "2023-12-15T00:00:00.000000000",
          "2023-12-18T00:00:00.000000000",
          "2023-12-19T00:00:00.000000000",
          "2023-12-20T00:00:00.000000000",
          "2023-12-21T00:00:00.000000000",
          "2023-12-22T00:00:00.000000000",
          "2023-12-25T00:00:00.000000000",
          "2023-12-26T00:00:00.000000000",
          "2023-12-27T00:00:00.000000000",
          "2023-12-28T00:00:00.000000000",
          "2023-12-29T00:00:00.000000000"
         ],
         "xaxis": "x2",
         "y": {
          "bdata": "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",
          "dtype": "f8"
         },
         "yaxis": "y3"
        },
        {
         "marker": {
          "color": [
           "gray",
           "#ef5350",
           "#26a69a",
           "#26a69a",
           "#ef5350",
           "#ef5350",
           "#26a69a",
           "#26a69a",
           "#ef5350",
           "#26a69a",
           "#ef5350",
           "#ef5350",
           "#26a69a",
           "#ef5350",
           "#ef5350",
           "#ef5350",
           "#ef5350",
           "#26a69a",
           "#ef5350",
           "#ef5350",
           "#26a69a",
           "#ef5350",
           "#26a69a",
           "#ef5350",
           "#ef5350",
           "#26a69a",
           "#ef5350",
           "#26a69a",
           "#ef5350",
           "#ef5350",
           "#ef5350",
           "#26a69a",
           "#26a69a",
           "#ef5350",
           "#26a69a",
           "#ef5350",
           "#26a69a",
           "#ef5350",
           "#ef5350",
           "#26a69a",
           "#26a69a",
           "#26a69a",
           "#ef5350",
           "#ef5350",
           "#ef5350",
           "#ef5350",
           "#ef5350",
           "#26a69a",
           "#26a69a",
           "#ef5350",
           "#26a69a",
           "#ef5350",
           "#ef5350",
           "#26a69a",
           "#26a69a",
           "#26a69a",
           "#ef5350",
           "#ef5350",
           "#26a69a",
           "#26a69a",
           "#ef5350",
           "#ef5350",
           "#ef5350",
           "#ef5350",
           "#26a69a",
           "#26a69a",
           "#ef5350",
           "#26a69a",
           "#26a69a",
           "#ef5350",
           "#26a69a",
           "#26a69a",
           "#26a69a",
           "#26a69a",
           "#ef5350",
           "#26a69a",
           "#26a69a",
           "#ef5350",
           "#26a69a",
           "#ef5350",
           "#26a69a",
           "#26a69a",
           "#26a69a",
           "#ef5350",
           "#ef5350",
           "#ef5350",
           "#26a69a",
           "#26a69a",
           "#ef5350",
           "#26a69a",
           "#26a69a",
           "#26a69a",
           "#ef5350",
           "#ef5350",
           "#ef5350",
           "#ef5350",
           "#26a69a",
           "#26a69a",
           "#ef5350",
           "#ef5350",
           "#ef5350",
           "#ef5350",
           "#ef5350",
           "#ef5350",
           "#ef5350",
           "#26a69a",
           "#26a69a",
           "#26a69a",
           "#26a69a",
           "#ef5350",
           "#ef5350",
           "#ef5350",
           "#26a69a",
           "#26a69a",
           "#ef5350",
           "#26a69a",
           "#26a69a",
           "#ef5350",
           "#26a69a",
           "#26a69a",
           "#26a69a",
           "#ef5350",
           "#26a69a",
           "#ef5350",
           "#26a69a",
           "#26a69a",
           "#ef5350",
           "#ef5350",
           "#26a69a",
           "#ef5350",
           "#ef5350",
           "#26a69a",
           "#ef5350",
           "#26a69a",
           "#ef5350",
           "#26a69a",
           "#ef5350",
           "#ef5350",
           "#26a69a",
           "#ef5350",
           "#26a69a",
           "#26a69a",
           "#ef5350",
           "#26a69a",
           "#26a69a",
           "#26a69a",
           "#ef5350",
           "#ef5350",
           "#26a69a",
           "#26a69a",
           "#26a69a",
           "#26a69a",
           "#ef5350",
           "#26a69a",
           "#26a69a",
           "#ef5350",
           "#26a69a",
           "#26a69a",
           "#ef5350",
           "#26a69a",
           "#ef5350",
           "#26a69a",
           "#26a69a",
           "#ef5350",
           "#26a69a",
           "#26a69a",
           "#26a69a",
           "#26a69a",
           "#ef5350",
           "#ef5350",
           "#ef5350",
           "#ef5350",
           "#ef5350",
           "#26a69a",
           "#26a69a",
           "#26a69a",
           "#26a69a",
           "#26a69a",
           "#ef5350",
           "#26a69a",
           "#26a69a",
           "#ef5350",
           "#ef5350",
           "#26a69a",
           "#ef5350",
           "#26a69a",
           "#26a69a",
           "#ef5350",
           "#ef5350",
           "#ef5350",
           "#ef5350",
           "#26a69a",
           "#26a69a",
           "#ef5350",
           "#26a69a",
           "#26a69a",
           "#ef5350",
           "#26a69a",
           "#26a69a",
           "#ef5350",
           "#26a69a",
           "#26a69a",
           "#26a69a",
           "#26a69a",
           "#ef5350",
           "#ef5350",
           "#26a69a",
           "#26a69a",
           "#26a69a",
           "#26a69a",
           "#26a69a",
           "#26a69a",
           "#26a69a",
           "#26a69a",
           "#ef5350",
           "#26a69a",
           "#ef5350",
           "#ef5350",
           "#ef5350",
           "#26a69a",
           "#26a69a",
           "#ef5350",
           "#26a69a",
           "#ef5350",
           "#ef5350",
           "#26a69a",
           "#26a69a",
           "#ef5350",
           "#ef5350",
           "#26a69a",
           "#ef5350",
           "#26a69a",
           "#26a69a",
           "#ef5350",
           "#26a69a",
           "#26a69a",
           "#ef5350",
           "#26a69a",
           "#ef5350",
           "#26a69a",
           "#ef5350",
           "#ef5350",
           "#26a69a",
           "#26a69a",
           "#ef5350",
           "#ef5350",
           "#ef5350",
           "#ef5350",
           "#26a69a",
           "#26a69a",
           "#ef5350",
           "#26a69a",
           "#26a69a",
           "#26a69a",
           "#ef5350",
           "#ef5350",
           "#26a69a",
           "#ef5350",
           "#26a69a",
           "#26a69a"
          ]
         },
         "name": "Volume",
         "opacity": 0.6,
         "type": "bar",
         "x": [
          "2023-01-02T00:00:00.000000000",
          "2023-01-03T00:00:00.000000000",
          "2023-01-04T00:00:00.000000000",
          "2023-01-05T00:00:00.000000000",
          "2023-01-06T00:00:00.000000000",
          "2023-01-09T00:00:00.000000000",
          "2023-01-10T00:00:00.000000000",
          "2023-01-11T00:00:00.000000000",
          "2023-01-12T00:00:00.000000000",
          "2023-01-13T00:00:00.000000000",
          "2023-01-16T00:00:00.000000000",
          "2023-01-17T00:00:00.000000000",
          "2023-01-18T00:00:00.000000000",
          "2023-01-19T00:00:00.000000000",
          "2023-01-20T00:00:00.000000000",
          "2023-01-23T00:00:00.000000000",
          "2023-01-24T00:00:00.000000000",
          "2023-01-25T00:00:00.000000000",
          "2023-01-26T00:00:00.000000000",
          "2023-01-27T00:00:00.000000000",
          "2023-01-30T00:00:00.000000000",
          "2023-01-31T00:00:00.000000000",
          "2023-02-01T00:00:00.000000000",
          "2023-02-02T00:00:00.000000000",
          "2023-02-03T00:00:00.000000000",
          "2023-02-06T00:00:00.000000000",
          "2023-02-07T00:00:00.000000000",
          "2023-02-08T00:00:00.000000000",
          "2023-02-09T00:00:00.000000000",
          "2023-02-10T00:00:00.000000000",
          "2023-02-13T00:00:00.000000000",
          "2023-02-14T00:00:00.000000000",
          "2023-02-15T00:00:00.000000000",
          "2023-02-16T00:00:00.000000000",
          "2023-02-17T00:00:00.000000000",
          "2023-02-20T00:00:00.000000000",
          "2023-02-21T00:00:00.000000000",
          "2023-02-22T00:00:00.000000000",
          "2023-02-23T00:00:00.000000000",
          "2023-02-24T00:00:00.000000000",
          "2023-02-27T00:00:00.000000000",
          "2023-02-28T00:00:00.000000000",
          "2023-03-01T00:00:00.000000000",
          "2023-03-02T00:00:00.000000000",
          "2023-03-03T00:00:00.000000000",
          "2023-03-06T00:00:00.000000000",
          "2023-03-07T00:00:00.000000000",
          "2023-03-08T00:00:00.000000000",
          "2023-03-09T00:00:00.000000000",
          "2023-03-10T00:00:00.000000000",
          "2023-03-13T00:00:00.000000000",
          "2023-03-14T00:00:00.000000000",
          "2023-03-15T00:00:00.000000000",
          "2023-03-16T00:00:00.000000000",
          "2023-03-17T00:00:00.000000000",
          "2023-03-20T00:00:00.000000000",
          "2023-03-21T00:00:00.000000000",
          "2023-03-22T00:00:00.000000000",
          "2023-03-23T00:00:00.000000000",
          "2023-03-24T00:00:00.000000000",
          "2023-03-27T00:00:00.000000000",
          "2023-03-28T00:00:00.000000000",
          "2023-03-29T00:00:00.000000000",
          "2023-03-30T00:00:00.000000000",
          "2023-03-31T00:00:00.000000000",
          "2023-04-03T00:00:00.000000000",
          "2023-04-04T00:00:00.000000000",
          "2023-04-05T00:00:00.000000000",
          "2023-04-06T00:00:00.000000000",
          "2023-04-07T00:00:00.000000000",
          "2023-04-10T00:00:00.000000000",
          "2023-04-11T00:00:00.000000000",
          "2023-04-12T00:00:00.000000000",
          "2023-04-13T00:00:00.000000000",
          "2023-04-14T00:00:00.000000000",
          "2023-04-17T00:00:00.000000000",
          "2023-04-18T00:00:00.000000000",
          "2023-04-19T00:00:00.000000000",
          "2023-04-20T00:00:00.000000000",
          "2023-04-21T00:00:00.000000000",
          "2023-04-24T00:00:00.000000000",
          "2023-04-25T00:00:00.000000000",
          "2023-04-26T00:00:00.000000000",
          "2023-04-27T00:00:00.000000000",
          "2023-04-28T00:00:00.000000000",
          "2023-05-01T00:00:00.000000000",
          "2023-05-02T00:00:00.000000000",
          "2023-05-03T00:00:00.000000000",
          "2023-05-04T00:00:00.000000000",
          "2023-05-05T00:00:00.000000000",
          "2023-05-08T00:00:00.000000000",
          "2023-05-09T00:00:00.000000000",
          "2023-05-10T00:00:00.000000000",
          "2023-05-11T00:00:00.000000000",
          "2023-05-12T00:00:00.000000000",
          "2023-05-15T00:00:00.000000000",
          "2023-05-16T00:00:00.000000000",
          "2023-05-17T00:00:00.000000000",
          "2023-05-18T00:00:00.000000000",
          "2023-05-19T00:00:00.000000000",
          "2023-05-22T00:00:00.000000000",
          "2023-05-23T00:00:00.000000000",
          "2023-05-24T00:00:00.000000000",
          "2023-05-25T00:00:00.000000000",
          "2023-05-26T00:00:00.000000000",
          "2023-05-29T00:00:00.000000000",
          "2023-05-30T00:00:00.000000000",
          "2023-05-31T00:00:00.000000000",
          "2023-06-01T00:00:00.000000000",
          "2023-06-02T00:00:00.000000000",
          "2023-06-05T00:00:00.000000000",
          "2023-06-06T00:00:00.000000000",
          "2023-06-07T00:00:00.000000000",
          "2023-06-08T00:00:00.000000000",
          "2023-06-09T00:00:00.000000000",
          "2023-06-12T00:00:00.000000000",
          "2023-06-13T00:00:00.000000000",
          "2023-06-14T00:00:00.000000000",
          "2023-06-15T00:00:00.000000000",
          "2023-06-16T00:00:00.000000000",
          "2023-06-19T00:00:00.000000000",
          "2023-06-20T00:00:00.000000000",
          "2023-06-21T00:00:00.000000000",
          "2023-06-22T00:00:00.000000000",
          "2023-06-23T00:00:00.000000000",
          "2023-06-26T00:00:00.000000000",
          "2023-06-27T00:00:00.000000000",
          "2023-06-28T00:00:00.000000000",
          "2023-06-29T00:00:00.000000000",
          "2023-06-30T00:00:00.000000000",
          "2023-07-03T00:00:00.000000000",
          "2023-07-04T00:00:00.000000000",
          "2023-07-05T00:00:00.000000000",
          "2023-07-06T00:00:00.000000000",
          "2023-07-07T00:00:00.000000000",
          "2023-07-10T00:00:00.000000000",
          "2023-07-11T00:00:00.000000000",
          "2023-07-12T00:00:00.000000000",
          "2023-07-13T00:00:00.000000000",
          "2023-07-14T00:00:00.000000000",
          "2023-07-17T00:00:00.000000000",
          "2023-07-18T00:00:00.000000000",
          "2023-07-19T00:00:00.000000000",
          "2023-07-20T00:00:00.000000000",
          "2023-07-21T00:00:00.000000000",
          "2023-07-24T00:00:00.000000000",
          "2023-07-25T00:00:00.000000000",
          "2023-07-26T00:00:00.000000000",
          "2023-07-27T00:00:00.000000000",
          "2023-07-28T00:00:00.000000000",
          "2023-07-31T00:00:00.000000000",
          "2023-08-01T00:00:00.000000000",
          "2023-08-02T00:00:00.000000000",
          "2023-08-03T00:00:00.000000000",
          "2023-08-04T00:00:00.000000000",
          "2023-08-07T00:00:00.000000000",
          "2023-08-08T00:00:00.000000000",
          "2023-08-09T00:00:00.000000000",
          "2023-08-10T00:00:00.000000000",
          "2023-08-11T00:00:00.000000000",
          "2023-08-14T00:00:00.000000000",
          "2023-08-15T00:00:00.000000000",
          "2023-08-16T00:00:00.000000000",
          "2023-08-17T00:00:00.000000000",
          "2023-08-18T00:00:00.000000000",
          "2023-08-21T00:00:00.000000000",
          "2023-08-22T00:00:00.000000000",
          "2023-08-23T00:00:00.000000000",
          "2023-08-24T00:00:00.000000000",
          "2023-08-25T00:00:00.000000000",
          "2023-08-28T00:00:00.000000000",
          "2023-08-29T00:00:00.000000000",
          "2023-08-30T00:00:00.000000000",
          "2023-08-31T00:00:00.000000000",
          "2023-09-01T00:00:00.000000000",
          "2023-09-04T00:00:00.000000000",
          "2023-09-05T00:00:00.000000000",
          "2023-09-06T00:00:00.000000000",
          "2023-09-07T00:00:00.000000000",
          "2023-09-08T00:00:00.000000000",
          "2023-09-11T00:00:00.000000000",
          "2023-09-12T00:00:00.000000000",
          "2023-09-13T00:00:00.000000000",
          "2023-09-14T00:00:00.000000000",
          "2023-09-15T00:00:00.000000000",
          "2023-09-18T00:00:00.000000000",
          "2023-09-19T00:00:00.000000000",
          "2023-09-20T00:00:00.000000000",
          "2023-09-21T00:00:00.000000000",
          "2023-09-22T00:00:00.000000000",
          "2023-09-25T00:00:00.000000000",
          "2023-09-26T00:00:00.000000000",
          "2023-09-27T00:00:00.000000000",
          "2023-09-28T00:00:00.000000000",
          "2023-09-29T00:00:00.000000000",
          "2023-10-02T00:00:00.000000000",
          "2023-10-03T00:00:00.000000000",
          "2023-10-04T00:00:00.000000000",
          "2023-10-05T00:00:00.000000000",
          "2023-10-06T00:00:00.000000000",
          "2023-10-09T00:00:00.000000000",
          "2023-10-10T00:00:00.000000000",
          "2023-10-11T00:00:00.000000000",
          "2023-10-12T00:00:00.000000000",
          "2023-10-13T00:00:00.000000000",
          "2023-10-16T00:00:00.000000000",
          "2023-10-17T00:00:00.000000000",
          "2023-10-18T00:00:00.000000000",
          "2023-10-19T00:00:00.000000000",
          "2023-10-20T00:00:00.000000000",
          "2023-10-23T00:00:00.000000000",
          "2023-10-24T00:00:00.000000000",
          "2023-10-25T00:00:00.000000000",
          "2023-10-26T00:00:00.000000000",
          "2023-10-27T00:00:00.000000000",
          "2023-10-30T00:00:00.000000000",
          "2023-10-31T00:00:00.000000000",
          "2023-11-01T00:00:00.000000000",
          "2023-11-02T00:00:00.000000000",
          "2023-11-03T00:00:00.000000000",
          "2023-11-06T00:00:00.000000000",
          "2023-11-07T00:00:00.000000000",
          "2023-11-08T00:00:00.000000000",
          "2023-11-09T00:00:00.000000000",
          "2023-11-10T00:00:00.000000000",
          "2023-11-13T00:00:00.000000000",
          "2023-11-14T00:00:00.000000000",
          "2023-11-15T00:00:00.000000000",
          "2023-11-16T00:00:00.000000000",
          "2023-11-17T00:00:00.000000000",
          "2023-11-20T00:00:00.000000000",
          "2023-11-21T00:00:00.000000000",
          "2023-11-22T00:00:00.000000000",
          "2023-11-23T00:00:00.000000000",
          "2023-11-24T00:00:00.000000000",
          "2023-11-27T00:00:00.000000000",
          "2023-11-28T00:00:00.000000000",
          "2023-11-29T00:00:00.000000000",
          "2023-11-30T00:00:00.000000000",
          "2023-12-01T00:00:00.000000000",
          "2023-12-04T00:00:00.000000000",
          "2023-12-05T00:00:00.000000000",
          "2023-12-06T00:00:00.000000000",
          "2023-12-07T00:00:00.000000000",
          "2023-12-08T00:00:00.000000000",
          "2023-12-11T00:00:00.000000000",
          "2023-12-12T00:00:00.000000000",
          "2023-12-13T00:00:00.000000000",
          "2023-12-14T00:00:00.000000000",
          "2023-12-15T00:00:00.000000000",
          "2023-12-18T00:00:00.000000000",
          "2023-12-19T00:00:00.000000000",
          "2023-12-20T00:00:00.000000000",
          "2023-12-21T00:00:00.000000000",
          "2023-12-22T00:00:00.000000000",
          "2023-12-25T00:00:00.000000000",
          "2023-12-26T00:00:00.000000000",
          "2023-12-27T00:00:00.000000000",
          "2023-12-28T00:00:00.000000000",
          "2023-12-29T00:00:00.000000000"
         ],
         "xaxis": "x3",
         "y": {
          "bdata": "bMYTADW7EAB5OA0AiE4oAEZBFQBqpwwA2HcLAESrGgBg1AwAQIASAPc3EwCILBUA22AIAHynIABawCMAOWAKAO4gDQANFAoAcN8LAJZxKQBNhRsAjGUIAAvJFgCWRxMAiBYiABGUHgCfghwA/cAfAHfeDQDBWSAAcCINAFSWDAAlFgsAZdMhABYXIQCkJyMAg7YWAJZHDwDVhCQAsA4LAAJICQBfQx0AzbgWAO5YFACUcQ4AElMhAGCkCQA+/gwApkEZAPwMDQCiWA0AoP4TAD4tFwAVxg8AeecSAITqCwAtqgwArOIQAAUnDABvhQ4ANJoSAOs0HgAoJw8AglINANxJFgCBFAwAHKQVACZYIQB2FxsAy/sNAO+dFQBonhgA40UTALjLJwBGDBkAL+AkAGl6GQAVjBAAVcgYAE4cFAAvhxEA88cUALIHHABueBcAWqkiAFy+CwAD1RIALukQAO1gFABdNiAA54AXAIfsFwDC3iAAzycWAHlVFgC5ExYASfQLAIufDQB3JQ0AaVIcABc5JgCPNx0AmAwPADtnEQB/lwgALMELAD7cKQCspxcA9EoeAD+xCwDfvgwARUYNAF2TDgCxRycAMFYYAIAuGgAQfhoAMVMUAIGJHwDM3Q8A5UgKAM/JIgC4EhkAOUoLAIAqGwD/BR8A7AIdAIV7IgDtihYAxKUOAJT7EQCkoAwAxWEXAEJIIAB+fA4ANEwMAFdSDQDL9hYAzsIMANOMDAA+GBQApKIYAJm5HAAqVxwAjJ8YAAQVIQAJUyIAeg4dABSBFgCIyB8AvtEeAN/pCQCcNSAA7aYIAE83EwCimhsA8UAQAFfVEgB0twoAMd0iAG5RIQD6jCIAFY0NANrrCgCqgxYACSgaAGQ+DAAUch4A2dIJAEdCHgCLwBwAi6wcACGqHACUJRUAv/cLAGkxDgC4RhgA5LsMAK07EgD4iS4AYekdAPPuIQBaRg0AibIhADvJHAD8XA0A9tQQAMA1DQDmBBAAWqcLAJYVHQCLnxAA6OUKAPtPCwDCFxQAlRMQAGvoCwAaQxgApuAUANphFQC/dwkA+GEXAL4lHQCydCEAV1kVAOr9DwDc+RkA+hkWACLxEgADejMAFfkeACyZEgDNfBsAzSAOAM17CgBngB8AGBUZANalFgDqkQ4Ag1gXAOocEgAXvgwAxREVAJ/kIAAl4yEAPC0MAGmnEwANHhkACQkbAArnFwBELhUAJjQeAGj9HAAKQQsAV58kAKihFQC4Ch0A3f0MAMBXHgAhGA4AWtEfAKkUDACSVwoAA/kRAB4+EACgrRsA1lEaAMd1FgAn7xgAmzEdAONsGABEugkAP3cpAInqHAAh5CIAi/wOABRYJQBH4AwAN6AKANotIwA=",
          "dtype": "i4"
         },
         "yaxis": "y4"
        }
       ],
       "layout": {
        "annotations": [
         {
          "font": {
           "size": 16
          },
          "showarrow": false,
          "text": "EXAMPLE Price & Momentum Factor",
          "x": 0.47,
          "xanchor": "center",
          "xref": "paper",
          "y": 1,
          "yanchor": "bottom",
          "yref": "paper"
         },
         {
          "font": {
           "size": 16
          },
          "showarrow": false,
          "text": "Momentum Factor Values",
          "x": 0.47,
          "xanchor": "center",
          "xref": "paper",
          "y": 0.41000000000000003,
          "yanchor": "bottom",
          "yref": "paper"
         },
         {
          "font": {
           "size": 16
          },
          "showarrow": false,
          "text": "Volume",
          "x": 0.47,
          "xanchor": "center",
          "xref": "paper",
          "y": 0.135,
          "yanchor": "bottom",
          "yref": "paper"
         }
        ],
        "height": 800,
        "hovermode": "x unified",
        "shapes": [
         {
          "line": {
           "color": "gray",
           "dash": "dash"
          },
          "opacity": 0.5,
          "type": "line",
          "x0": 0,
          "x1": 1,
          "xref": "x2 domain",
          "y0": 0,
          "y1": 0,
          "yref": "y3"
         }
        ],
        "showlegend": true,
        "template": {
         "data": {
          "bar": [
           {
            "error_x": {
             "color": "#2a3f5f"
            },
            "error_y": {
             "color": "#2a3f5f"
            },
            "marker": {
             "line": {
              "color": "#E5ECF6",
              "width": 0.5
             },
             "pattern": {
              "fillmode": "overlay",
              "size": 10,
              "solidity": 0.2
             }
            },
            "type": "bar"
           }
          ],
          "barpolar": [
           {
            "marker": {
             "line": {
              "color": "#E5ECF6",
              "width": 0.5
             },
             "pattern": {
              "fillmode": "overlay",
              "size": 10,
              "solidity": 0.2
             }
            },
            "type": "barpolar"
           }
          ],
          "carpet": [
           {
            "aaxis": {
             "endlinecolor": "#2a3f5f",
             "gridcolor": "white",
             "linecolor": "white",
             "minorgridcolor": "white",
             "startlinecolor": "#2a3f5f"
            },
            "baxis": {
             "endlinecolor": "#2a3f5f",
             "gridcolor": "white",
             "linecolor": "white",
             "minorgridcolor": "white",
             "startlinecolor": "#2a3f5f"
            },
            "type": "carpet"
           }
          ],
          "choropleth": [
           {
            "colorbar": {
             "outlinewidth": 0,
             "ticks": ""
            },
            "type": "choropleth"
           }
          ],
          "contour": [
           {
            "colorbar": {
             "outlinewidth": 0,
             "ticks": ""
            },
            "colorscale": [
             [
              0,
              "#0d0887"
             ],
             [
              0.1111111111111111,
              "#46039f"
             ],
             [
              0.2222222222222222,
              "#7201a8"
             ],
             [
              0.3333333333333333,
              "#9c179e"
             ],
             [
              0.4444444444444444,
              "#bd3786"
             ],
             [
              0.5555555555555556,
              "#d8576b"
             ],
             [
              0.6666666666666666,
              "#ed7953"
             ],
             [
              0.7777777777777778,
              "#fb9f3a"
             ],
             [
              0.8888888888888888,
              "#fdca26"
             ],
             [
              1,
              "#f0f921"
             ]
            ],
            "type": "contour"
           }
          ],
          "contourcarpet": [
           {
            "colorbar": {
             "outlinewidth": 0,
             "ticks": ""
            },
            "type": "contourcarpet"
           }
          ],
          "heatmap": [
           {
            "colorbar": {
             "outlinewidth": 0,
             "ticks": ""
            },
            "colorscale": [
             [
              0,
              "#0d0887"
             ],
             [
              0.1111111111111111,
              "#46039f"
             ],
             [
              0.2222222222222222,
              "#7201a8"
             ],
             [
              0.3333333333333333,
              "#9c179e"
             ],
             [
              0.4444444444444444,
              "#bd3786"
             ],
             [
              0.5555555555555556,
              "#d8576b"
             ],
             [
              0.6666666666666666,
              "#ed7953"
             ],
             [
              0.7777777777777778,
              "#fb9f3a"
             ],
             [
              0.8888888888888888,
              "#fdca26"
             ],
             [
              1,
              "#f0f921"
             ]
            ],
            "type": "heatmap"
           }
          ],
          "histogram": [
           {
            "marker": {
             "pattern": {
              "fillmode": "overlay",
              "size": 10,
              "solidity": 0.2
             }
            },
            "type": "histogram"
           }
          ],
          "histogram2d": [
           {
            "colorbar": {
             "outlinewidth": 0,
             "ticks": ""
            },
            "colorscale": [
             [
              0,
              "#0d0887"
             ],
             [
              0.1111111111111111,
              "#46039f"
             ],
             [
              0.2222222222222222,
              "#7201a8"
             ],
             [
              0.3333333333333333,
              "#9c179e"
             ],
             [
              0.4444444444444444,
              "#bd3786"
             ],
             [
              0.5555555555555556,
              "#d8576b"
             ],
             [
              0.6666666666666666,
              "#ed7953"
             ],
             [
              0.7777777777777778,
              "#fb9f3a"
             ],
             [
              0.8888888888888888,
              "#fdca26"
             ],
             [
              1,
              "#f0f921"
             ]
            ],
            "type": "histogram2d"
           }
          ],
          "histogram2dcontour": [
           {
            "colorbar": {
             "outlinewidth": 0,
             "ticks": ""
            },
            "colorscale": [
             [
              0,
              "#0d0887"
             ],
             [
              0.1111111111111111,
              "#46039f"
             ],
             [
              0.2222222222222222,
              "#7201a8"
             ],
             [
              0.3333333333333333,
              "#9c179e"
             ],
             [
              0.4444444444444444,
              "#bd3786"
             ],
             [
              0.5555555555555556,
              "#d8576b"
             ],
             [
              0.6666666666666666,
              "#ed7953"
             ],
             [
              0.7777777777777778,
              "#fb9f3a"
             ],
             [
              0.8888888888888888,
              "#fdca26"
             ],
             [
              1,
              "#f0f921"
             ]
            ],
            "type": "histogram2dcontour"
           }
          ],
          "mesh3d": [
           {
            "colorbar": {
             "outlinewidth": 0,
             "ticks": ""
            },
            "type": "mesh3d"
           }
          ],
          "parcoords": [
           {
            "line": {
             "colorbar": {
              "outlinewidth": 0,
              "ticks": ""
             }
            },
            "type": "parcoords"
           }
          ],
          "pie": [
           {
            "automargin": true,
            "type": "pie"
           }
          ],
          "scatter": [
           {
            "fillpattern": {
             "fillmode": "overlay",
             "size": 10,
             "solidity": 0.2
            },
            "type": "scatter"
           }
          ],
          "scatter3d": [
           {
            "line": {
             "colorbar": {
              "outlinewidth": 0,
              "ticks": ""
             }
            },
            "marker": {
             "colorbar": {
              "outlinewidth": 0,
              "ticks": ""
             }
            },
            "type": "scatter3d"
           }
          ],
          "scattercarpet": [
           {
            "marker": {
             "colorbar": {
              "outlinewidth": 0,
              "ticks": ""
             }
            },
            "type": "scattercarpet"
           }
          ],
          "scattergeo": [
           {
            "marker": {
             "colorbar": {
              "outlinewidth": 0,
              "ticks": ""
             }
            },
            "type": "scattergeo"
           }
          ],
          "scattergl": [
           {
            "marker": {
             "colorbar": {
              "outlinewidth": 0,
              "ticks": ""
             }
            },
            "type": "scattergl"
           }
          ],
          "scattermap": [
           {
            "marker": {
             "colorbar": {
              "outlinewidth": 0,
              "ticks": ""
             }
            },
            "type": "scattermap"
           }
          ],
          "scattermapbox": [
           {
            "marker": {
             "colorbar": {
              "outlinewidth": 0,
              "ticks": ""
             }
            },
            "type": "scattermapbox"
           }
          ],
          "scatterpolar": [
           {
            "marker": {
             "colorbar": {
              "outlinewidth": 0,
              "ticks": ""
             }
            },
            "type": "scatterpolar"
           }
          ],
          "scatterpolargl": [
           {
            "marker": {
             "colorbar": {
              "outlinewidth": 0,
              "ticks": ""
             }
            },
            "type": "scatterpolargl"
           }
          ],
          "scatterternary": [
           {
            "marker": {
             "colorbar": {
              "outlinewidth": 0,
              "ticks": ""
             }
            },
            "type": "scatterternary"
           }
          ],
          "surface": [
           {
            "colorbar": {
             "outlinewidth": 0,
             "ticks": ""
            },
            "colorscale": [
             [
              0,
              "#0d0887"
             ],
             [
              0.1111111111111111,
              "#46039f"
             ],
             [
              0.2222222222222222,
              "#7201a8"
             ],
             [
              0.3333333333333333,
              "#9c179e"
             ],
             [
              0.4444444444444444,
              "#bd3786"
             ],
             [
              0.5555555555555556,
              "#d8576b"
             ],
             [
              0.6666666666666666,
              "#ed7953"
             ],
             [
              0.7777777777777778,
              "#fb9f3a"
             ],
             [
              0.8888888888888888,
              "#fdca26"
             ],
             [
              1,
              "#f0f921"
             ]
            ],
            "type": "surface"
           }
          ],
          "table": [
           {
            "cells": {
             "fill": {
              "color": "#EBF0F8"
             },
             "line": {
              "color": "white"
             }
            },
            "header": {
             "fill": {
              "color": "#C8D4E3"
             },
             "line": {
              "color": "white"
             }
            },
            "type": "table"
           }
          ]
         },
         "layout": {
          "annotationdefaults": {
           "arrowcolor": "#2a3f5f",
           "arrowhead": 0,
           "arrowwidth": 1
          },
          "autotypenumbers": "strict",
          "coloraxis": {
           "colorbar": {
            "outlinewidth": 0,
            "ticks": ""
           }
          },
          "colorscale": {
           "diverging": [
            [
             0,
             "#8e0152"
            ],
            [
             0.1,
             "#c51b7d"
            ],
            [
             0.2,
             "#de77ae"
            ],
            [
             0.3,
             "#f1b6da"
            ],
            [
             0.4,
             "#fde0ef"
            ],
            [
             0.5,
             "#f7f7f7"
            ],
            [
             0.6,
             "#e6f5d0"
            ],
            [
             0.7,
             "#b8e186"
            ],
            [
             0.8,
             "#7fbc41"
            ],
            [
             0.9,
             "#4d9221"
            ],
            [
             1,
             "#276419"
            ]
           ],
           "sequential": [
            [
             0,
             "#0d0887"
            ],
            [
             0.1111111111111111,
             "#46039f"
            ],
            [
             0.2222222222222222,
             "#7201a8"
            ],
            [
             0.3333333333333333,
             "#9c179e"
            ],
            [
             0.4444444444444444,
             "#bd3786"
            ],
            [
             0.5555555555555556,
             "#d8576b"
            ],
            [
             0.6666666666666666,
             "#ed7953"
            ],
            [
             0.7777777777777778,
             "#fb9f3a"
            ],
            [
             0.8888888888888888,
             "#fdca26"
            ],
            [
             1,
             "#f0f921"
            ]
           ],
           "sequentialminus": [
            [
             0,
             "#0d0887"
            ],
            [
             0.1111111111111111,
             "#46039f"
            ],
            [
             0.2222222222222222,
             "#7201a8"
            ],
            [
             0.3333333333333333,
             "#9c179e"
            ],
            [
             0.4444444444444444,
             "#bd3786"
            ],
            [
             0.5555555555555556,
             "#d8576b"
            ],
            [
             0.6666666666666666,
             "#ed7953"
            ],
            [
             0.7777777777777778,
             "#fb9f3a"
            ],
            [
             0.8888888888888888,
             "#fdca26"
            ],
            [
             1,
             "#f0f921"
            ]
           ]
          },
          "colorway": [
           "#636efa",
           "#EF553B",
           "#00cc96",
           "#ab63fa",
           "#FFA15A",
           "#19d3f3",
           "#FF6692",
           "#B6E880",
           "#FF97FF",
           "#FECB52"
          ],
          "font": {
           "color": "#2a3f5f"
          },
          "geo": {
           "bgcolor": "white",
           "lakecolor": "white",
           "landcolor": "#E5ECF6",
           "showlakes": true,
           "showland": true,
           "subunitcolor": "white"
          },
          "hoverlabel": {
           "align": "left"
          },
          "hovermode": "closest",
          "mapbox": {
           "style": "light"
          },
          "paper_bgcolor": "white",
          "plot_bgcolor": "#E5ECF6",
          "polar": {
           "angularaxis": {
            "gridcolor": "white",
            "linecolor": "white",
            "ticks": ""
           },
           "bgcolor": "#E5ECF6",
           "radialaxis": {
            "gridcolor": "white",
            "linecolor": "white",
            "ticks": ""
           }
          },
          "scene": {
           "xaxis": {
            "backgroundcolor": "#E5ECF6",
            "gridcolor": "white",
            "gridwidth": 2,
            "linecolor": "white",
            "showbackground": true,
            "ticks": "",
            "zerolinecolor": "white"
           },
           "yaxis": {
            "backgroundcolor": "#E5ECF6",
            "gridcolor": "white",
            "gridwidth": 2,
            "linecolor": "white",
            "showbackground": true,
            "ticks": "",
            "zerolinecolor": "white"
           },
           "zaxis": {
            "backgroundcolor": "#E5ECF6",
            "gridcolor": "white",
            "gridwidth": 2,
            "linecolor": "white",
            "showbackground": true,
            "ticks": "",
            "zerolinecolor": "white"
           }
          },
          "shapedefaults": {
           "line": {
            "color": "#2a3f5f"
           }
          },
          "ternary": {
           "aaxis": {
            "gridcolor": "white",
            "linecolor": "white",
            "ticks": ""
           },
           "baxis": {
            "gridcolor": "white",
            "linecolor": "white",
            "ticks": ""
           },
           "bgcolor": "#E5ECF6",
           "caxis": {
            "gridcolor": "white",
            "linecolor": "white",
            "ticks": ""
           }
          },
          "title": {
           "x": 0.05
          },
          "xaxis": {
           "automargin": true,
           "gridcolor": "white",
           "linecolor": "white",
           "ticks": "",
           "title": {
            "standoff": 15
           },
           "zerolinecolor": "white",
           "zerolinewidth": 2
          },
          "yaxis": {
           "automargin": true,
           "gridcolor": "white",
           "linecolor": "white",
           "ticks": "",
           "title": {
            "standoff": 15
           },
           "zerolinecolor": "white",
           "zerolinewidth": 2
          }
         }
        },
        "title": {
         "font": {
          "size": 20
         },
         "text": "Example: Momentum Factor vs Stock Price",
         "x": 0.5
        },
        "xaxis": {
         "anchor": "y",
         "domain": [
          0,
          0.94
         ],
         "matches": "x3",
         "rangebreaks": [
          {
           "values": [
            "2023-01-07T00:00:00",
            "2023-01-08T00:00:00",
            "2023-01-14T00:00:00",
            "2023-01-15T00:00:00",
            "2023-01-21T00:00:00",
            "2023-01-22T00:00:00",
            "2023-01-28T00:00:00",
            "2023-01-29T00:00:00",
            "2023-02-04T00:00:00",
            "2023-02-05T00:00:00",
            "2023-02-11T00:00:00",
            "2023-02-12T00:00:00",
            "2023-02-18T00:00:00",
            "2023-02-19T00:00:00",
            "2023-02-25T00:00:00",
            "2023-02-26T00:00:00",
            "2023-03-04T00:00:00",
            "2023-03-05T00:00:00",
            "2023-03-11T00:00:00",
            "2023-03-12T00:00:00",
            "2023-03-18T00:00:00",
            "2023-03-19T00:00:00",
            "2023-03-25T00:00:00",
            "2023-03-26T00:00:00",
            "2023-04-01T00:00:00",
            "2023-04-02T00:00:00",
            "2023-04-08T00:00:00",
            "2023-04-09T00:00:00",
            "2023-04-15T00:00:00",
            "2023-04-16T00:00:00",
            "2023-04-22T00:00:00",
            "2023-04-23T00:00:00",
            "2023-04-29T00:00:00",
            "2023-04-30T00:00:00",
            "2023-05-06T00:00:00",
            "2023-05-07T00:00:00",
            "2023-05-13T00:00:00",
            "2023-05-14T00:00:00",
            "2023-05-20T00:00:00",
            "2023-05-21T00:00:00",
            "2023-05-27T00:00:00",
            "2023-05-28T00:00:00",
            "2023-06-03T00:00:00",
            "2023-06-04T00:00:00",
            "2023-06-10T00:00:00",
            "2023-06-11T00:00:00",
            "2023-06-17T00:00:00",
            "2023-06-18T00:00:00",
            "2023-06-24T00:00:00",
            "2023-06-25T00:00:00",
            "2023-07-01T00:00:00",
            "2023-07-02T00:00:00",
            "2023-07-08T00:00:00",
            "2023-07-09T00:00:00",
            "2023-07-15T00:00:00",
            "2023-07-16T00:00:00",
            "2023-07-22T00:00:00",
            "2023-07-23T00:00:00",
            "2023-07-29T00:00:00",
            "2023-07-30T00:00:00",
            "2023-08-05T00:00:00",
            "2023-08-06T00:00:00",
            "2023-08-12T00:00:00",
            "2023-08-13T00:00:00",
            "2023-08-19T00:00:00",
            "2023-08-20T00:00:00",
            "2023-08-26T00:00:00",
            "2023-08-27T00:00:00",
            "2023-09-02T00:00:00",
            "2023-09-03T00:00:00",
            "2023-09-09T00:00:00",
            "2023-09-10T00:00:00",
            "2023-09-16T00:00:00",
            "2023-09-17T00:00:00",
            "2023-09-23T00:00:00",
            "2023-09-24T00:00:00",
            "2023-09-30T00:00:00",
            "2023-10-01T00:00:00",
            "2023-10-07T00:00:00",
            "2023-10-08T00:00:00",
            "2023-10-14T00:00:00",
            "2023-10-15T00:00:00",
            "2023-10-21T00:00:00",
            "2023-10-22T00:00:00",
            "2023-10-28T00:00:00",
            "2023-10-29T00:00:00",
            "2023-11-04T00:00:00",
            "2023-11-05T00:00:00",
            "2023-11-11T00:00:00",
            "2023-11-12T00:00:00",
            "2023-11-18T00:00:00",
            "2023-11-19T00:00:00",
            "2023-11-25T00:00:00",
            "2023-11-26T00:00:00",
            "2023-12-02T00:00:00",
            "2023-12-03T00:00:00",
            "2023-12-09T00:00:00",
            "2023-12-10T00:00:00",
            "2023-12-16T00:00:00",
            "2023-12-17T00:00:00",
            "2023-12-23T00:00:00",
            "2023-12-24T00:00:00"
           ]
          }
         ],
         "rangeslider": {
          "visible": false
         },
         "showticklabels": false
        },
        "xaxis2": {
         "anchor": "y3",
         "domain": [
          0,
          0.94
         ],
         "matches": "x3",
         "rangebreaks": [
          {
           "values": [
            "2023-01-07T00:00:00",
            "2023-01-08T00:00:00",
            "2023-01-14T00:00:00",
            "2023-01-15T00:00:00",
            "2023-01-21T00:00:00",
            "2023-01-22T00:00:00",
            "2023-01-28T00:00:00",
            "2023-01-29T00:00:00",
            "2023-02-04T00:00:00",
            "2023-02-05T00:00:00",
            "2023-02-11T00:00:00",
            "2023-02-12T00:00:00",
            "2023-02-18T00:00:00",
            "2023-02-19T00:00:00",
            "2023-02-25T00:00:00",
            "2023-02-26T00:00:00",
            "2023-03-04T00:00:00",
            "2023-03-05T00:00:00",
            "2023-03-11T00:00:00",
            "2023-03-12T00:00:00",
            "2023-03-18T00:00:00",
            "2023-03-19T00:00:00",
            "2023-03-25T00:00:00",
            "2023-03-26T00:00:00",
            "2023-04-01T00:00:00",
            "2023-04-02T00:00:00",
            "2023-04-08T00:00:00",
            "2023-04-09T00:00:00",
            "2023-04-15T00:00:00",
            "2023-04-16T00:00:00",
            "2023-04-22T00:00:00",
            "2023-04-23T00:00:00",
            "2023-04-29T00:00:00",
            "2023-04-30T00:00:00",
            "2023-05-06T00:00:00",
            "2023-05-07T00:00:00",
            "2023-05-13T00:00:00",
            "2023-05-14T00:00:00",
            "2023-05-20T00:00:00",
            "2023-05-21T00:00:00",
            "2023-05-27T00:00:00",
            "2023-05-28T00:00:00",
            "2023-06-03T00:00:00",
            "2023-06-04T00:00:00",
            "2023-06-10T00:00:00",
            "2023-06-11T00:00:00",
            "2023-06-17T00:00:00",
            "2023-06-18T00:00:00",
            "2023-06-24T00:00:00",
            "2023-06-25T00:00:00",
            "2023-07-01T00:00:00",
            "2023-07-02T00:00:00",
            "2023-07-08T00:00:00",
            "2023-07-09T00:00:00",
            "2023-07-15T00:00:00",
            "2023-07-16T00:00:00",
            "2023-07-22T00:00:00",
            "2023-07-23T00:00:00",
            "2023-07-29T00:00:00",
            "2023-07-30T00:00:00",
            "2023-08-05T00:00:00",
            "2023-08-06T00:00:00",
            "2023-08-12T00:00:00",
            "2023-08-13T00:00:00",
            "2023-08-19T00:00:00",
            "2023-08-20T00:00:00",
            "2023-08-26T00:00:00",
            "2023-08-27T00:00:00",
            "2023-09-02T00:00:00",
            "2023-09-03T00:00:00",
            "2023-09-09T00:00:00",
            "2023-09-10T00:00:00",
            "2023-09-16T00:00:00",
            "2023-09-17T00:00:00",
            "2023-09-23T00:00:00",
            "2023-09-24T00:00:00",
            "2023-09-30T00:00:00",
            "2023-10-01T00:00:00",
            "2023-10-07T00:00:00",
            "2023-10-08T00:00:00",
            "2023-10-14T00:00:00",
            "2023-10-15T00:00:00",
            "2023-10-21T00:00:00",
            "2023-10-22T00:00:00",
            "2023-10-28T00:00:00",
            "2023-10-29T00:00:00",
            "2023-11-04T00:00:00",
            "2023-11-05T00:00:00",
            "2023-11-11T00:00:00",
            "2023-11-12T00:00:00",
            "2023-11-18T00:00:00",
            "2023-11-19T00:00:00",
            "2023-11-25T00:00:00",
            "2023-11-26T00:00:00",
            "2023-12-02T00:00:00",
            "2023-12-03T00:00:00",
            "2023-12-09T00:00:00",
            "2023-12-10T00:00:00",
            "2023-12-16T00:00:00",
            "2023-12-17T00:00:00",
            "2023-12-23T00:00:00",
            "2023-12-24T00:00:00"
           ]
          }
         ],
         "showticklabels": false
        },
        "xaxis3": {
         "anchor": "y4",
         "domain": [
          0,
          0.94
         ],
         "rangebreaks": [
          {
           "values": [
            "2023-01-07T00:00:00",
            "2023-01-08T00:00:00",
            "2023-01-14T00:00:00",
            "2023-01-15T00:00:00",
            "2023-01-21T00:00:00",
            "2023-01-22T00:00:00",
            "2023-01-28T00:00:00",
            "2023-01-29T00:00:00",
            "2023-02-04T00:00:00",
            "2023-02-05T00:00:00",
            "2023-02-11T00:00:00",
            "2023-02-12T00:00:00",
            "2023-02-18T00:00:00",
            "2023-02-19T00:00:00",
            "2023-02-25T00:00:00",
            "2023-02-26T00:00:00",
            "2023-03-04T00:00:00",
            "2023-03-05T00:00:00",
            "2023-03-11T00:00:00",
            "2023-03-12T00:00:00",
            "2023-03-18T00:00:00",
            "2023-03-19T00:00:00",
            "2023-03-25T00:00:00",
            "2023-03-26T00:00:00",
            "2023-04-01T00:00:00",
            "2023-04-02T00:00:00",
            "2023-04-08T00:00:00",
            "2023-04-09T00:00:00",
            "2023-04-15T00:00:00",
            "2023-04-16T00:00:00",
            "2023-04-22T00:00:00",
            "2023-04-23T00:00:00",
            "2023-04-29T00:00:00",
            "2023-04-30T00:00:00",
            "2023-05-06T00:00:00",
            "2023-05-07T00:00:00",
            "2023-05-13T00:00:00",
            "2023-05-14T00:00:00",
            "2023-05-20T00:00:00",
            "2023-05-21T00:00:00",
            "2023-05-27T00:00:00",
            "2023-05-28T00:00:00",
            "2023-06-03T00:00:00",
            "2023-06-04T00:00:00",
            "2023-06-10T00:00:00",
            "2023-06-11T00:00:00",
            "2023-06-17T00:00:00",
            "2023-06-18T00:00:00",
            "2023-06-24T00:00:00",
            "2023-06-25T00:00:00",
            "2023-07-01T00:00:00",
            "2023-07-02T00:00:00",
            "2023-07-08T00:00:00",
            "2023-07-09T00:00:00",
            "2023-07-15T00:00:00",
            "2023-07-16T00:00:00",
            "2023-07-22T00:00:00",
            "2023-07-23T00:00:00",
            "2023-07-29T00:00:00",
            "2023-07-30T00:00:00",
            "2023-08-05T00:00:00",
            "2023-08-06T00:00:00",
            "2023-08-12T00:00:00",
            "2023-08-13T00:00:00",
            "2023-08-19T00:00:00",
            "2023-08-20T00:00:00",
            "2023-08-26T00:00:00",
            "2023-08-27T00:00:00",
            "2023-09-02T00:00:00",
            "2023-09-03T00:00:00",
            "2023-09-09T00:00:00",
            "2023-09-10T00:00:00",
            "2023-09-16T00:00:00",
            "2023-09-17T00:00:00",
            "2023-09-23T00:00:00",
            "2023-09-24T00:00:00",
            "2023-09-30T00:00:00",
            "2023-10-01T00:00:00",
            "2023-10-07T00:00:00",
            "2023-10-08T00:00:00",
            "2023-10-14T00:00:00",
            "2023-10-15T00:00:00",
            "2023-10-21T00:00:00",
            "2023-10-22T00:00:00",
            "2023-10-28T00:00:00",
            "2023-10-29T00:00:00",
            "2023-11-04T00:00:00",
            "2023-11-05T00:00:00",
            "2023-11-11T00:00:00",
            "2023-11-12T00:00:00",
            "2023-11-18T00:00:00",
            "2023-11-19T00:00:00",
            "2023-11-25T00:00:00",
            "2023-11-26T00:00:00",
            "2023-12-02T00:00:00",
            "2023-12-03T00:00:00",
            "2023-12-09T00:00:00",
            "2023-12-10T00:00:00",
            "2023-12-16T00:00:00",
            "2023-12-17T00:00:00",
            "2023-12-23T00:00:00",
            "2023-12-24T00:00:00"
           ]
          }
         ],
         "title": {
          "text": "Date"
         }
        },
        "yaxis": {
         "anchor": "x",
         "domain": [
          0.45999999999999996,
          1
         ],
         "title": {
          "text": "Price"
         }
        },
        "yaxis2": {
         "anchor": "x",
         "overlaying": "y",
         "side": "right",
         "title": {
          "text": "Price"
         }
        },
        "yaxis3": {
         "anchor": "x2",
         "domain": [
          0.185,
          0.41000000000000003
         ],
         "title": {
          "text": "Momentum Factor"
         }
        },
        "yaxis4": {
         "anchor": "x3",
         "domain": [
          0,
          0.135
         ],
         "title": {
          "text": "Volume"
         }
        }
       }
      }
     },
     "metadata": {},
     "output_type": "display_data"
    }
   ],
   "source": [
    "FactorPlot.plot_factor_price_relation(\n",
    "        price_data=price_data,\n",
    "        factor_data=factor_data[\"momentum\"],\n",
    "        ticker=\"EXAMPLE\",\n",
    "        factor_name=\"Momentum Factor\",\n",
    "        title=\"Example: Momentum Factor vs Stock Price\",\n",
    "        dark_theme=False,\n",
    "    )"
   ]
  },
  {
   "cell_type": "code",
   "execution_count": 4,
   "id": "cc69c4a1",
   "metadata": {},
   "outputs": [
    {
     "data": {
      "application/vnd.plotly.v1+json": {
       "config": {
        "plotlyServerURL": "https://plot.ly"
       },
       "data": [
        {
         "close": {
          "bdata": "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",
          "dtype": "f8"
         },
         "decreasing": {
          "fillcolor": "#ef5350",
          "line": {
           "color": "#ef5350"
          }
         },
         "high": {
          "bdata": "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",
          "dtype": "f8"
         },
         "increasing": {
          "fillcolor": "#26a69a",
          "line": {
           "color": "#26a69a"
          }
         },
         "line": {
          "width": 1
         },
         "low": {
          "bdata": "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",
          "dtype": "f8"
         },
         "name": "Price",
         "open": {
          "bdata": "5GBU6rs/JEDt+Bw2FIAkQNeF1aP8MSRAxkg1akWMJECSY06U3f8kQIfGB9F2KCVAbe41CZ4CJUBeS7ZhJdglQH8e2D39diZAdaUPfF9PJkC0fGu0h2UmQA0YbtRLayZAr8htHPz2JUDpYxDb1z4mQC3z6HCt2CRAeAfs80hMJEBndET0rpEjQEwu61qUZSNAeQ0sSzdhI0CPEx0tzb8iQKtwUxqBKCJARcTwIKEBI0DFGW3o2qoiQJfC5DmC3CJA60hL8lgQIkDu8cXxv+EhQLsMfin5MyJAa8pqQRZ7IUChq7u5Jn4hQGG7CyEG8yBAutTSEuLWIEBye9OMS6YgQOUAfJJYkSFA0sxZBpdaIUCZh5lhMM4gQKQjlHCUeSFAMitSt77pIED5KtcmoiMhQP3cpbdbPCBACosnBHfGH0DvsPTybL8fQOcHr+3VFSBAPT3g3BoJIEDA5/3BkH0fQC5PK5zL6x9APpatNASVHkAPJ/+dVWYeQCVW78m0cR1AD+Tk4Oz5HUCIWBZSwmAeQDzJaDkNXR1AIDk0+HhVHUC5zoL5GUsdQNTorW7JlRxADDdJ5af7HEDDzcgZEyAeQAYaLKhyAB9AcD30uA+nHUAZ8SVZR6UdQGzN+3ouxB1AO4P7AToXHkBwIDu9bzEeQHk1NvVgph5AndVvHYgyHUBBOTftmikcQHBR+xZL5xxAzBqyAafeHUC7XZxuhGUdQMvHVu+Zvh5ANbDAZAdKH0Au3ujP/YAeQMNdyznYFx9AHcs4x9PwH0CofA5wShogQGdPQNxLmSBAF9vZgSReH0BcKTNMFhMgQJ/l2h4qMiBAU1b5zXw6IED9VJ6BRTggQJ8y7jWnXh5AJ3ZzvD/lHkApSQTD/vIeQMK/GB1oHiBASNqNtsRkH0Aq9wsjqNYeQBE/4w+jRx9AZTKB9E4qH0CsPRUHkfofQGiJ3qmjMh9ATi+QYBvpH0DnXw3Bcq8fQGq1sdrBMCBAqd/lwxPeH0D2lLJdJwsgQKG9qHyNYR9ATnS6nsaAHkCsYc8xHLseQJLuF028tB5A/+rTM9ecHkD6PjCDfdkeQKNV9EY3dB1AGwOShFzKHEBZGRoMcYMcQK6QgE8uYxxAjc7guXUXHEBRaiZbAv8bQPRUsMs8oR1A69JV39KgHUBZVLSL+AEeQNEsGz3u5h1ASNM2o5GoHEBN99VNDTccQAoEWjrdXRxACUvQoH9zHkDa5Nw/BSMeQPCBZYCgjh5AUmH0/2NEHkCI+65Ke/4cQEtH3QPKRB5Ak3aVyD9cHkCURzhaqHEfQDE6cHzpwx5AVPJlsDTDH0CdrjhN0GAeQMWHja3bdh9A3va19epdIEB1mDrXiM8fQFGh+3AGqR9ABYMhvI9YH0AbXir6DQIfQBRpwckH3x1APJGZ5qzXHUAuS+JOl88cQNzmPp1Xnh1AdsU719qEHEACHVfD0aMdQNHDry0sBh1APzir32W4HED6Bb8Lko4dQBBEdvpxOBxAkws1LuSmHECwjF0GnPUdQBKbkp/soxxAqelmrL67HEBhUkyOBh8dQJIZjHayUB1AsQTyjneDHEBJY2wxBo4bQBPUOEH+1BtAlbNaGoxZHEDR7DgUGiscQI6mgMTnGhxA9E5UTFflG0CeSGz40SkcQOCVxBPNGRxAnb1OiCImHEA2zQmBglsdQPDYwQsWyB1A49qCjnN4HECvge4w+kkdQLdgrzDDrRxAwITrdyhlHUA+cEqWg9EdQD26SaYJBR1AUFdWua3+HUB0DEvdVIQeQHAQqw44Gh9AxbnEIbE0IEA3SMrHXh8gQHBazaL41B9Asr+IBZxMH0D5regQ34keQPgwPNDv6R5A+vHyOSHBHkDWktSf+/MeQOFaAmPwzR9ARKqD7OOwH0CVKI16h5AgQOPa7HKwMiBAwyz5sidHIUCEgHL/3JohQP3NJAuWXCFAiIjV+U3tIEAC5o8gXR8hQFXZKat5GiFAyrVBou5ZIUDU3TWffHEhQKrTyn/FNCFAraSzOddRIUDf1CYDZ5YgQMJmt4kHayBANFU4vIuhIED6BeOQ1sogQNGiS8+TLyBA9nDIRmp6IEBMdkA2cUMgQB4VChru5B9AubH+HlISIEAkBHMnKjkgQIhPHSIzFR9A2EJuW/yCH0DbwbEYGAsgQHTEanf3eyBAjsZzjF/eIECVljT8uXwgQPmhdGPWix9AYHiENG8OIEAv8wQnX0wgQN4iFxO7sSBAoveIqWIgIkBQKL7MES4iQNJ4OHLZ/iJAcHVPF4I6I0DgMqtqoJ0jQJ41dA25cSNAs71JKmEAJEA7UF/oC8AjQGEcmXxf0SNAyC0cnK1QI0AP7Dv95n0jQKA0PtUjriRAb5RL2+ybI0Ck/eDFrfEjQH1rDaI99SJA6yJMbvwEI0DpK9Qq90kjQHUX6EB9fyNAOiaxbizHIkCkM6pv39IiQEjz7HI7wiJAHWdfgH90IkDMNym73pEiQFdZ1TrM0iJA05DJiYBGIkDVhiHZajcjQKsX+ZI8VSNA6jbkOWR+IkA+0q0VeoUiQAkzpEvULyJAdpmTyq2GIkCou+IBDkoiQJL5GLF34CFAUT2ArlV1IkBt0HWCWnEiQBmVRx3igiJA8gz8TRMNIkAZRvxTC9khQM1n4pHAbiFAyxSkLpQ2IkDoYdQAvbQiQCEZZvoP7yFABjVFv/FIIkCkNbfP92gjQJJVk7oLbCNA7e6pZ0DzIkAlK+RnKdEiQJ4JiSwmoyNAEjFtrWMkI0ByqVwLl0kjQA==",
          "dtype": "f8"
         },
         "type": "candlestick",
         "x": [
          "2023-01-02T00:00:00.000000000",
          "2023-01-03T00:00:00.000000000",
          "2023-01-04T00:00:00.000000000",
          "2023-01-05T00:00:00.000000000",
          "2023-01-06T00:00:00.000000000",
          "2023-01-09T00:00:00.000000000",
          "2023-01-10T00:00:00.000000000",
          "2023-01-11T00:00:00.000000000",
          "2023-01-12T00:00:00.000000000",
          "2023-01-13T00:00:00.000000000",
          "2023-01-16T00:00:00.000000000",
          "2023-01-17T00:00:00.000000000",
          "2023-01-18T00:00:00.000000000",
          "2023-01-19T00:00:00.000000000",
          "2023-01-20T00:00:00.000000000",
          "2023-01-23T00:00:00.000000000",
          "2023-01-24T00:00:00.000000000",
          "2023-01-25T00:00:00.000000000",
          "2023-01-26T00:00:00.000000000",
          "2023-01-27T00:00:00.000000000",
          "2023-01-30T00:00:00.000000000",
          "2023-01-31T00:00:00.000000000",
          "2023-02-01T00:00:00.000000000",
          "2023-02-02T00:00:00.000000000",
          "2023-02-03T00:00:00.000000000",
          "2023-02-06T00:00:00.000000000",
          "2023-02-07T00:00:00.000000000",
          "2023-02-08T00:00:00.000000000",
          "2023-02-09T00:00:00.000000000",
          "2023-02-10T00:00:00.000000000",
          "2023-02-13T00:00:00.000000000",
          "2023-02-14T00:00:00.000000000",
          "2023-02-15T00:00:00.000000000",
          "2023-02-16T00:00:00.000000000",
          "2023-02-17T00:00:00.000000000",
          "2023-02-20T00:00:00.000000000",
          "2023-02-21T00:00:00.000000000",
          "2023-02-22T00:00:00.000000000",
          "2023-02-23T00:00:00.000000000",
          "2023-02-24T00:00:00.000000000",
          "2023-02-27T00:00:00.000000000",
          "2023-02-28T00:00:00.000000000",
          "2023-03-01T00:00:00.000000000",
          "2023-03-02T00:00:00.000000000",
          "2023-03-03T00:00:00.000000000",
          "2023-03-06T00:00:00.000000000",
          "2023-03-07T00:00:00.000000000",
          "2023-03-08T00:00:00.000000000",
          "2023-03-09T00:00:00.000000000",
          "2023-03-10T00:00:00.000000000",
          "2023-03-13T00:00:00.000000000",
          "2023-03-14T00:00:00.000000000",
          "2023-03-15T00:00:00.000000000",
          "2023-03-16T00:00:00.000000000",
          "2023-03-17T00:00:00.000000000",
          "2023-03-20T00:00:00.000000000",
          "2023-03-21T00:00:00.000000000",
          "2023-03-22T00:00:00.000000000",
          "2023-03-23T00:00:00.000000000",
          "2023-03-24T00:00:00.000000000",
          "2023-03-27T00:00:00.000000000",
          "2023-03-28T00:00:00.000000000",
          "2023-03-29T00:00:00.000000000",
          "2023-03-30T00:00:00.000000000",
          "2023-03-31T00:00:00.000000000",
          "2023-04-03T00:00:00.000000000",
          "2023-04-04T00:00:00.000000000",
          "2023-04-05T00:00:00.000000000",
          "2023-04-06T00:00:00.000000000",
          "2023-04-07T00:00:00.000000000",
          "2023-04-10T00:00:00.000000000",
          "2023-04-11T00:00:00.000000000",
          "2023-04-12T00:00:00.000000000",
          "2023-04-13T00:00:00.000000000",
          "2023-04-14T00:00:00.000000000",
          "2023-04-17T00:00:00.000000000",
          "2023-04-18T00:00:00.000000000",
          "2023-04-19T00:00:00.000000000",
          "2023-04-20T00:00:00.000000000",
          "2023-04-21T00:00:00.000000000",
          "2023-04-24T00:00:00.000000000",
          "2023-04-25T00:00:00.000000000",
          "2023-04-26T00:00:00.000000000",
          "2023-04-27T00:00:00.000000000",
          "2023-04-28T00:00:00.000000000",
          "2023-05-01T00:00:00.000000000",
          "2023-05-02T00:00:00.000000000",
          "2023-05-03T00:00:00.000000000",
          "2023-05-04T00:00:00.000000000",
          "2023-05-05T00:00:00.000000000",
          "2023-05-08T00:00:00.000000000",
          "2023-05-09T00:00:00.000000000",
          "2023-05-10T00:00:00.000000000",
          "2023-05-11T00:00:00.000000000",
          "2023-05-12T00:00:00.000000000",
          "2023-05-15T00:00:00.000000000",
          "2023-05-16T00:00:00.000000000",
          "2023-05-17T00:00:00.000000000",
          "2023-05-18T00:00:00.000000000",
          "2023-05-19T00:00:00.000000000",
          "2023-05-22T00:00:00.000000000",
          "2023-05-23T00:00:00.000000000",
          "2023-05-24T00:00:00.000000000",
          "2023-05-25T00:00:00.000000000",
          "2023-05-26T00:00:00.000000000",
          "2023-05-29T00:00:00.000000000",
          "2023-05-30T00:00:00.000000000",
          "2023-05-31T00:00:00.000000000",
          "2023-06-01T00:00:00.000000000",
          "2023-06-02T00:00:00.000000000",
          "2023-06-05T00:00:00.000000000",
          "2023-06-06T00:00:00.000000000",
          "2023-06-07T00:00:00.000000000",
          "2023-06-08T00:00:00.000000000",
          "2023-06-09T00:00:00.000000000",
          "2023-06-12T00:00:00.000000000",
          "2023-06-13T00:00:00.000000000",
          "2023-06-14T00:00:00.000000000",
          "2023-06-15T00:00:00.000000000",
          "2023-06-16T00:00:00.000000000",
          "2023-06-19T00:00:00.000000000",
          "2023-06-20T00:00:00.000000000",
          "2023-06-21T00:00:00.000000000",
          "2023-06-22T00:00:00.000000000",
          "2023-06-23T00:00:00.000000000",
          "2023-06-26T00:00:00.000000000",
          "2023-06-27T00:00:00.000000000",
          "2023-06-28T00:00:00.000000000",
          "2023-06-29T00:00:00.000000000",
          "2023-06-30T00:00:00.000000000",
          "2023-07-03T00:00:00.000000000",
          "2023-07-04T00:00:00.000000000",
          "2023-07-05T00:00:00.000000000",
          "2023-07-06T00:00:00.000000000",
          "2023-07-07T00:00:00.000000000",
          "2023-07-10T00:00:00.000000000",
          "2023-07-11T00:00:00.000000000",
          "2023-07-12T00:00:00.000000000",
          "2023-07-13T00:00:00.000000000",
          "2023-07-14T00:00:00.000000000",
          "2023-07-17T00:00:00.000000000",
          "2023-07-18T00:00:00.000000000",
          "2023-07-19T00:00:00.000000000",
          "2023-07-20T00:00:00.000000000",
          "2023-07-21T00:00:00.000000000",
          "2023-07-24T00:00:00.000000000",
          "2023-07-25T00:00:00.000000000",
          "2023-07-26T00:00:00.000000000",
          "2023-07-27T00:00:00.000000000",
          "2023-07-28T00:00:00.000000000",
          "2023-07-31T00:00:00.000000000",
          "2023-08-01T00:00:00.000000000",
          "2023-08-02T00:00:00.000000000",
          "2023-08-03T00:00:00.000000000",
          "2023-08-04T00:00:00.000000000",
          "2023-08-07T00:00:00.000000000",
          "2023-08-08T00:00:00.000000000",
          "2023-08-09T00:00:00.000000000",
          "2023-08-10T00:00:00.000000000",
          "2023-08-11T00:00:00.000000000",
          "2023-08-14T00:00:00.000000000",
          "2023-08-15T00:00:00.000000000",
          "2023-08-16T00:00:00.000000000",
          "2023-08-17T00:00:00.000000000",
          "2023-08-18T00:00:00.000000000",
          "2023-08-21T00:00:00.000000000",
          "2023-08-22T00:00:00.000000000",
          "2023-08-23T00:00:00.000000000",
          "2023-08-24T00:00:00.000000000",
          "2023-08-25T00:00:00.000000000",
          "2023-08-28T00:00:00.000000000",
          "2023-08-29T00:00:00.000000000",
          "2023-08-30T00:00:00.000000000",
          "2023-08-31T00:00:00.000000000",
          "2023-09-01T00:00:00.000000000",
          "2023-09-04T00:00:00.000000000",
          "2023-09-05T00:00:00.000000000",
          "2023-09-06T00:00:00.000000000",
          "2023-09-07T00:00:00.000000000",
          "2023-09-08T00:00:00.000000000",
          "2023-09-11T00:00:00.000000000",
          "2023-09-12T00:00:00.000000000",
          "2023-09-13T00:00:00.000000000",
          "2023-09-14T00:00:00.000000000",
          "2023-09-15T00:00:00.000000000",
          "2023-09-18T00:00:00.000000000",
          "2023-09-19T00:00:00.000000000",
          "2023-09-20T00:00:00.000000000",
          "2023-09-21T00:00:00.000000000",
          "2023-09-22T00:00:00.000000000",
          "2023-09-25T00:00:00.000000000",
          "2023-09-26T00:00:00.000000000",
          "2023-09-27T00:00:00.000000000",
          "2023-09-28T00:00:00.000000000",
          "2023-09-29T00:00:00.000000000",
          "2023-10-02T00:00:00.000000000",
          "2023-10-03T00:00:00.000000000",
          "2023-10-04T00:00:00.000000000",
          "2023-10-05T00:00:00.000000000",
          "2023-10-06T00:00:00.000000000",
          "2023-10-09T00:00:00.000000000",
          "2023-10-10T00:00:00.000000000",
          "2023-10-11T00:00:00.000000000",
          "2023-10-12T00:00:00.000000000",
          "2023-10-13T00:00:00.000000000",
          "2023-10-16T00:00:00.000000000",
          "2023-10-17T00:00:00.000000000",
          "2023-10-18T00:00:00.000000000",
          "2023-10-19T00:00:00.000000000",
          "2023-10-20T00:00:00.000000000",
          "2023-10-23T00:00:00.000000000",
          "2023-10-24T00:00:00.000000000",
          "2023-10-25T00:00:00.000000000",
          "2023-10-26T00:00:00.000000000",
          "2023-10-27T00:00:00.000000000",
          "2023-10-30T00:00:00.000000000",
          "2023-10-31T00:00:00.000000000",
          "2023-11-01T00:00:00.000000000",
          "2023-11-02T00:00:00.000000000",
          "2023-11-03T00:00:00.000000000",
          "2023-11-06T00:00:00.000000000",
          "2023-11-07T00:00:00.000000000",
          "2023-11-08T00:00:00.000000000",
          "2023-11-09T00:00:00.000000000",
          "2023-11-10T00:00:00.000000000",
          "2023-11-13T00:00:00.000000000",
          "2023-11-14T00:00:00.000000000",
          "2023-11-15T00:00:00.000000000",
          "2023-11-16T00:00:00.000000000",
          "2023-11-17T00:00:00.000000000",
          "2023-11-20T00:00:00.000000000",
          "2023-11-21T00:00:00.000000000",
          "2023-11-22T00:00:00.000000000",
          "2023-11-23T00:00:00.000000000",
          "2023-11-24T00:00:00.000000000",
          "2023-11-27T00:00:00.000000000",
          "2023-11-28T00:00:00.000000000",
          "2023-11-29T00:00:00.000000000",
          "2023-11-30T00:00:00.000000000",
          "2023-12-01T00:00:00.000000000",
          "2023-12-04T00:00:00.000000000",
          "2023-12-05T00:00:00.000000000",
          "2023-12-06T00:00:00.000000000",
          "2023-12-07T00:00:00.000000000",
          "2023-12-08T00:00:00.000000000",
          "2023-12-11T00:00:00.000000000",
          "2023-12-12T00:00:00.000000000",
          "2023-12-13T00:00:00.000000000",
          "2023-12-14T00:00:00.000000000",
          "2023-12-15T00:00:00.000000000",
          "2023-12-18T00:00:00.000000000",
          "2023-12-19T00:00:00.000000000",
          "2023-12-20T00:00:00.000000000",
          "2023-12-21T00:00:00.000000000",
          "2023-12-22T00:00:00.000000000",
          "2023-12-25T00:00:00.000000000",
          "2023-12-26T00:00:00.000000000",
          "2023-12-27T00:00:00.000000000",
          "2023-12-28T00:00:00.000000000",
          "2023-12-29T00:00:00.000000000"
         ],
         "xaxis": "x",
         "yaxis": "y"
        },
        {
         "marker": {
          "color": [
           "purple",
           "red",
           "purple",
           "red",
           "red",
           "purple",
           "purple",
           "red",
           "red",
           "purple",
           "purple",
           "purple",
           "purple",
           "purple",
           "red",
           "red",
           "red",
           "red",
           "red",
           "red",
           "red",
           "red",
           "red",
           "red",
           "red",
           "red",
           "red",
           "red",
           "red",
           "red",
           "red",
           "red",
           "red",
           "red",
           "red",
           "red",
           "red",
           "red",
           "red",
           "red",
           "red",
           "red",
           "red",
           "red",
           "red",
           "red",
           "red",
           "red",
           "red",
           "red",
           "red",
           "red",
           "red",
           "red",
           "red",
           "purple",
           "purple",
           "purple",
           "red",
           "purple",
           "red",
           "purple",
           "purple",
           "purple",
           "purple",
           "red",
           "purple",
           "purple",
           "purple",
           "purple",
           "purple",
           "purple",
           "purple",
           "purple",
           "purple",
           "purple",
           "purple",
           "purple",
           "purple",
           "purple",
           "red",
           "red",
           "purple",
           "red",
           "red",
           "red",
           "purple",
           "red",
           "red",
           "purple",
           "purple",
           "purple",
           "red",
           "purple",
           "purple",
           "red",
           "purple",
           "purple",
           "red",
           "red",
           "red",
           "red",
           "red",
           "red",
           "red",
           "red",
           "red",
           "purple",
           "purple",
           "purple",
           "red",
           "red",
           "purple",
           "purple",
           "purple",
           "purple",
           "red",
           "purple",
           "purple",
           "red",
           "purple",
           "purple",
           "purple",
           "red",
           "purple",
           "purple",
           "purple",
           "purple",
           "purple",
           "purple",
           "red",
           "red",
           "red",
           "red",
           "red",
           "red",
           "red",
           "red",
           "red",
           "red",
           "red",
           "red",
           "purple",
           "red",
           "purple",
           "purple",
           "red",
           "red",
           "red",
           "red",
           "purple",
           "red",
           "red",
           "red",
           "red",
           "red",
           "purple",
           "purple",
           "purple",
           "purple",
           "red",
           "purple",
           "purple",
           "purple",
           "purple",
           "purple",
           "purple",
           "purple",
           "purple",
           "purple",
           "purple",
           "purple",
           "purple",
           "purple",
           "purple",
           "purple",
           "red",
           "red",
           "red",
           "purple",
           "purple",
           "purple",
           "purple",
           "purple",
           "purple",
           "purple",
           "purple",
           "purple",
           "purple",
           "red",
           "red",
           "red",
           "purple",
           "red",
           "red",
           "red",
           "red",
           "red",
           "red",
           "red",
           "purple",
           "red",
           "red",
           "purple",
           "purple",
           "red",
           "red",
           "red",
           "purple",
           "purple",
           "purple",
           "purple",
           "purple",
           "purple",
           "purple",
           "purple",
           "purple",
           "purple",
           "purple",
           "purple",
           "purple",
           "purple",
           "purple",
           "purple",
           "red",
           "red",
           "red",
           "red",
           "red",
           "red",
           "red",
           "red",
           "red",
           "red",
           "purple",
           "red",
           "red",
           "purple",
           "red",
           "purple",
           "red",
           "red",
           "red",
           "purple",
           "red",
           "red",
           "red",
           "red",
           "purple",
           "red",
           "red",
           "purple",
           "purple",
           "purple",
           "purple",
           "purple",
           "purple",
           "purple",
           "purple",
           "purple"
          ]
         },
         "name": "Momentum Factor",
         "opacity": 0.7,
         "text": [
          "0.004",
          "-0.016",
          "0.026",
          "-0.020",
          "-0.027",
          "0.014",
          "0.023",
          "-0.009",
          "-0.009",
          "0.006",
          "0.056",
          "0.049",
          "0.075",
          "0.006",
          "-0.006",
          "-0.065",
          "-0.093",
          "-0.087",
          "-0.120",
          "-0.120",
          "-0.082",
          "-0.116",
          "-0.107",
          "-0.071",
          "-0.045",
          "-0.055",
          "-0.059",
          "-0.087",
          "-0.057",
          "-0.034",
          "-0.081",
          "-0.056",
          "-0.071",
          "-0.073",
          "-0.054",
          "-0.025",
          "-0.010",
          "-0.062",
          "-0.071",
          "-0.053",
          "-0.039",
          "-0.089",
          "-0.047",
          "-0.047",
          "-0.084",
          "-0.065",
          "-0.109",
          "-0.021",
          "-0.020",
          "-0.032",
          "-0.041",
          "-0.085",
          "-0.062",
          "-0.052",
          "-0.017",
          "0.010",
          "0.005",
          "0.001",
          "-0.003",
          "0.036",
          "-0.008",
          "0.036",
          "0.033",
          "0.033",
          "0.005",
          "-0.048",
          "0.004",
          "0.061",
          "0.038",
          "0.005",
          "0.031",
          "0.032",
          "0.075",
          "0.116",
          "0.054",
          "0.069",
          "0.038",
          "0.059",
          "0.019",
          "0.006",
          "-0.031",
          "-0.010",
          "0.029",
          "-0.046",
          "-0.027",
          "-0.029",
          "0.008",
          "-0.039",
          "-0.043",
          "0.015",
          "0.006",
          "0.019",
          "-0.044",
          "0.013",
          "0.016",
          "-0.043",
          "0.009",
          "0.012",
          "-0.028",
          "-0.003",
          "-0.064",
          "-0.071",
          "-0.087",
          "-0.035",
          "-0.082",
          "-0.045",
          "-0.035",
          "0.016",
          "0.021",
          "0.020",
          "-0.001",
          "-0.025",
          "0.011",
          "0.053",
          "0.073",
          "0.068",
          "-0.000",
          "0.008",
          "0.018",
          "-0.037",
          "0.085",
          "0.043",
          "0.060",
          "-0.008",
          "0.028",
          "0.074",
          "0.011",
          "0.054",
          "0.042",
          "0.046",
          "-0.054",
          "-0.025",
          "-0.054",
          "-0.008",
          "-0.063",
          "-0.044",
          "-0.097",
          "-0.080",
          "-0.037",
          "-0.084",
          "-0.050",
          "-0.015",
          "0.002",
          "-0.055",
          "0.008",
          "0.013",
          "-0.019",
          "-0.040",
          "-0.030",
          "-0.016",
          "0.016",
          "-0.050",
          "-0.013",
          "-0.007",
          "-0.018",
          "-0.093",
          "0.014",
          "0.070",
          "0.037",
          "0.035",
          "-0.015",
          "0.023",
          "0.037",
          "0.036",
          "0.044",
          "0.044",
          "0.027",
          "0.079",
          "0.087",
          "0.048",
          "0.049",
          "0.031",
          "0.046",
          "0.025",
          "0.021",
          "0.030",
          "-0.010",
          "-0.030",
          "-0.016",
          "0.071",
          "0.091",
          "0.103",
          "0.073",
          "0.073",
          "0.055",
          "0.083",
          "0.055",
          "0.023",
          "0.045",
          "-0.067",
          "-0.005",
          "-0.025",
          "0.000",
          "-0.054",
          "-0.038",
          "-0.046",
          "-0.070",
          "-0.044",
          "-0.051",
          "-0.016",
          "0.031",
          "-0.033",
          "-0.009",
          "0.037",
          "0.039",
          "-0.021",
          "-0.011",
          "-0.013",
          "0.020",
          "0.104",
          "0.152",
          "0.162",
          "0.106",
          "0.106",
          "0.147",
          "0.211",
          "0.157",
          "0.128",
          "0.119",
          "0.037",
          "0.100",
          "0.007",
          "0.011",
          "0.002",
          "-0.042",
          "-0.051",
          "-0.008",
          "-0.032",
          "-0.020",
          "-0.014",
          "-0.070",
          "-0.030",
          "-0.060",
          "-0.028",
          "0.032",
          "-0.019",
          "-0.035",
          "0.007",
          "-0.002",
          "0.018",
          "-0.021",
          "-0.052",
          "-0.004",
          "0.026",
          "-0.010",
          "-0.023",
          "-0.011",
          "-0.020",
          "0.001",
          "-0.028",
          "-0.009",
          "0.027",
          "0.050",
          "0.051",
          "0.020",
          "0.021",
          "0.069",
          "0.048",
          "0.025",
          "0.048"
         ],
         "textfont": {
          "size": 10
         },
         "textposition": "outside",
         "type": "bar",
         "x": [
          "2023-01-02T00:00:00.000000000",
          "2023-01-03T00:00:00.000000000",
          "2023-01-04T00:00:00.000000000",
          "2023-01-05T00:00:00.000000000",
          "2023-01-06T00:00:00.000000000",
          "2023-01-09T00:00:00.000000000",
          "2023-01-10T00:00:00.000000000",
          "2023-01-11T00:00:00.000000000",
          "2023-01-12T00:00:00.000000000",
          "2023-01-13T00:00:00.000000000",
          "2023-01-16T00:00:00.000000000",
          "2023-01-17T00:00:00.000000000",
          "2023-01-18T00:00:00.000000000",
          "2023-01-19T00:00:00.000000000",
          "2023-01-20T00:00:00.000000000",
          "2023-01-23T00:00:00.000000000",
          "2023-01-24T00:00:00.000000000",
          "2023-01-25T00:00:00.000000000",
          "2023-01-26T00:00:00.000000000",
          "2023-01-27T00:00:00.000000000",
          "2023-01-30T00:00:00.000000000",
          "2023-01-31T00:00:00.000000000",
          "2023-02-01T00:00:00.000000000",
          "2023-02-02T00:00:00.000000000",
          "2023-02-03T00:00:00.000000000",
          "2023-02-06T00:00:00.000000000",
          "2023-02-07T00:00:00.000000000",
          "2023-02-08T00:00:00.000000000",
          "2023-02-09T00:00:00.000000000",
          "2023-02-10T00:00:00.000000000",
          "2023-02-13T00:00:00.000000000",
          "2023-02-14T00:00:00.000000000",
          "2023-02-15T00:00:00.000000000",
          "2023-02-16T00:00:00.000000000",
          "2023-02-17T00:00:00.000000000",
          "2023-02-20T00:00:00.000000000",
          "2023-02-21T00:00:00.000000000",
          "2023-02-22T00:00:00.000000000",
          "2023-02-23T00:00:00.000000000",
          "2023-02-24T00:00:00.000000000",
          "2023-02-27T00:00:00.000000000",
          "2023-02-28T00:00:00.000000000",
          "2023-03-01T00:00:00.000000000",
          "2023-03-02T00:00:00.000000000",
          "2023-03-03T00:00:00.000000000",
          "2023-03-06T00:00:00.000000000",
          "2023-03-07T00:00:00.000000000",
          "2023-03-08T00:00:00.000000000",
          "2023-03-09T00:00:00.000000000",
          "2023-03-10T00:00:00.000000000",
          "2023-03-13T00:00:00.000000000",
          "2023-03-14T00:00:00.000000000",
          "2023-03-15T00:00:00.000000000",
          "2023-03-16T00:00:00.000000000",
          "2023-03-17T00:00:00.000000000",
          "2023-03-20T00:00:00.000000000",
          "2023-03-21T00:00:00.000000000",
          "2023-03-22T00:00:00.000000000",
          "2023-03-23T00:00:00.000000000",
          "2023-03-24T00:00:00.000000000",
          "2023-03-27T00:00:00.000000000",
          "2023-03-28T00:00:00.000000000",
          "2023-03-29T00:00:00.000000000",
          "2023-03-30T00:00:00.000000000",
          "2023-03-31T00:00:00.000000000",
          "2023-04-03T00:00:00.000000000",
          "2023-04-04T00:00:00.000000000",
          "2023-04-05T00:00:00.000000000",
          "2023-04-06T00:00:00.000000000",
          "2023-04-07T00:00:00.000000000",
          "2023-04-10T00:00:00.000000000",
          "2023-04-11T00:00:00.000000000",
          "2023-04-12T00:00:00.000000000",
          "2023-04-13T00:00:00.000000000",
          "2023-04-14T00:00:00.000000000",
          "2023-04-17T00:00:00.000000000",
          "2023-04-18T00:00:00.000000000",
          "2023-04-19T00:00:00.000000000",
          "2023-04-20T00:00:00.000000000",
          "2023-04-21T00:00:00.000000000",
          "2023-04-24T00:00:00.000000000",
          "2023-04-25T00:00:00.000000000",
          "2023-04-26T00:00:00.000000000",
          "2023-04-27T00:00:00.000000000",
          "2023-04-28T00:00:00.000000000",
          "2023-05-01T00:00:00.000000000",
          "2023-05-02T00:00:00.000000000",
          "2023-05-03T00:00:00.000000000",
          "2023-05-04T00:00:00.000000000",
          "2023-05-05T00:00:00.000000000",
          "2023-05-08T00:00:00.000000000",
          "2023-05-09T00:00:00.000000000",
          "2023-05-10T00:00:00.000000000",
          "2023-05-11T00:00:00.000000000",
          "2023-05-12T00:00:00.000000000",
          "2023-05-15T00:00:00.000000000",
          "2023-05-16T00:00:00.000000000",
          "2023-05-17T00:00:00.000000000",
          "2023-05-18T00:00:00.000000000",
          "2023-05-19T00:00:00.000000000",
          "2023-05-22T00:00:00.000000000",
          "2023-05-23T00:00:00.000000000",
          "2023-05-24T00:00:00.000000000",
          "2023-05-25T00:00:00.000000000",
          "2023-05-26T00:00:00.000000000",
          "2023-05-29T00:00:00.000000000",
          "2023-05-30T00:00:00.000000000",
          "2023-05-31T00:00:00.000000000",
          "2023-06-01T00:00:00.000000000",
          "2023-06-02T00:00:00.000000000",
          "2023-06-05T00:00:00.000000000",
          "2023-06-06T00:00:00.000000000",
          "2023-06-07T00:00:00.000000000",
          "2023-06-08T00:00:00.000000000",
          "2023-06-09T00:00:00.000000000",
          "2023-06-12T00:00:00.000000000",
          "2023-06-13T00:00:00.000000000",
          "2023-06-14T00:00:00.000000000",
          "2023-06-15T00:00:00.000000000",
          "2023-06-16T00:00:00.000000000",
          "2023-06-19T00:00:00.000000000",
          "2023-06-20T00:00:00.000000000",
          "2023-06-21T00:00:00.000000000",
          "2023-06-22T00:00:00.000000000",
          "2023-06-23T00:00:00.000000000",
          "2023-06-26T00:00:00.000000000",
          "2023-06-27T00:00:00.000000000",
          "2023-06-28T00:00:00.000000000",
          "2023-06-29T00:00:00.000000000",
          "2023-06-30T00:00:00.000000000",
          "2023-07-03T00:00:00.000000000",
          "2023-07-04T00:00:00.000000000",
          "2023-07-05T00:00:00.000000000",
          "2023-07-06T00:00:00.000000000",
          "2023-07-07T00:00:00.000000000",
          "2023-07-10T00:00:00.000000000",
          "2023-07-11T00:00:00.000000000",
          "2023-07-12T00:00:00.000000000",
          "2023-07-13T00:00:00.000000000",
          "2023-07-14T00:00:00.000000000",
          "2023-07-17T00:00:00.000000000",
          "2023-07-18T00:00:00.000000000",
          "2023-07-19T00:00:00.000000000",
          "2023-07-20T00:00:00.000000000",
          "2023-07-21T00:00:00.000000000",
          "2023-07-24T00:00:00.000000000",
          "2023-07-25T00:00:00.000000000",
          "2023-07-26T00:00:00.000000000",
          "2023-07-27T00:00:00.000000000",
          "2023-07-28T00:00:00.000000000",
          "2023-07-31T00:00:00.000000000",
          "2023-08-01T00:00:00.000000000",
          "2023-08-02T00:00:00.000000000",
          "2023-08-03T00:00:00.000000000",
          "2023-08-04T00:00:00.000000000",
          "2023-08-07T00:00:00.000000000",
          "2023-08-08T00:00:00.000000000",
          "2023-08-09T00:00:00.000000000",
          "2023-08-10T00:00:00.000000000",
          "2023-08-11T00:00:00.000000000",
          "2023-08-14T00:00:00.000000000",
          "2023-08-15T00:00:00.000000000",
          "2023-08-16T00:00:00.000000000",
          "2023-08-17T00:00:00.000000000",
          "2023-08-18T00:00:00.000000000",
          "2023-08-21T00:00:00.000000000",
          "2023-08-22T00:00:00.000000000",
          "2023-08-23T00:00:00.000000000",
          "2023-08-24T00:00:00.000000000",
          "2023-08-25T00:00:00.000000000",
          "2023-08-28T00:00:00.000000000",
          "2023-08-29T00:00:00.000000000",
          "2023-08-30T00:00:00.000000000",
          "2023-08-31T00:00:00.000000000",
          "2023-09-01T00:00:00.000000000",
          "2023-09-04T00:00:00.000000000",
          "2023-09-05T00:00:00.000000000",
          "2023-09-06T00:00:00.000000000",
          "2023-09-07T00:00:00.000000000",
          "2023-09-08T00:00:00.000000000",
          "2023-09-11T00:00:00.000000000",
          "2023-09-12T00:00:00.000000000",
          "2023-09-13T00:00:00.000000000",
          "2023-09-14T00:00:00.000000000",
          "2023-09-15T00:00:00.000000000",
          "2023-09-18T00:00:00.000000000",
          "2023-09-19T00:00:00.000000000",
          "2023-09-20T00:00:00.000000000",
          "2023-09-21T00:00:00.000000000",
          "2023-09-22T00:00:00.000000000",
          "2023-09-25T00:00:00.000000000",
          "2023-09-26T00:00:00.000000000",
          "2023-09-27T00:00:00.000000000",
          "2023-09-28T00:00:00.000000000",
          "2023-09-29T00:00:00.000000000",
          "2023-10-02T00:00:00.000000000",
          "2023-10-03T00:00:00.000000000",
          "2023-10-04T00:00:00.000000000",
          "2023-10-05T00:00:00.000000000",
          "2023-10-06T00:00:00.000000000",
          "2023-10-09T00:00:00.000000000",
          "2023-10-10T00:00:00.000000000",
          "2023-10-11T00:00:00.000000000",
          "2023-10-12T00:00:00.000000000",
          "2023-10-13T00:00:00.000000000",
          "2023-10-16T00:00:00.000000000",
          "2023-10-17T00:00:00.000000000",
          "2023-10-18T00:00:00.000000000",
          "2023-10-19T00:00:00.000000000",
          "2023-10-20T00:00:00.000000000",
          "2023-10-23T00:00:00.000000000",
          "2023-10-24T00:00:00.000000000",
          "2023-10-25T00:00:00.000000000",
          "2023-10-26T00:00:00.000000000",
          "2023-10-27T00:00:00.000000000",
          "2023-10-30T00:00:00.000000000",
          "2023-10-31T00:00:00.000000000",
          "2023-11-01T00:00:00.000000000",
          "2023-11-02T00:00:00.000000000",
          "2023-11-03T00:00:00.000000000",
          "2023-11-06T00:00:00.000000000",
          "2023-11-07T00:00:00.000000000",
          "2023-11-08T00:00:00.000000000",
          "2023-11-09T00:00:00.000000000",
          "2023-11-10T00:00:00.000000000",
          "2023-11-13T00:00:00.000000000",
          "2023-11-14T00:00:00.000000000",
          "2023-11-15T00:00:00.000000000",
          "2023-11-16T00:00:00.000000000",
          "2023-11-17T00:00:00.000000000",
          "2023-11-20T00:00:00.000000000",
          "2023-11-21T00:00:00.000000000",
          "2023-11-22T00:00:00.000000000",
          "2023-11-23T00:00:00.000000000",
          "2023-11-24T00:00:00.000000000",
          "2023-11-27T00:00:00.000000000",
          "2023-11-28T00:00:00.000000000",
          "2023-11-29T00:00:00.000000000",
          "2023-11-30T00:00:00.000000000",
          "2023-12-01T00:00:00.000000000",
          "2023-12-04T00:00:00.000000000",
          "2023-12-05T00:00:00.000000000",
          "2023-12-06T00:00:00.000000000",
          "2023-12-07T00:00:00.000000000",
          "2023-12-08T00:00:00.000000000",
          "2023-12-11T00:00:00.000000000",
          "2023-12-12T00:00:00.000000000",
          "2023-12-13T00:00:00.000000000",
          "2023-12-14T00:00:00.000000000",
          "2023-12-15T00:00:00.000000000",
          "2023-12-18T00:00:00.000000000",
          "2023-12-19T00:00:00.000000000",
          "2023-12-20T00:00:00.000000000",
          "2023-12-21T00:00:00.000000000",
          "2023-12-22T00:00:00.000000000",
          "2023-12-25T00:00:00.000000000",
          "2023-12-26T00:00:00.000000000",
          "2023-12-27T00:00:00.000000000",
          "2023-12-28T00:00:00.000000000",
          "2023-12-29T00:00:00.000000000"
         ],
         "xaxis": "x2",
         "y": {
          "bdata": "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",
          "dtype": "f8"
         },
         "yaxis": "y3"
        },
        {
         "marker": {
          "color": [
           "gray",
           "#ef5350",
           "#26a69a",
           "#26a69a",
           "#ef5350",
           "#ef5350",
           "#26a69a",
           "#26a69a",
           "#ef5350",
           "#26a69a",
           "#ef5350",
           "#ef5350",
           "#26a69a",
           "#ef5350",
           "#ef5350",
           "#ef5350",
           "#ef5350",
           "#26a69a",
           "#ef5350",
           "#ef5350",
           "#26a69a",
           "#ef5350",
           "#26a69a",
           "#ef5350",
           "#ef5350",
           "#26a69a",
           "#ef5350",
           "#26a69a",
           "#ef5350",
           "#ef5350",
           "#ef5350",
           "#26a69a",
           "#26a69a",
           "#ef5350",
           "#26a69a",
           "#ef5350",
           "#26a69a",
           "#ef5350",
           "#ef5350",
           "#26a69a",
           "#26a69a",
           "#26a69a",
           "#ef5350",
           "#ef5350",
           "#ef5350",
           "#ef5350",
           "#ef5350",
           "#26a69a",
           "#26a69a",
           "#ef5350",
           "#26a69a",
           "#ef5350",
           "#ef5350",
           "#26a69a",
           "#26a69a",
           "#26a69a",
           "#ef5350",
           "#ef5350",
           "#26a69a",
           "#26a69a",
           "#ef5350",
           "#ef5350",
           "#ef5350",
           "#ef5350",
           "#26a69a",
           "#26a69a",
           "#ef5350",
           "#26a69a",
           "#26a69a",
           "#ef5350",
           "#26a69a",
           "#26a69a",
           "#26a69a",
           "#26a69a",
           "#ef5350",
           "#26a69a",
           "#26a69a",
           "#ef5350",
           "#26a69a",
           "#ef5350",
           "#26a69a",
           "#26a69a",
           "#26a69a",
           "#ef5350",
           "#ef5350",
           "#ef5350",
           "#26a69a",
           "#26a69a",
           "#ef5350",
           "#26a69a",
           "#26a69a",
           "#26a69a",
           "#ef5350",
           "#ef5350",
           "#ef5350",
           "#ef5350",
           "#26a69a",
           "#26a69a",
           "#ef5350",
           "#ef5350",
           "#ef5350",
           "#ef5350",
           "#ef5350",
           "#ef5350",
           "#ef5350",
           "#26a69a",
           "#26a69a",
           "#26a69a",
           "#26a69a",
           "#ef5350",
           "#ef5350",
           "#ef5350",
           "#26a69a",
           "#26a69a",
           "#ef5350",
           "#26a69a",
           "#26a69a",
           "#ef5350",
           "#26a69a",
           "#26a69a",
           "#26a69a",
           "#ef5350",
           "#26a69a",
           "#ef5350",
           "#26a69a",
           "#26a69a",
           "#ef5350",
           "#ef5350",
           "#26a69a",
           "#ef5350",
           "#ef5350",
           "#26a69a",
           "#ef5350",
           "#26a69a",
           "#ef5350",
           "#26a69a",
           "#ef5350",
           "#ef5350",
           "#26a69a",
           "#ef5350",
           "#26a69a",
           "#26a69a",
           "#ef5350",
           "#26a69a",
           "#26a69a",
           "#26a69a",
           "#ef5350",
           "#ef5350",
           "#26a69a",
           "#26a69a",
           "#26a69a",
           "#26a69a",
           "#ef5350",
           "#26a69a",
           "#26a69a",
           "#ef5350",
           "#26a69a",
           "#26a69a",
           "#ef5350",
           "#26a69a",
           "#ef5350",
           "#26a69a",
           "#26a69a",
           "#ef5350",
           "#26a69a",
           "#26a69a",
           "#26a69a",
           "#26a69a",
           "#ef5350",
           "#ef5350",
           "#ef5350",
           "#ef5350",
           "#ef5350",
           "#26a69a",
           "#26a69a",
           "#26a69a",
           "#26a69a",
           "#26a69a",
           "#ef5350",
           "#26a69a",
           "#26a69a",
           "#ef5350",
           "#ef5350",
           "#26a69a",
           "#ef5350",
           "#26a69a",
           "#26a69a",
           "#ef5350",
           "#ef5350",
           "#ef5350",
           "#ef5350",
           "#26a69a",
           "#26a69a",
           "#ef5350",
           "#26a69a",
           "#26a69a",
           "#ef5350",
           "#26a69a",
           "#26a69a",
           "#ef5350",
           "#26a69a",
           "#26a69a",
           "#26a69a",
           "#26a69a",
           "#ef5350",
           "#ef5350",
           "#26a69a",
           "#26a69a",
           "#26a69a",
           "#26a69a",
           "#26a69a",
           "#26a69a",
           "#26a69a",
           "#26a69a",
           "#ef5350",
           "#26a69a",
           "#ef5350",
           "#ef5350",
           "#ef5350",
           "#26a69a",
           "#26a69a",
           "#ef5350",
           "#26a69a",
           "#ef5350",
           "#ef5350",
           "#26a69a",
           "#26a69a",
           "#ef5350",
           "#ef5350",
           "#26a69a",
           "#ef5350",
           "#26a69a",
           "#26a69a",
           "#ef5350",
           "#26a69a",
           "#26a69a",
           "#ef5350",
           "#26a69a",
           "#ef5350",
           "#26a69a",
           "#ef5350",
           "#ef5350",
           "#26a69a",
           "#26a69a",
           "#ef5350",
           "#ef5350",
           "#ef5350",
           "#ef5350",
           "#26a69a",
           "#26a69a",
           "#ef5350",
           "#26a69a",
           "#26a69a",
           "#26a69a",
           "#ef5350",
           "#ef5350",
           "#26a69a",
           "#ef5350",
           "#26a69a",
           "#26a69a"
          ]
         },
         "name": "Volume",
         "opacity": 0.6,
         "type": "bar",
         "x": [
          "2023-01-02T00:00:00.000000000",
          "2023-01-03T00:00:00.000000000",
          "2023-01-04T00:00:00.000000000",
          "2023-01-05T00:00:00.000000000",
          "2023-01-06T00:00:00.000000000",
          "2023-01-09T00:00:00.000000000",
          "2023-01-10T00:00:00.000000000",
          "2023-01-11T00:00:00.000000000",
          "2023-01-12T00:00:00.000000000",
          "2023-01-13T00:00:00.000000000",
          "2023-01-16T00:00:00.000000000",
          "2023-01-17T00:00:00.000000000",
          "2023-01-18T00:00:00.000000000",
          "2023-01-19T00:00:00.000000000",
          "2023-01-20T00:00:00.000000000",
          "2023-01-23T00:00:00.000000000",
          "2023-01-24T00:00:00.000000000",
          "2023-01-25T00:00:00.000000000",
          "2023-01-26T00:00:00.000000000",
          "2023-01-27T00:00:00.000000000",
          "2023-01-30T00:00:00.000000000",
          "2023-01-31T00:00:00.000000000",
          "2023-02-01T00:00:00.000000000",
          "2023-02-02T00:00:00.000000000",
          "2023-02-03T00:00:00.000000000",
          "2023-02-06T00:00:00.000000000",
          "2023-02-07T00:00:00.000000000",
          "2023-02-08T00:00:00.000000000",
          "2023-02-09T00:00:00.000000000",
          "2023-02-10T00:00:00.000000000",
          "2023-02-13T00:00:00.000000000",
          "2023-02-14T00:00:00.000000000",
          "2023-02-15T00:00:00.000000000",
          "2023-02-16T00:00:00.000000000",
          "2023-02-17T00:00:00.000000000",
          "2023-02-20T00:00:00.000000000",
          "2023-02-21T00:00:00.000000000",
          "2023-02-22T00:00:00.000000000",
          "2023-02-23T00:00:00.000000000",
          "2023-02-24T00:00:00.000000000",
          "2023-02-27T00:00:00.000000000",
          "2023-02-28T00:00:00.000000000",
          "2023-03-01T00:00:00.000000000",
          "2023-03-02T00:00:00.000000000",
          "2023-03-03T00:00:00.000000000",
          "2023-03-06T00:00:00.000000000",
          "2023-03-07T00:00:00.000000000",
          "2023-03-08T00:00:00.000000000",
          "2023-03-09T00:00:00.000000000",
          "2023-03-10T00:00:00.000000000",
          "2023-03-13T00:00:00.000000000",
          "2023-03-14T00:00:00.000000000",
          "2023-03-15T00:00:00.000000000",
          "2023-03-16T00:00:00.000000000",
          "2023-03-17T00:00:00.000000000",
          "2023-03-20T00:00:00.000000000",
          "2023-03-21T00:00:00.000000000",
          "2023-03-22T00:00:00.000000000",
          "2023-03-23T00:00:00.000000000",
          "2023-03-24T00:00:00.000000000",
          "2023-03-27T00:00:00.000000000",
          "2023-03-28T00:00:00.000000000",
          "2023-03-29T00:00:00.000000000",
          "2023-03-30T00:00:00.000000000",
          "2023-03-31T00:00:00.000000000",
          "2023-04-03T00:00:00.000000000",
          "2023-04-04T00:00:00.000000000",
          "2023-04-05T00:00:00.000000000",
          "2023-04-06T00:00:00.000000000",
          "2023-04-07T00:00:00.000000000",
          "2023-04-10T00:00:00.000000000",
          "2023-04-11T00:00:00.000000000",
          "2023-04-12T00:00:00.000000000",
          "2023-04-13T00:00:00.000000000",
          "2023-04-14T00:00:00.000000000",
          "2023-04-17T00:00:00.000000000",
          "2023-04-18T00:00:00.000000000",
          "2023-04-19T00:00:00.000000000",
          "2023-04-20T00:00:00.000000000",
          "2023-04-21T00:00:00.000000000",
          "2023-04-24T00:00:00.000000000",
          "2023-04-25T00:00:00.000000000",
          "2023-04-26T00:00:00.000000000",
          "2023-04-27T00:00:00.000000000",
          "2023-04-28T00:00:00.000000000",
          "2023-05-01T00:00:00.000000000",
          "2023-05-02T00:00:00.000000000",
          "2023-05-03T00:00:00.000000000",
          "2023-05-04T00:00:00.000000000",
          "2023-05-05T00:00:00.000000000",
          "2023-05-08T00:00:00.000000000",
          "2023-05-09T00:00:00.000000000",
          "2023-05-10T00:00:00.000000000",
          "2023-05-11T00:00:00.000000000",
          "2023-05-12T00:00:00.000000000",
          "2023-05-15T00:00:00.000000000",
          "2023-05-16T00:00:00.000000000",
          "2023-05-17T00:00:00.000000000",
          "2023-05-18T00:00:00.000000000",
          "2023-05-19T00:00:00.000000000",
          "2023-05-22T00:00:00.000000000",
          "2023-05-23T00:00:00.000000000",
          "2023-05-24T00:00:00.000000000",
          "2023-05-25T00:00:00.000000000",
          "2023-05-26T00:00:00.000000000",
          "2023-05-29T00:00:00.000000000",
          "2023-05-30T00:00:00.000000000",
          "2023-05-31T00:00:00.000000000",
          "2023-06-01T00:00:00.000000000",
          "2023-06-02T00:00:00.000000000",
          "2023-06-05T00:00:00.000000000",
          "2023-06-06T00:00:00.000000000",
          "2023-06-07T00:00:00.000000000",
          "2023-06-08T00:00:00.000000000",
          "2023-06-09T00:00:00.000000000",
          "2023-06-12T00:00:00.000000000",
          "2023-06-13T00:00:00.000000000",
          "2023-06-14T00:00:00.000000000",
          "2023-06-15T00:00:00.000000000",
          "2023-06-16T00:00:00.000000000",
          "2023-06-19T00:00:00.000000000",
          "2023-06-20T00:00:00.000000000",
          "2023-06-21T00:00:00.000000000",
          "2023-06-22T00:00:00.000000000",
          "2023-06-23T00:00:00.000000000",
          "2023-06-26T00:00:00.000000000",
          "2023-06-27T00:00:00.000000000",
          "2023-06-28T00:00:00.000000000",
          "2023-06-29T00:00:00.000000000",
          "2023-06-30T00:00:00.000000000",
          "2023-07-03T00:00:00.000000000",
          "2023-07-04T00:00:00.000000000",
          "2023-07-05T00:00:00.000000000",
          "2023-07-06T00:00:00.000000000",
          "2023-07-07T00:00:00.000000000",
          "2023-07-10T00:00:00.000000000",
          "2023-07-11T00:00:00.000000000",
          "2023-07-12T00:00:00.000000000",
          "2023-07-13T00:00:00.000000000",
          "2023-07-14T00:00:00.000000000",
          "2023-07-17T00:00:00.000000000",
          "2023-07-18T00:00:00.000000000",
          "2023-07-19T00:00:00.000000000",
          "2023-07-20T00:00:00.000000000",
          "2023-07-21T00:00:00.000000000",
          "2023-07-24T00:00:00.000000000",
          "2023-07-25T00:00:00.000000000",
          "2023-07-26T00:00:00.000000000",
          "2023-07-27T00:00:00.000000000",
          "2023-07-28T00:00:00.000000000",
          "2023-07-31T00:00:00.000000000",
          "2023-08-01T00:00:00.000000000",
          "2023-08-02T00:00:00.000000000",
          "2023-08-03T00:00:00.000000000",
          "2023-08-04T00:00:00.000000000",
          "2023-08-07T00:00:00.000000000",
          "2023-08-08T00:00:00.000000000",
          "2023-08-09T00:00:00.000000000",
          "2023-08-10T00:00:00.000000000",
          "2023-08-11T00:00:00.000000000",
          "2023-08-14T00:00:00.000000000",
          "2023-08-15T00:00:00.000000000",
          "2023-08-16T00:00:00.000000000",
          "2023-08-17T00:00:00.000000000",
          "2023-08-18T00:00:00.000000000",
          "2023-08-21T00:00:00.000000000",
          "2023-08-22T00:00:00.000000000",
          "2023-08-23T00:00:00.000000000",
          "2023-08-24T00:00:00.000000000",
          "2023-08-25T00:00:00.000000000",
          "2023-08-28T00:00:00.000000000",
          "2023-08-29T00:00:00.000000000",
          "2023-08-30T00:00:00.000000000",
          "2023-08-31T00:00:00.000000000",
          "2023-09-01T00:00:00.000000000",
          "2023-09-04T00:00:00.000000000",
          "2023-09-05T00:00:00.000000000",
          "2023-09-06T00:00:00.000000000",
          "2023-09-07T00:00:00.000000000",
          "2023-09-08T00:00:00.000000000",
          "2023-09-11T00:00:00.000000000",
          "2023-09-12T00:00:00.000000000",
          "2023-09-13T00:00:00.000000000",
          "2023-09-14T00:00:00.000000000",
          "2023-09-15T00:00:00.000000000",
          "2023-09-18T00:00:00.000000000",
          "2023-09-19T00:00:00.000000000",
          "2023-09-20T00:00:00.000000000",
          "2023-09-21T00:00:00.000000000",
          "2023-09-22T00:00:00.000000000",
          "2023-09-25T00:00:00.000000000",
          "2023-09-26T00:00:00.000000000",
          "2023-09-27T00:00:00.000000000",
          "2023-09-28T00:00:00.000000000",
          "2023-09-29T00:00:00.000000000",
          "2023-10-02T00:00:00.000000000",
          "2023-10-03T00:00:00.000000000",
          "2023-10-04T00:00:00.000000000",
          "2023-10-05T00:00:00.000000000",
          "2023-10-06T00:00:00.000000000",
          "2023-10-09T00:00:00.000000000",
          "2023-10-10T00:00:00.000000000",
          "2023-10-11T00:00:00.000000000",
          "2023-10-12T00:00:00.000000000",
          "2023-10-13T00:00:00.000000000",
          "2023-10-16T00:00:00.000000000",
          "2023-10-17T00:00:00.000000000",
          "2023-10-18T00:00:00.000000000",
          "2023-10-19T00:00:00.000000000",
          "2023-10-20T00:00:00.000000000",
          "2023-10-23T00:00:00.000000000",
          "2023-10-24T00:00:00.000000000",
          "2023-10-25T00:00:00.000000000",
          "2023-10-26T00:00:00.000000000",
          "2023-10-27T00:00:00.000000000",
          "2023-10-30T00:00:00.000000000",
          "2023-10-31T00:00:00.000000000",
          "2023-11-01T00:00:00.000000000",
          "2023-11-02T00:00:00.000000000",
          "2023-11-03T00:00:00.000000000",
          "2023-11-06T00:00:00.000000000",
          "2023-11-07T00:00:00.000000000",
          "2023-11-08T00:00:00.000000000",
          "2023-11-09T00:00:00.000000000",
          "2023-11-10T00:00:00.000000000",
          "2023-11-13T00:00:00.000000000",
          "2023-11-14T00:00:00.000000000",
          "2023-11-15T00:00:00.000000000",
          "2023-11-16T00:00:00.000000000",
          "2023-11-17T00:00:00.000000000",
          "2023-11-20T00:00:00.000000000",
          "2023-11-21T00:00:00.000000000",
          "2023-11-22T00:00:00.000000000",
          "2023-11-23T00:00:00.000000000",
          "2023-11-24T00:00:00.000000000",
          "2023-11-27T00:00:00.000000000",
          "2023-11-28T00:00:00.000000000",
          "2023-11-29T00:00:00.000000000",
          "2023-11-30T00:00:00.000000000",
          "2023-12-01T00:00:00.000000000",
          "2023-12-04T00:00:00.000000000",
          "2023-12-05T00:00:00.000000000",
          "2023-12-06T00:00:00.000000000",
          "2023-12-07T00:00:00.000000000",
          "2023-12-08T00:00:00.000000000",
          "2023-12-11T00:00:00.000000000",
          "2023-12-12T00:00:00.000000000",
          "2023-12-13T00:00:00.000000000",
          "2023-12-14T00:00:00.000000000",
          "2023-12-15T00:00:00.000000000",
          "2023-12-18T00:00:00.000000000",
          "2023-12-19T00:00:00.000000000",
          "2023-12-20T00:00:00.000000000",
          "2023-12-21T00:00:00.000000000",
          "2023-12-22T00:00:00.000000000",
          "2023-12-25T00:00:00.000000000",
          "2023-12-26T00:00:00.000000000",
          "2023-12-27T00:00:00.000000000",
          "2023-12-28T00:00:00.000000000",
          "2023-12-29T00:00:00.000000000"
         ],
         "xaxis": "x3",
         "y": {
          "bdata": "bMYTADW7EAB5OA0AiE4oAEZBFQBqpwwA2HcLAESrGgBg1AwAQIASAPc3EwCILBUA22AIAHynIABawCMAOWAKAO4gDQANFAoAcN8LAJZxKQBNhRsAjGUIAAvJFgCWRxMAiBYiABGUHgCfghwA/cAfAHfeDQDBWSAAcCINAFSWDAAlFgsAZdMhABYXIQCkJyMAg7YWAJZHDwDVhCQAsA4LAAJICQBfQx0AzbgWAO5YFACUcQ4AElMhAGCkCQA+/gwApkEZAPwMDQCiWA0AoP4TAD4tFwAVxg8AeecSAITqCwAtqgwArOIQAAUnDABvhQ4ANJoSAOs0HgAoJw8AglINANxJFgCBFAwAHKQVACZYIQB2FxsAy/sNAO+dFQBonhgA40UTALjLJwBGDBkAL+AkAGl6GQAVjBAAVcgYAE4cFAAvhxEA88cUALIHHABueBcAWqkiAFy+CwAD1RIALukQAO1gFABdNiAA54AXAIfsFwDC3iAAzycWAHlVFgC5ExYASfQLAIufDQB3JQ0AaVIcABc5JgCPNx0AmAwPADtnEQB/lwgALMELAD7cKQCspxcA9EoeAD+xCwDfvgwARUYNAF2TDgCxRycAMFYYAIAuGgAQfhoAMVMUAIGJHwDM3Q8A5UgKAM/JIgC4EhkAOUoLAIAqGwD/BR8A7AIdAIV7IgDtihYAxKUOAJT7EQCkoAwAxWEXAEJIIAB+fA4ANEwMAFdSDQDL9hYAzsIMANOMDAA+GBQApKIYAJm5HAAqVxwAjJ8YAAQVIQAJUyIAeg4dABSBFgCIyB8AvtEeAN/pCQCcNSAA7aYIAE83EwCimhsA8UAQAFfVEgB0twoAMd0iAG5RIQD6jCIAFY0NANrrCgCqgxYACSgaAGQ+DAAUch4A2dIJAEdCHgCLwBwAi6wcACGqHACUJRUAv/cLAGkxDgC4RhgA5LsMAK07EgD4iS4AYekdAPPuIQBaRg0AibIhADvJHAD8XA0A9tQQAMA1DQDmBBAAWqcLAJYVHQCLnxAA6OUKAPtPCwDCFxQAlRMQAGvoCwAaQxgApuAUANphFQC/dwkA+GEXAL4lHQCydCEAV1kVAOr9DwDc+RkA+hkWACLxEgADejMAFfkeACyZEgDNfBsAzSAOAM17CgBngB8AGBUZANalFgDqkQ4Ag1gXAOocEgAXvgwAxREVAJ/kIAAl4yEAPC0MAGmnEwANHhkACQkbAArnFwBELhUAJjQeAGj9HAAKQQsAV58kAKihFQC4Ch0A3f0MAMBXHgAhGA4AWtEfAKkUDACSVwoAA/kRAB4+EACgrRsA1lEaAMd1FgAn7xgAmzEdAONsGABEugkAP3cpAInqHAAh5CIAi/wOABRYJQBH4AwAN6AKANotIwA=",
          "dtype": "i4"
         },
         "yaxis": "y4"
        }
       ],
       "layout": {
        "annotations": [
         {
          "font": {
           "size": 16
          },
          "showarrow": false,
          "text": "EXAMPLE Price & Momentum Factor",
          "x": 0.47,
          "xanchor": "center",
          "xref": "paper",
          "y": 1,
          "yanchor": "bottom",
          "yref": "paper"
         },
         {
          "font": {
           "size": 16
          },
          "showarrow": false,
          "text": "Momentum Factor Values",
          "x": 0.47,
          "xanchor": "center",
          "xref": "paper",
          "y": 0.41000000000000003,
          "yanchor": "bottom",
          "yref": "paper"
         },
         {
          "font": {
           "size": 16
          },
          "showarrow": false,
          "text": "Volume",
          "x": 0.47,
          "xanchor": "center",
          "xref": "paper",
          "y": 0.135,
          "yanchor": "bottom",
          "yref": "paper"
         }
        ],
        "font": {
         "family": "Arial",
         "size": 12
        },
        "height": 800,
        "hovermode": "x unified",
        "shapes": [
         {
          "line": {
           "color": "gray",
           "dash": "dash"
          },
          "opacity": 0.5,
          "type": "line",
          "x0": 0,
          "x1": 1,
          "xref": "x2 domain",
          "y0": 0,
          "y1": 0,
          "yref": "y3"
         }
        ],
        "showlegend": true,
        "template": {
         "data": {
          "bar": [
           {
            "error_x": {
             "color": "#f2f5fa"
            },
            "error_y": {
             "color": "#f2f5fa"
            },
            "marker": {
             "line": {
              "color": "rgb(17,17,17)",
              "width": 0.5
             },
             "pattern": {
              "fillmode": "overlay",
              "size": 10,
              "solidity": 0.2
             }
            },
            "type": "bar"
           }
          ],
          "barpolar": [
           {
            "marker": {
             "line": {
              "color": "rgb(17,17,17)",
              "width": 0.5
             },
             "pattern": {
              "fillmode": "overlay",
              "size": 10,
              "solidity": 0.2
             }
            },
            "type": "barpolar"
           }
          ],
          "carpet": [
           {
            "aaxis": {
             "endlinecolor": "#A2B1C6",
             "gridcolor": "#506784",
             "linecolor": "#506784",
             "minorgridcolor": "#506784",
             "startlinecolor": "#A2B1C6"
            },
            "baxis": {
             "endlinecolor": "#A2B1C6",
             "gridcolor": "#506784",
             "linecolor": "#506784",
             "minorgridcolor": "#506784",
             "startlinecolor": "#A2B1C6"
            },
            "type": "carpet"
           }
          ],
          "choropleth": [
           {
            "colorbar": {
             "outlinewidth": 0,
             "ticks": ""
            },
            "type": "choropleth"
           }
          ],
          "contour": [
           {
            "colorbar": {
             "outlinewidth": 0,
             "ticks": ""
            },
            "colorscale": [
             [
              0,
              "#0d0887"
             ],
             [
              0.1111111111111111,
              "#46039f"
             ],
             [
              0.2222222222222222,
              "#7201a8"
             ],
             [
              0.3333333333333333,
              "#9c179e"
             ],
             [
              0.4444444444444444,
              "#bd3786"
             ],
             [
              0.5555555555555556,
              "#d8576b"
             ],
             [
              0.6666666666666666,
              "#ed7953"
             ],
             [
              0.7777777777777778,
              "#fb9f3a"
             ],
             [
              0.8888888888888888,
              "#fdca26"
             ],
             [
              1,
              "#f0f921"
             ]
            ],
            "type": "contour"
           }
          ],
          "contourcarpet": [
           {
            "colorbar": {
             "outlinewidth": 0,
             "ticks": ""
            },
            "type": "contourcarpet"
           }
          ],
          "heatmap": [
           {
            "colorbar": {
             "outlinewidth": 0,
             "ticks": ""
            },
            "colorscale": [
             [
              0,
              "#0d0887"
             ],
             [
              0.1111111111111111,
              "#46039f"
             ],
             [
              0.2222222222222222,
              "#7201a8"
             ],
             [
              0.3333333333333333,
              "#9c179e"
             ],
             [
              0.4444444444444444,
              "#bd3786"
             ],
             [
              0.5555555555555556,
              "#d8576b"
             ],
             [
              0.6666666666666666,
              "#ed7953"
             ],
             [
              0.7777777777777778,
              "#fb9f3a"
             ],
             [
              0.8888888888888888,
              "#fdca26"
             ],
             [
              1,
              "#f0f921"
             ]
            ],
            "type": "heatmap"
           }
          ],
          "histogram": [
           {
            "marker": {
             "pattern": {
              "fillmode": "overlay",
              "size": 10,
              "solidity": 0.2
             }
            },
            "type": "histogram"
           }
          ],
          "histogram2d": [
           {
            "colorbar": {
             "outlinewidth": 0,
             "ticks": ""
            },
            "colorscale": [
             [
              0,
              "#0d0887"
             ],
             [
              0.1111111111111111,
              "#46039f"
             ],
             [
              0.2222222222222222,
              "#7201a8"
             ],
             [
              0.3333333333333333,
              "#9c179e"
             ],
             [
              0.4444444444444444,
              "#bd3786"
             ],
             [
              0.5555555555555556,
              "#d8576b"
             ],
             [
              0.6666666666666666,
              "#ed7953"
             ],
             [
              0.7777777777777778,
              "#fb9f3a"
             ],
             [
              0.8888888888888888,
              "#fdca26"
             ],
             [
              1,
              "#f0f921"
             ]
            ],
            "type": "histogram2d"
           }
          ],
          "histogram2dcontour": [
           {
            "colorbar": {
             "outlinewidth": 0,
             "ticks": ""
            },
            "colorscale": [
             [
              0,
              "#0d0887"
             ],
             [
              0.1111111111111111,
              "#46039f"
             ],
             [
              0.2222222222222222,
              "#7201a8"
             ],
             [
              0.3333333333333333,
              "#9c179e"
             ],
             [
              0.4444444444444444,
              "#bd3786"
             ],
             [
              0.5555555555555556,
              "#d8576b"
             ],
             [
              0.6666666666666666,
              "#ed7953"
             ],
             [
              0.7777777777777778,
              "#fb9f3a"
             ],
             [
              0.8888888888888888,
              "#fdca26"
             ],
             [
              1,
              "#f0f921"
             ]
            ],
            "type": "histogram2dcontour"
           }
          ],
          "mesh3d": [
           {
            "colorbar": {
             "outlinewidth": 0,
             "ticks": ""
            },
            "type": "mesh3d"
           }
          ],
          "parcoords": [
           {
            "line": {
             "colorbar": {
              "outlinewidth": 0,
              "ticks": ""
             }
            },
            "type": "parcoords"
           }
          ],
          "pie": [
           {
            "automargin": true,
            "type": "pie"
           }
          ],
          "scatter": [
           {
            "marker": {
             "line": {
              "color": "#283442"
             }
            },
            "type": "scatter"
           }
          ],
          "scatter3d": [
           {
            "line": {
             "colorbar": {
              "outlinewidth": 0,
              "ticks": ""
             }
            },
            "marker": {
             "colorbar": {
              "outlinewidth": 0,
              "ticks": ""
             }
            },
            "type": "scatter3d"
           }
          ],
          "scattercarpet": [
           {
            "marker": {
             "colorbar": {
              "outlinewidth": 0,
              "ticks": ""
             }
            },
            "type": "scattercarpet"
           }
          ],
          "scattergeo": [
           {
            "marker": {
             "colorbar": {
              "outlinewidth": 0,
              "ticks": ""
             }
            },
            "type": "scattergeo"
           }
          ],
          "scattergl": [
           {
            "marker": {
             "line": {
              "color": "#283442"
             }
            },
            "type": "scattergl"
           }
          ],
          "scattermap": [
           {
            "marker": {
             "colorbar": {
              "outlinewidth": 0,
              "ticks": ""
             }
            },
            "type": "scattermap"
           }
          ],
          "scattermapbox": [
           {
            "marker": {
             "colorbar": {
              "outlinewidth": 0,
              "ticks": ""
             }
            },
            "type": "scattermapbox"
           }
          ],
          "scatterpolar": [
           {
            "marker": {
             "colorbar": {
              "outlinewidth": 0,
              "ticks": ""
             }
            },
            "type": "scatterpolar"
           }
          ],
          "scatterpolargl": [
           {
            "marker": {
             "colorbar": {
              "outlinewidth": 0,
              "ticks": ""
             }
            },
            "type": "scatterpolargl"
           }
          ],
          "scatterternary": [
           {
            "marker": {
             "colorbar": {
              "outlinewidth": 0,
              "ticks": ""
             }
            },
            "type": "scatterternary"
           }
          ],
          "surface": [
           {
            "colorbar": {
             "outlinewidth": 0,
             "ticks": ""
            },
            "colorscale": [
             [
              0,
              "#0d0887"
             ],
             [
              0.1111111111111111,
              "#46039f"
             ],
             [
              0.2222222222222222,
              "#7201a8"
             ],
             [
              0.3333333333333333,
              "#9c179e"
             ],
             [
              0.4444444444444444,
              "#bd3786"
             ],
             [
              0.5555555555555556,
              "#d8576b"
             ],
             [
              0.6666666666666666,
              "#ed7953"
             ],
             [
              0.7777777777777778,
              "#fb9f3a"
             ],
             [
              0.8888888888888888,
              "#fdca26"
             ],
             [
              1,
              "#f0f921"
             ]
            ],
            "type": "surface"
           }
          ],
          "table": [
           {
            "cells": {
             "fill": {
              "color": "#506784"
             },
             "line": {
              "color": "rgb(17,17,17)"
             }
            },
            "header": {
             "fill": {
              "color": "#2a3f5f"
             },
             "line": {
              "color": "rgb(17,17,17)"
             }
            },
            "type": "table"
           }
          ]
         },
         "layout": {
          "annotationdefaults": {
           "arrowcolor": "#f2f5fa",
           "arrowhead": 0,
           "arrowwidth": 1
          },
          "autotypenumbers": "strict",
          "coloraxis": {
           "colorbar": {
            "outlinewidth": 0,
            "ticks": ""
           }
          },
          "colorscale": {
           "diverging": [
            [
             0,
             "#8e0152"
            ],
            [
             0.1,
             "#c51b7d"
            ],
            [
             0.2,
             "#de77ae"
            ],
            [
             0.3,
             "#f1b6da"
            ],
            [
             0.4,
             "#fde0ef"
            ],
            [
             0.5,
             "#f7f7f7"
            ],
            [
             0.6,
             "#e6f5d0"
            ],
            [
             0.7,
             "#b8e186"
            ],
            [
             0.8,
             "#7fbc41"
            ],
            [
             0.9,
             "#4d9221"
            ],
            [
             1,
             "#276419"
            ]
           ],
           "sequential": [
            [
             0,
             "#0d0887"
            ],
            [
             0.1111111111111111,
             "#46039f"
            ],
            [
             0.2222222222222222,
             "#7201a8"
            ],
            [
             0.3333333333333333,
             "#9c179e"
            ],
            [
             0.4444444444444444,
             "#bd3786"
            ],
            [
             0.5555555555555556,
             "#d8576b"
            ],
            [
             0.6666666666666666,
             "#ed7953"
            ],
            [
             0.7777777777777778,
             "#fb9f3a"
            ],
            [
             0.8888888888888888,
             "#fdca26"
            ],
            [
             1,
             "#f0f921"
            ]
           ],
           "sequentialminus": [
            [
             0,
             "#0d0887"
            ],
            [
             0.1111111111111111,
             "#46039f"
            ],
            [
             0.2222222222222222,
             "#7201a8"
            ],
            [
             0.3333333333333333,
             "#9c179e"
            ],
            [
             0.4444444444444444,
             "#bd3786"
            ],
            [
             0.5555555555555556,
             "#d8576b"
            ],
            [
             0.6666666666666666,
             "#ed7953"
            ],
            [
             0.7777777777777778,
             "#fb9f3a"
            ],
            [
             0.8888888888888888,
             "#fdca26"
            ],
            [
             1,
             "#f0f921"
            ]
           ]
          },
          "colorway": [
           "#636efa",
           "#EF553B",
           "#00cc96",
           "#ab63fa",
           "#FFA15A",
           "#19d3f3",
           "#FF6692",
           "#B6E880",
           "#FF97FF",
           "#FECB52"
          ],
          "font": {
           "color": "#f2f5fa"
          },
          "geo": {
           "bgcolor": "rgb(17,17,17)",
           "lakecolor": "rgb(17,17,17)",
           "landcolor": "rgb(17,17,17)",
           "showlakes": true,
           "showland": true,
           "subunitcolor": "#506784"
          },
          "hoverlabel": {
           "align": "left"
          },
          "hovermode": "closest",
          "mapbox": {
           "style": "dark"
          },
          "paper_bgcolor": "rgb(17,17,17)",
          "plot_bgcolor": "rgb(17,17,17)",
          "polar": {
           "angularaxis": {
            "gridcolor": "#506784",
            "linecolor": "#506784",
            "ticks": ""
           },
           "bgcolor": "rgb(17,17,17)",
           "radialaxis": {
            "gridcolor": "#506784",
            "linecolor": "#506784",
            "ticks": ""
           }
          },
          "scene": {
           "xaxis": {
            "backgroundcolor": "rgb(17,17,17)",
            "gridcolor": "#506784",
            "gridwidth": 2,
            "linecolor": "#506784",
            "showbackground": true,
            "ticks": "",
            "zerolinecolor": "#C8D4E3"
           },
           "yaxis": {
            "backgroundcolor": "rgb(17,17,17)",
            "gridcolor": "#506784",
            "gridwidth": 2,
            "linecolor": "#506784",
            "showbackground": true,
            "ticks": "",
            "zerolinecolor": "#C8D4E3"
           },
           "zaxis": {
            "backgroundcolor": "rgb(17,17,17)",
            "gridcolor": "#506784",
            "gridwidth": 2,
            "linecolor": "#506784",
            "showbackground": true,
            "ticks": "",
            "zerolinecolor": "#C8D4E3"
           }
          },
          "shapedefaults": {
           "line": {
            "color": "#f2f5fa"
           }
          },
          "sliderdefaults": {
           "bgcolor": "#C8D4E3",
           "bordercolor": "rgb(17,17,17)",
           "borderwidth": 1,
           "tickwidth": 0
          },
          "ternary": {
           "aaxis": {
            "gridcolor": "#506784",
            "linecolor": "#506784",
            "ticks": ""
           },
           "baxis": {
            "gridcolor": "#506784",
            "linecolor": "#506784",
            "ticks": ""
           },
           "bgcolor": "rgb(17,17,17)",
           "caxis": {
            "gridcolor": "#506784",
            "linecolor": "#506784",
            "ticks": ""
           }
          },
          "title": {
           "x": 0.05
          },
          "updatemenudefaults": {
           "bgcolor": "#506784",
           "borderwidth": 0
          },
          "xaxis": {
           "automargin": true,
           "gridcolor": "#283442",
           "linecolor": "#506784",
           "ticks": "",
           "title": {
            "standoff": 15
           },
           "zerolinecolor": "#283442",
           "zerolinewidth": 2
          },
          "yaxis": {
           "automargin": true,
           "gridcolor": "#283442",
           "linecolor": "#506784",
           "ticks": "",
           "title": {
            "standoff": 15
           },
           "zerolinecolor": "#283442",
           "zerolinewidth": 2
          }
         }
        },
        "title": {
         "font": {
          "size": 24
         },
         "text": "Example: Momentum Factor vs Stock Price",
         "x": 0.5
        },
        "xaxis": {
         "anchor": "y",
         "domain": [
          0,
          0.94
         ],
         "matches": "x3",
         "rangebreaks": [
          {
           "values": [
            "2023-01-07T00:00:00",
            "2023-01-08T00:00:00",
            "2023-01-14T00:00:00",
            "2023-01-15T00:00:00",
            "2023-01-21T00:00:00",
            "2023-01-22T00:00:00",
            "2023-01-28T00:00:00",
            "2023-01-29T00:00:00",
            "2023-02-04T00:00:00",
            "2023-02-05T00:00:00",
            "2023-02-11T00:00:00",
            "2023-02-12T00:00:00",
            "2023-02-18T00:00:00",
            "2023-02-19T00:00:00",
            "2023-02-25T00:00:00",
            "2023-02-26T00:00:00",
            "2023-03-04T00:00:00",
            "2023-03-05T00:00:00",
            "2023-03-11T00:00:00",
            "2023-03-12T00:00:00",
            "2023-03-18T00:00:00",
            "2023-03-19T00:00:00",
            "2023-03-25T00:00:00",
            "2023-03-26T00:00:00",
            "2023-04-01T00:00:00",
            "2023-04-02T00:00:00",
            "2023-04-08T00:00:00",
            "2023-04-09T00:00:00",
            "2023-04-15T00:00:00",
            "2023-04-16T00:00:00",
            "2023-04-22T00:00:00",
            "2023-04-23T00:00:00",
            "2023-04-29T00:00:00",
            "2023-04-30T00:00:00",
            "2023-05-06T00:00:00",
            "2023-05-07T00:00:00",
            "2023-05-13T00:00:00",
            "2023-05-14T00:00:00",
            "2023-05-20T00:00:00",
            "2023-05-21T00:00:00",
            "2023-05-27T00:00:00",
            "2023-05-28T00:00:00",
            "2023-06-03T00:00:00",
            "2023-06-04T00:00:00",
            "2023-06-10T00:00:00",
            "2023-06-11T00:00:00",
            "2023-06-17T00:00:00",
            "2023-06-18T00:00:00",
            "2023-06-24T00:00:00",
            "2023-06-25T00:00:00",
            "2023-07-01T00:00:00",
            "2023-07-02T00:00:00",
            "2023-07-08T00:00:00",
            "2023-07-09T00:00:00",
            "2023-07-15T00:00:00",
            "2023-07-16T00:00:00",
            "2023-07-22T00:00:00",
            "2023-07-23T00:00:00",
            "2023-07-29T00:00:00",
            "2023-07-30T00:00:00",
            "2023-08-05T00:00:00",
            "2023-08-06T00:00:00",
            "2023-08-12T00:00:00",
            "2023-08-13T00:00:00",
            "2023-08-19T00:00:00",
            "2023-08-20T00:00:00",
            "2023-08-26T00:00:00",
            "2023-08-27T00:00:00",
            "2023-09-02T00:00:00",
            "2023-09-03T00:00:00",
            "2023-09-09T00:00:00",
            "2023-09-10T00:00:00",
            "2023-09-16T00:00:00",
            "2023-09-17T00:00:00",
            "2023-09-23T00:00:00",
            "2023-09-24T00:00:00",
            "2023-09-30T00:00:00",
            "2023-10-01T00:00:00",
            "2023-10-07T00:00:00",
            "2023-10-08T00:00:00",
            "2023-10-14T00:00:00",
            "2023-10-15T00:00:00",
            "2023-10-21T00:00:00",
            "2023-10-22T00:00:00",
            "2023-10-28T00:00:00",
            "2023-10-29T00:00:00",
            "2023-11-04T00:00:00",
            "2023-11-05T00:00:00",
            "2023-11-11T00:00:00",
            "2023-11-12T00:00:00",
            "2023-11-18T00:00:00",
            "2023-11-19T00:00:00",
            "2023-11-25T00:00:00",
            "2023-11-26T00:00:00",
            "2023-12-02T00:00:00",
            "2023-12-03T00:00:00",
            "2023-12-09T00:00:00",
            "2023-12-10T00:00:00",
            "2023-12-16T00:00:00",
            "2023-12-17T00:00:00",
            "2023-12-23T00:00:00",
            "2023-12-24T00:00:00"
           ]
          }
         ],
         "rangeslider": {
          "visible": false
         },
         "showticklabels": false
        },
        "xaxis2": {
         "anchor": "y3",
         "domain": [
          0,
          0.94
         ],
         "matches": "x3",
         "rangebreaks": [
          {
           "values": [
            "2023-01-07T00:00:00",
            "2023-01-08T00:00:00",
            "2023-01-14T00:00:00",
            "2023-01-15T00:00:00",
            "2023-01-21T00:00:00",
            "2023-01-22T00:00:00",
            "2023-01-28T00:00:00",
            "2023-01-29T00:00:00",
            "2023-02-04T00:00:00",
            "2023-02-05T00:00:00",
            "2023-02-11T00:00:00",
            "2023-02-12T00:00:00",
            "2023-02-18T00:00:00",
            "2023-02-19T00:00:00",
            "2023-02-25T00:00:00",
            "2023-02-26T00:00:00",
            "2023-03-04T00:00:00",
            "2023-03-05T00:00:00",
            "2023-03-11T00:00:00",
            "2023-03-12T00:00:00",
            "2023-03-18T00:00:00",
            "2023-03-19T00:00:00",
            "2023-03-25T00:00:00",
            "2023-03-26T00:00:00",
            "2023-04-01T00:00:00",
            "2023-04-02T00:00:00",
            "2023-04-08T00:00:00",
            "2023-04-09T00:00:00",
            "2023-04-15T00:00:00",
            "2023-04-16T00:00:00",
            "2023-04-22T00:00:00",
            "2023-04-23T00:00:00",
            "2023-04-29T00:00:00",
            "2023-04-30T00:00:00",
            "2023-05-06T00:00:00",
            "2023-05-07T00:00:00",
            "2023-05-13T00:00:00",
            "2023-05-14T00:00:00",
            "2023-05-20T00:00:00",
            "2023-05-21T00:00:00",
            "2023-05-27T00:00:00",
            "2023-05-28T00:00:00",
            "2023-06-03T00:00:00",
            "2023-06-04T00:00:00",
            "2023-06-10T00:00:00",
            "2023-06-11T00:00:00",
            "2023-06-17T00:00:00",
            "2023-06-18T00:00:00",
            "2023-06-24T00:00:00",
            "2023-06-25T00:00:00",
            "2023-07-01T00:00:00",
            "2023-07-02T00:00:00",
            "2023-07-08T00:00:00",
            "2023-07-09T00:00:00",
            "2023-07-15T00:00:00",
            "2023-07-16T00:00:00",
            "2023-07-22T00:00:00",
            "2023-07-23T00:00:00",
            "2023-07-29T00:00:00",
            "2023-07-30T00:00:00",
            "2023-08-05T00:00:00",
            "2023-08-06T00:00:00",
            "2023-08-12T00:00:00",
            "2023-08-13T00:00:00",
            "2023-08-19T00:00:00",
            "2023-08-20T00:00:00",
            "2023-08-26T00:00:00",
            "2023-08-27T00:00:00",
            "2023-09-02T00:00:00",
            "2023-09-03T00:00:00",
            "2023-09-09T00:00:00",
            "2023-09-10T00:00:00",
            "2023-09-16T00:00:00",
            "2023-09-17T00:00:00",
            "2023-09-23T00:00:00",
            "2023-09-24T00:00:00",
            "2023-09-30T00:00:00",
            "2023-10-01T00:00:00",
            "2023-10-07T00:00:00",
            "2023-10-08T00:00:00",
            "2023-10-14T00:00:00",
            "2023-10-15T00:00:00",
            "2023-10-21T00:00:00",
            "2023-10-22T00:00:00",
            "2023-10-28T00:00:00",
            "2023-10-29T00:00:00",
            "2023-11-04T00:00:00",
            "2023-11-05T00:00:00",
            "2023-11-11T00:00:00",
            "2023-11-12T00:00:00",
            "2023-11-18T00:00:00",
            "2023-11-19T00:00:00",
            "2023-11-25T00:00:00",
            "2023-11-26T00:00:00",
            "2023-12-02T00:00:00",
            "2023-12-03T00:00:00",
            "2023-12-09T00:00:00",
            "2023-12-10T00:00:00",
            "2023-12-16T00:00:00",
            "2023-12-17T00:00:00",
            "2023-12-23T00:00:00",
            "2023-12-24T00:00:00"
           ]
          }
         ],
         "showticklabels": false
        },
        "xaxis3": {
         "anchor": "y4",
         "domain": [
          0,
          0.94
         ],
         "rangebreaks": [
          {
           "values": [
            "2023-01-07T00:00:00",
            "2023-01-08T00:00:00",
            "2023-01-14T00:00:00",
            "2023-01-15T00:00:00",
            "2023-01-21T00:00:00",
            "2023-01-22T00:00:00",
            "2023-01-28T00:00:00",
            "2023-01-29T00:00:00",
            "2023-02-04T00:00:00",
            "2023-02-05T00:00:00",
            "2023-02-11T00:00:00",
            "2023-02-12T00:00:00",
            "2023-02-18T00:00:00",
            "2023-02-19T00:00:00",
            "2023-02-25T00:00:00",
            "2023-02-26T00:00:00",
            "2023-03-04T00:00:00",
            "2023-03-05T00:00:00",
            "2023-03-11T00:00:00",
            "2023-03-12T00:00:00",
            "2023-03-18T00:00:00",
            "2023-03-19T00:00:00",
            "2023-03-25T00:00:00",
            "2023-03-26T00:00:00",
            "2023-04-01T00:00:00",
            "2023-04-02T00:00:00",
            "2023-04-08T00:00:00",
            "2023-04-09T00:00:00",
            "2023-04-15T00:00:00",
            "2023-04-16T00:00:00",
            "2023-04-22T00:00:00",
            "2023-04-23T00:00:00",
            "2023-04-29T00:00:00",
            "2023-04-30T00:00:00",
            "2023-05-06T00:00:00",
            "2023-05-07T00:00:00",
            "2023-05-13T00:00:00",
            "2023-05-14T00:00:00",
            "2023-05-20T00:00:00",
            "2023-05-21T00:00:00",
            "2023-05-27T00:00:00",
            "2023-05-28T00:00:00",
            "2023-06-03T00:00:00",
            "2023-06-04T00:00:00",
            "2023-06-10T00:00:00",
            "2023-06-11T00:00:00",
            "2023-06-17T00:00:00",
            "2023-06-18T00:00:00",
            "2023-06-24T00:00:00",
            "2023-06-25T00:00:00",
            "2023-07-01T00:00:00",
            "2023-07-02T00:00:00",
            "2023-07-08T00:00:00",
            "2023-07-09T00:00:00",
            "2023-07-15T00:00:00",
            "2023-07-16T00:00:00",
            "2023-07-22T00:00:00",
            "2023-07-23T00:00:00",
            "2023-07-29T00:00:00",
            "2023-07-30T00:00:00",
            "2023-08-05T00:00:00",
            "2023-08-06T00:00:00",
            "2023-08-12T00:00:00",
            "2023-08-13T00:00:00",
            "2023-08-19T00:00:00",
            "2023-08-20T00:00:00",
            "2023-08-26T00:00:00",
            "2023-08-27T00:00:00",
            "2023-09-02T00:00:00",
            "2023-09-03T00:00:00",
            "2023-09-09T00:00:00",
            "2023-09-10T00:00:00",
            "2023-09-16T00:00:00",
            "2023-09-17T00:00:00",
            "2023-09-23T00:00:00",
            "2023-09-24T00:00:00",
            "2023-09-30T00:00:00",
            "2023-10-01T00:00:00",
            "2023-10-07T00:00:00",
            "2023-10-08T00:00:00",
            "2023-10-14T00:00:00",
            "2023-10-15T00:00:00",
            "2023-10-21T00:00:00",
            "2023-10-22T00:00:00",
            "2023-10-28T00:00:00",
            "2023-10-29T00:00:00",
            "2023-11-04T00:00:00",
            "2023-11-05T00:00:00",
            "2023-11-11T00:00:00",
            "2023-11-12T00:00:00",
            "2023-11-18T00:00:00",
            "2023-11-19T00:00:00",
            "2023-11-25T00:00:00",
            "2023-11-26T00:00:00",
            "2023-12-02T00:00:00",
            "2023-12-03T00:00:00",
            "2023-12-09T00:00:00",
            "2023-12-10T00:00:00",
            "2023-12-16T00:00:00",
            "2023-12-17T00:00:00",
            "2023-12-23T00:00:00",
            "2023-12-24T00:00:00"
           ]
          }
         ],
         "title": {
          "text": "Date"
         }
        },
        "yaxis": {
         "anchor": "x",
         "domain": [
          0.45999999999999996,
          1
         ],
         "title": {
          "text": "Price"
         }
        },
        "yaxis2": {
         "anchor": "x",
         "overlaying": "y",
         "side": "right",
         "title": {
          "text": "Price"
         }
        },
        "yaxis3": {
         "anchor": "x2",
         "domain": [
          0.185,
          0.41000000000000003
         ],
         "title": {
          "text": "Momentum Factor"
         }
        },
        "yaxis4": {
         "anchor": "x3",
         "domain": [
          0,
          0.135
         ],
         "title": {
          "text": "Volume"
         }
        }
       }
      }
     },
     "metadata": {},
     "output_type": "display_data"
    }
   ],
   "source": [
    "FactorPlot.plot_factor_price_relation(\n",
    "        price_data=price_data,\n",
    "        factor_data=factor_data[\"momentum\"],\n",
    "        ticker=\"EXAMPLE\",\n",
    "        factor_name=\"Momentum Factor\",\n",
    "        factor_color=\"purple\",\n",
    "        title=\"Example: Momentum Factor vs Stock Price\",\n",
    "        dark_theme=True\n",
    "    )"
   ]
  },
  {
   "cell_type": "code",
   "execution_count": 5,
   "id": "5fd69a23",
   "metadata": {},
   "outputs": [
    {
     "data": {
      "application/vnd.plotly.v1+json": {
       "config": {
        "plotlyServerURL": "https://plot.ly"
       },
       "data": [
        {
         "marker": {
          "color": "lightblue"
         },
         "name": "Momentum",
         "nbinsx": 100,
         "opacity": 0.7,
         "type": "histogram",
         "x": {
          "bdata": "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",
          "dtype": "f8"
         }
        }
       ],
       "layout": {
        "annotations": [
         {
          "showarrow": false,
          "text": "Mean: -0.001",
          "x": -0.0005907096020993169,
          "xanchor": "left",
          "xref": "x",
          "y": 1,
          "yanchor": "top",
          "yref": "y domain"
         },
         {
          "showarrow": false,
          "text": "Median: -0.003",
          "x": -0.0032010536400114424,
          "xanchor": "left",
          "xref": "x",
          "y": 1,
          "yanchor": "top",
          "yref": "y domain"
         },
         {
          "align": "left",
          "bgcolor": "rgba(255,255,255,0.8)",
          "bordercolor": "black",
          "borderwidth": 1,
          "showarrow": false,
          "text": "Statistics:<br>Mean: -0.0006<br>Std: 0.0547<br>Median: -0.0032<br>Min: -0.1204<br>Max: 0.2108<br>Count: 260",
          "x": 0.98,
          "xref": "paper",
          "y": 0.98,
          "yref": "paper"
         }
        ],
        "shapes": [
         {
          "line": {
           "color": "red",
           "dash": "dash"
          },
          "type": "line",
          "x0": -0.0005907096020993169,
          "x1": -0.0005907096020993169,
          "xref": "x",
          "y0": 0,
          "y1": 1,
          "yref": "y domain"
         },
         {
          "line": {
           "color": "green",
           "dash": "dash"
          },
          "type": "line",
          "x0": -0.0032010536400114424,
          "x1": -0.0032010536400114424,
          "xref": "x",
          "y0": 0,
          "y1": 1,
          "yref": "y domain"
         }
        ],
        "showlegend": false,
        "template": {
         "data": {
          "bar": [
           {
            "error_x": {
             "color": "#2a3f5f"
            },
            "error_y": {
             "color": "#2a3f5f"
            },
            "marker": {
             "line": {
              "color": "#E5ECF6",
              "width": 0.5
             },
             "pattern": {
              "fillmode": "overlay",
              "size": 10,
              "solidity": 0.2
             }
            },
            "type": "bar"
           }
          ],
          "barpolar": [
           {
            "marker": {
             "line": {
              "color": "#E5ECF6",
              "width": 0.5
             },
             "pattern": {
              "fillmode": "overlay",
              "size": 10,
              "solidity": 0.2
             }
            },
            "type": "barpolar"
           }
          ],
          "carpet": [
           {
            "aaxis": {
             "endlinecolor": "#2a3f5f",
             "gridcolor": "white",
             "linecolor": "white",
             "minorgridcolor": "white",
             "startlinecolor": "#2a3f5f"
            },
            "baxis": {
             "endlinecolor": "#2a3f5f",
             "gridcolor": "white",
             "linecolor": "white",
             "minorgridcolor": "white",
             "startlinecolor": "#2a3f5f"
            },
            "type": "carpet"
           }
          ],
          "choropleth": [
           {
            "colorbar": {
             "outlinewidth": 0,
             "ticks": ""
            },
            "type": "choropleth"
           }
          ],
          "contour": [
           {
            "colorbar": {
             "outlinewidth": 0,
             "ticks": ""
            },
            "colorscale": [
             [
              0,
              "#0d0887"
             ],
             [
              0.1111111111111111,
              "#46039f"
             ],
             [
              0.2222222222222222,
              "#7201a8"
             ],
             [
              0.3333333333333333,
              "#9c179e"
             ],
             [
              0.4444444444444444,
              "#bd3786"
             ],
             [
              0.5555555555555556,
              "#d8576b"
             ],
             [
              0.6666666666666666,
              "#ed7953"
             ],
             [
              0.7777777777777778,
              "#fb9f3a"
             ],
             [
              0.8888888888888888,
              "#fdca26"
             ],
             [
              1,
              "#f0f921"
             ]
            ],
            "type": "contour"
           }
          ],
          "contourcarpet": [
           {
            "colorbar": {
             "outlinewidth": 0,
             "ticks": ""
            },
            "type": "contourcarpet"
           }
          ],
          "heatmap": [
           {
            "colorbar": {
             "outlinewidth": 0,
             "ticks": ""
            },
            "colorscale": [
             [
              0,
              "#0d0887"
             ],
             [
              0.1111111111111111,
              "#46039f"
             ],
             [
              0.2222222222222222,
              "#7201a8"
             ],
             [
              0.3333333333333333,
              "#9c179e"
             ],
             [
              0.4444444444444444,
              "#bd3786"
             ],
             [
              0.5555555555555556,
              "#d8576b"
             ],
             [
              0.6666666666666666,
              "#ed7953"
             ],
             [
              0.7777777777777778,
              "#fb9f3a"
             ],
             [
              0.8888888888888888,
              "#fdca26"
             ],
             [
              1,
              "#f0f921"
             ]
            ],
            "type": "heatmap"
           }
          ],
          "histogram": [
           {
            "marker": {
             "pattern": {
              "fillmode": "overlay",
              "size": 10,
              "solidity": 0.2
             }
            },
            "type": "histogram"
           }
          ],
          "histogram2d": [
           {
            "colorbar": {
             "outlinewidth": 0,
             "ticks": ""
            },
            "colorscale": [
             [
              0,
              "#0d0887"
             ],
             [
              0.1111111111111111,
              "#46039f"
             ],
             [
              0.2222222222222222,
              "#7201a8"
             ],
             [
              0.3333333333333333,
              "#9c179e"
             ],
             [
              0.4444444444444444,
              "#bd3786"
             ],
             [
              0.5555555555555556,
              "#d8576b"
             ],
             [
              0.6666666666666666,
              "#ed7953"
             ],
             [
              0.7777777777777778,
              "#fb9f3a"
             ],
             [
              0.8888888888888888,
              "#fdca26"
             ],
             [
              1,
              "#f0f921"
             ]
            ],
            "type": "histogram2d"
           }
          ],
          "histogram2dcontour": [
           {
            "colorbar": {
             "outlinewidth": 0,
             "ticks": ""
            },
            "colorscale": [
             [
              0,
              "#0d0887"
             ],
             [
              0.1111111111111111,
              "#46039f"
             ],
             [
              0.2222222222222222,
              "#7201a8"
             ],
             [
              0.3333333333333333,
              "#9c179e"
             ],
             [
              0.4444444444444444,
              "#bd3786"
             ],
             [
              0.5555555555555556,
              "#d8576b"
             ],
             [
              0.6666666666666666,
              "#ed7953"
             ],
             [
              0.7777777777777778,
              "#fb9f3a"
             ],
             [
              0.8888888888888888,
              "#fdca26"
             ],
             [
              1,
              "#f0f921"
             ]
            ],
            "type": "histogram2dcontour"
           }
          ],
          "mesh3d": [
           {
            "colorbar": {
             "outlinewidth": 0,
             "ticks": ""
            },
            "type": "mesh3d"
           }
          ],
          "parcoords": [
           {
            "line": {
             "colorbar": {
              "outlinewidth": 0,
              "ticks": ""
             }
            },
            "type": "parcoords"
           }
          ],
          "pie": [
           {
            "automargin": true,
            "type": "pie"
           }
          ],
          "scatter": [
           {
            "fillpattern": {
             "fillmode": "overlay",
             "size": 10,
             "solidity": 0.2
            },
            "type": "scatter"
           }
          ],
          "scatter3d": [
           {
            "line": {
             "colorbar": {
              "outlinewidth": 0,
              "ticks": ""
             }
            },
            "marker": {
             "colorbar": {
              "outlinewidth": 0,
              "ticks": ""
             }
            },
            "type": "scatter3d"
           }
          ],
          "scattercarpet": [
           {
            "marker": {
             "colorbar": {
              "outlinewidth": 0,
              "ticks": ""
             }
            },
            "type": "scattercarpet"
           }
          ],
          "scattergeo": [
           {
            "marker": {
             "colorbar": {
              "outlinewidth": 0,
              "ticks": ""
             }
            },
            "type": "scattergeo"
           }
          ],
          "scattergl": [
           {
            "marker": {
             "colorbar": {
              "outlinewidth": 0,
              "ticks": ""
             }
            },
            "type": "scattergl"
           }
          ],
          "scattermap": [
           {
            "marker": {
             "colorbar": {
              "outlinewidth": 0,
              "ticks": ""
             }
            },
            "type": "scattermap"
           }
          ],
          "scattermapbox": [
           {
            "marker": {
             "colorbar": {
              "outlinewidth": 0,
              "ticks": ""
             }
            },
            "type": "scattermapbox"
           }
          ],
          "scatterpolar": [
           {
            "marker": {
             "colorbar": {
              "outlinewidth": 0,
              "ticks": ""
             }
            },
            "type": "scatterpolar"
           }
          ],
          "scatterpolargl": [
           {
            "marker": {
             "colorbar": {
              "outlinewidth": 0,
              "ticks": ""
             }
            },
            "type": "scatterpolargl"
           }
          ],
          "scatterternary": [
           {
            "marker": {
             "colorbar": {
              "outlinewidth": 0,
              "ticks": ""
             }
            },
            "type": "scatterternary"
           }
          ],
          "surface": [
           {
            "colorbar": {
             "outlinewidth": 0,
             "ticks": ""
            },
            "colorscale": [
             [
              0,
              "#0d0887"
             ],
             [
              0.1111111111111111,
              "#46039f"
             ],
             [
              0.2222222222222222,
              "#7201a8"
             ],
             [
              0.3333333333333333,
              "#9c179e"
             ],
             [
              0.4444444444444444,
              "#bd3786"
             ],
             [
              0.5555555555555556,
              "#d8576b"
             ],
             [
              0.6666666666666666,
              "#ed7953"
             ],
             [
              0.7777777777777778,
              "#fb9f3a"
             ],
             [
              0.8888888888888888,
              "#fdca26"
             ],
             [
              1,
              "#f0f921"
             ]
            ],
            "type": "surface"
           }
          ],
          "table": [
           {
            "cells": {
             "fill": {
              "color": "#EBF0F8"
             },
             "line": {
              "color": "white"
             }
            },
            "header": {
             "fill": {
              "color": "#C8D4E3"
             },
             "line": {
              "color": "white"
             }
            },
            "type": "table"
           }
          ]
         },
         "layout": {
          "annotationdefaults": {
           "arrowcolor": "#2a3f5f",
           "arrowhead": 0,
           "arrowwidth": 1
          },
          "autotypenumbers": "strict",
          "coloraxis": {
           "colorbar": {
            "outlinewidth": 0,
            "ticks": ""
           }
          },
          "colorscale": {
           "diverging": [
            [
             0,
             "#8e0152"
            ],
            [
             0.1,
             "#c51b7d"
            ],
            [
             0.2,
             "#de77ae"
            ],
            [
             0.3,
             "#f1b6da"
            ],
            [
             0.4,
             "#fde0ef"
            ],
            [
             0.5,
             "#f7f7f7"
            ],
            [
             0.6,
             "#e6f5d0"
            ],
            [
             0.7,
             "#b8e186"
            ],
            [
             0.8,
             "#7fbc41"
            ],
            [
             0.9,
             "#4d9221"
            ],
            [
             1,
             "#276419"
            ]
           ],
           "sequential": [
            [
             0,
             "#0d0887"
            ],
            [
             0.1111111111111111,
             "#46039f"
            ],
            [
             0.2222222222222222,
             "#7201a8"
            ],
            [
             0.3333333333333333,
             "#9c179e"
            ],
            [
             0.4444444444444444,
             "#bd3786"
            ],
            [
             0.5555555555555556,
             "#d8576b"
            ],
            [
             0.6666666666666666,
             "#ed7953"
            ],
            [
             0.7777777777777778,
             "#fb9f3a"
            ],
            [
             0.8888888888888888,
             "#fdca26"
            ],
            [
             1,
             "#f0f921"
            ]
           ],
           "sequentialminus": [
            [
             0,
             "#0d0887"
            ],
            [
             0.1111111111111111,
             "#46039f"
            ],
            [
             0.2222222222222222,
             "#7201a8"
            ],
            [
             0.3333333333333333,
             "#9c179e"
            ],
            [
             0.4444444444444444,
             "#bd3786"
            ],
            [
             0.5555555555555556,
             "#d8576b"
            ],
            [
             0.6666666666666666,
             "#ed7953"
            ],
            [
             0.7777777777777778,
             "#fb9f3a"
            ],
            [
             0.8888888888888888,
             "#fdca26"
            ],
            [
             1,
             "#f0f921"
            ]
           ]
          },
          "colorway": [
           "#636efa",
           "#EF553B",
           "#00cc96",
           "#ab63fa",
           "#FFA15A",
           "#19d3f3",
           "#FF6692",
           "#B6E880",
           "#FF97FF",
           "#FECB52"
          ],
          "font": {
           "color": "#2a3f5f"
          },
          "geo": {
           "bgcolor": "white",
           "lakecolor": "white",
           "landcolor": "#E5ECF6",
           "showlakes": true,
           "showland": true,
           "subunitcolor": "white"
          },
          "hoverlabel": {
           "align": "left"
          },
          "hovermode": "closest",
          "mapbox": {
           "style": "light"
          },
          "paper_bgcolor": "white",
          "plot_bgcolor": "#E5ECF6",
          "polar": {
           "angularaxis": {
            "gridcolor": "white",
            "linecolor": "white",
            "ticks": ""
           },
           "bgcolor": "#E5ECF6",
           "radialaxis": {
            "gridcolor": "white",
            "linecolor": "white",
            "ticks": ""
           }
          },
          "scene": {
           "xaxis": {
            "backgroundcolor": "#E5ECF6",
            "gridcolor": "white",
            "gridwidth": 2,
            "linecolor": "white",
            "showbackground": true,
            "ticks": "",
            "zerolinecolor": "white"
           },
           "yaxis": {
            "backgroundcolor": "#E5ECF6",
            "gridcolor": "white",
            "gridwidth": 2,
            "linecolor": "white",
            "showbackground": true,
            "ticks": "",
            "zerolinecolor": "white"
           },
           "zaxis": {
            "backgroundcolor": "#E5ECF6",
            "gridcolor": "white",
            "gridwidth": 2,
            "linecolor": "white",
            "showbackground": true,
            "ticks": "",
            "zerolinecolor": "white"
           }
          },
          "shapedefaults": {
           "line": {
            "color": "#2a3f5f"
           }
          },
          "ternary": {
           "aaxis": {
            "gridcolor": "white",
            "linecolor": "white",
            "ticks": ""
           },
           "baxis": {
            "gridcolor": "white",
            "linecolor": "white",
            "ticks": ""
           },
           "bgcolor": "#E5ECF6",
           "caxis": {
            "gridcolor": "white",
            "linecolor": "white",
            "ticks": ""
           }
          },
          "title": {
           "x": 0.05
          },
          "xaxis": {
           "automargin": true,
           "gridcolor": "white",
           "linecolor": "white",
           "ticks": "",
           "title": {
            "standoff": 15
           },
           "zerolinecolor": "white",
           "zerolinewidth": 2
          },
          "yaxis": {
           "automargin": true,
           "gridcolor": "white",
           "linecolor": "white",
           "ticks": "",
           "title": {
            "standoff": 15
           },
           "zerolinecolor": "white",
           "zerolinewidth": 2
          }
         }
        },
        "title": {
         "text": "Momentum Distribution"
        },
        "xaxis": {
         "title": {
          "text": "Momentum"
         }
        },
        "yaxis": {
         "title": {
          "text": "Frequency"
         }
        }
       }
      }
     },
     "metadata": {},
     "output_type": "display_data"
    }
   ],
   "source": [
    "FactorPlot.plot_factor_distribution(\n",
    "    factor_data=factor_data[\"momentum\"],\n",
    "    factor_name=\"Momentum\",\n",
    "    bins=100,\n",
    "    show_stats=True,\n",
    "    color=\"lightblue\"\n",
    ")"
   ]
  },
  {
   "cell_type": "code",
   "execution_count": 6,
   "id": "6043be88",
   "metadata": {},
   "outputs": [
    {
     "data": {
      "application/vnd.plotly.v1+json": {
       "config": {
        "plotlyServerURL": "https://plot.ly"
       },
       "data": [
        {
         "line": {
          "color": "blue"
         },
         "mode": "lines",
         "name": "Momentum",
         "type": "scatter",
         "x": [
          "2023-01-02T00:00:00.000000000",
          "2023-01-03T00:00:00.000000000",
          "2023-01-04T00:00:00.000000000",
          "2023-01-05T00:00:00.000000000",
          "2023-01-06T00:00:00.000000000",
          "2023-01-09T00:00:00.000000000",
          "2023-01-10T00:00:00.000000000",
          "2023-01-11T00:00:00.000000000",
          "2023-01-12T00:00:00.000000000",
          "2023-01-13T00:00:00.000000000",
          "2023-01-16T00:00:00.000000000",
          "2023-01-17T00:00:00.000000000",
          "2023-01-18T00:00:00.000000000",
          "2023-01-19T00:00:00.000000000",
          "2023-01-20T00:00:00.000000000",
          "2023-01-23T00:00:00.000000000",
          "2023-01-24T00:00:00.000000000",
          "2023-01-25T00:00:00.000000000",
          "2023-01-26T00:00:00.000000000",
          "2023-01-27T00:00:00.000000000",
          "2023-01-30T00:00:00.000000000",
          "2023-01-31T00:00:00.000000000",
          "2023-02-01T00:00:00.000000000",
          "2023-02-02T00:00:00.000000000",
          "2023-02-03T00:00:00.000000000",
          "2023-02-06T00:00:00.000000000",
          "2023-02-07T00:00:00.000000000",
          "2023-02-08T00:00:00.000000000",
          "2023-02-09T00:00:00.000000000",
          "2023-02-10T00:00:00.000000000",
          "2023-02-13T00:00:00.000000000",
          "2023-02-14T00:00:00.000000000",
          "2023-02-15T00:00:00.000000000",
          "2023-02-16T00:00:00.000000000",
          "2023-02-17T00:00:00.000000000",
          "2023-02-20T00:00:00.000000000",
          "2023-02-21T00:00:00.000000000",
          "2023-02-22T00:00:00.000000000",
          "2023-02-23T00:00:00.000000000",
          "2023-02-24T00:00:00.000000000",
          "2023-02-27T00:00:00.000000000",
          "2023-02-28T00:00:00.000000000",
          "2023-03-01T00:00:00.000000000",
          "2023-03-02T00:00:00.000000000",
          "2023-03-03T00:00:00.000000000",
          "2023-03-06T00:00:00.000000000",
          "2023-03-07T00:00:00.000000000",
          "2023-03-08T00:00:00.000000000",
          "2023-03-09T00:00:00.000000000",
          "2023-03-10T00:00:00.000000000",
          "2023-03-13T00:00:00.000000000",
          "2023-03-14T00:00:00.000000000",
          "2023-03-15T00:00:00.000000000",
          "2023-03-16T00:00:00.000000000",
          "2023-03-17T00:00:00.000000000",
          "2023-03-20T00:00:00.000000000",
          "2023-03-21T00:00:00.000000000",
          "2023-03-22T00:00:00.000000000",
          "2023-03-23T00:00:00.000000000",
          "2023-03-24T00:00:00.000000000",
          "2023-03-27T00:00:00.000000000",
          "2023-03-28T00:00:00.000000000",
          "2023-03-29T00:00:00.000000000",
          "2023-03-30T00:00:00.000000000",
          "2023-03-31T00:00:00.000000000",
          "2023-04-03T00:00:00.000000000",
          "2023-04-04T00:00:00.000000000",
          "2023-04-05T00:00:00.000000000",
          "2023-04-06T00:00:00.000000000",
          "2023-04-07T00:00:00.000000000",
          "2023-04-10T00:00:00.000000000",
          "2023-04-11T00:00:00.000000000",
          "2023-04-12T00:00:00.000000000",
          "2023-04-13T00:00:00.000000000",
          "2023-04-14T00:00:00.000000000",
          "2023-04-17T00:00:00.000000000",
          "2023-04-18T00:00:00.000000000",
          "2023-04-19T00:00:00.000000000",
          "2023-04-20T00:00:00.000000000",
          "2023-04-21T00:00:00.000000000",
          "2023-04-24T00:00:00.000000000",
          "2023-04-25T00:00:00.000000000",
          "2023-04-26T00:00:00.000000000",
          "2023-04-27T00:00:00.000000000",
          "2023-04-28T00:00:00.000000000",
          "2023-05-01T00:00:00.000000000",
          "2023-05-02T00:00:00.000000000",
          "2023-05-03T00:00:00.000000000",
          "2023-05-04T00:00:00.000000000",
          "2023-05-05T00:00:00.000000000",
          "2023-05-08T00:00:00.000000000",
          "2023-05-09T00:00:00.000000000",
          "2023-05-10T00:00:00.000000000",
          "2023-05-11T00:00:00.000000000",
          "2023-05-12T00:00:00.000000000",
          "2023-05-15T00:00:00.000000000",
          "2023-05-16T00:00:00.000000000",
          "2023-05-17T00:00:00.000000000",
          "2023-05-18T00:00:00.000000000",
          "2023-05-19T00:00:00.000000000",
          "2023-05-22T00:00:00.000000000",
          "2023-05-23T00:00:00.000000000",
          "2023-05-24T00:00:00.000000000",
          "2023-05-25T00:00:00.000000000",
          "2023-05-26T00:00:00.000000000",
          "2023-05-29T00:00:00.000000000",
          "2023-05-30T00:00:00.000000000",
          "2023-05-31T00:00:00.000000000",
          "2023-06-01T00:00:00.000000000",
          "2023-06-02T00:00:00.000000000",
          "2023-06-05T00:00:00.000000000",
          "2023-06-06T00:00:00.000000000",
          "2023-06-07T00:00:00.000000000",
          "2023-06-08T00:00:00.000000000",
          "2023-06-09T00:00:00.000000000",
          "2023-06-12T00:00:00.000000000",
          "2023-06-13T00:00:00.000000000",
          "2023-06-14T00:00:00.000000000",
          "2023-06-15T00:00:00.000000000",
          "2023-06-16T00:00:00.000000000",
          "2023-06-19T00:00:00.000000000",
          "2023-06-20T00:00:00.000000000",
          "2023-06-21T00:00:00.000000000",
          "2023-06-22T00:00:00.000000000",
          "2023-06-23T00:00:00.000000000",
          "2023-06-26T00:00:00.000000000",
          "2023-06-27T00:00:00.000000000",
          "2023-06-28T00:00:00.000000000",
          "2023-06-29T00:00:00.000000000",
          "2023-06-30T00:00:00.000000000",
          "2023-07-03T00:00:00.000000000",
          "2023-07-04T00:00:00.000000000",
          "2023-07-05T00:00:00.000000000",
          "2023-07-06T00:00:00.000000000",
          "2023-07-07T00:00:00.000000000",
          "2023-07-10T00:00:00.000000000",
          "2023-07-11T00:00:00.000000000",
          "2023-07-12T00:00:00.000000000",
          "2023-07-13T00:00:00.000000000",
          "2023-07-14T00:00:00.000000000",
          "2023-07-17T00:00:00.000000000",
          "2023-07-18T00:00:00.000000000",
          "2023-07-19T00:00:00.000000000",
          "2023-07-20T00:00:00.000000000",
          "2023-07-21T00:00:00.000000000",
          "2023-07-24T00:00:00.000000000",
          "2023-07-25T00:00:00.000000000",
          "2023-07-26T00:00:00.000000000",
          "2023-07-27T00:00:00.000000000",
          "2023-07-28T00:00:00.000000000",
          "2023-07-31T00:00:00.000000000",
          "2023-08-01T00:00:00.000000000",
          "2023-08-02T00:00:00.000000000",
          "2023-08-03T00:00:00.000000000",
          "2023-08-04T00:00:00.000000000",
          "2023-08-07T00:00:00.000000000",
          "2023-08-08T00:00:00.000000000",
          "2023-08-09T00:00:00.000000000",
          "2023-08-10T00:00:00.000000000",
          "2023-08-11T00:00:00.000000000",
          "2023-08-14T00:00:00.000000000",
          "2023-08-15T00:00:00.000000000",
          "2023-08-16T00:00:00.000000000",
          "2023-08-17T00:00:00.000000000",
          "2023-08-18T00:00:00.000000000",
          "2023-08-21T00:00:00.000000000",
          "2023-08-22T00:00:00.000000000",
          "2023-08-23T00:00:00.000000000",
          "2023-08-24T00:00:00.000000000",
          "2023-08-25T00:00:00.000000000",
          "2023-08-28T00:00:00.000000000",
          "2023-08-29T00:00:00.000000000",
          "2023-08-30T00:00:00.000000000",
          "2023-08-31T00:00:00.000000000",
          "2023-09-01T00:00:00.000000000",
          "2023-09-04T00:00:00.000000000",
          "2023-09-05T00:00:00.000000000",
          "2023-09-06T00:00:00.000000000",
          "2023-09-07T00:00:00.000000000",
          "2023-09-08T00:00:00.000000000",
          "2023-09-11T00:00:00.000000000",
          "2023-09-12T00:00:00.000000000",
          "2023-09-13T00:00:00.000000000",
          "2023-09-14T00:00:00.000000000",
          "2023-09-15T00:00:00.000000000",
          "2023-09-18T00:00:00.000000000",
          "2023-09-19T00:00:00.000000000",
          "2023-09-20T00:00:00.000000000",
          "2023-09-21T00:00:00.000000000",
          "2023-09-22T00:00:00.000000000",
          "2023-09-25T00:00:00.000000000",
          "2023-09-26T00:00:00.000000000",
          "2023-09-27T00:00:00.000000000",
          "2023-09-28T00:00:00.000000000",
          "2023-09-29T00:00:00.000000000",
          "2023-10-02T00:00:00.000000000",
          "2023-10-03T00:00:00.000000000",
          "2023-10-04T00:00:00.000000000",
          "2023-10-05T00:00:00.000000000",
          "2023-10-06T00:00:00.000000000",
          "2023-10-09T00:00:00.000000000",
          "2023-10-10T00:00:00.000000000",
          "2023-10-11T00:00:00.000000000",
          "2023-10-12T00:00:00.000000000",
          "2023-10-13T00:00:00.000000000",
          "2023-10-16T00:00:00.000000000",
          "2023-10-17T00:00:00.000000000",
          "2023-10-18T00:00:00.000000000",
          "2023-10-19T00:00:00.000000000",
          "2023-10-20T00:00:00.000000000",
          "2023-10-23T00:00:00.000000000",
          "2023-10-24T00:00:00.000000000",
          "2023-10-25T00:00:00.000000000",
          "2023-10-26T00:00:00.000000000",
          "2023-10-27T00:00:00.000000000",
          "2023-10-30T00:00:00.000000000",
          "2023-10-31T00:00:00.000000000",
          "2023-11-01T00:00:00.000000000",
          "2023-11-02T00:00:00.000000000",
          "2023-11-03T00:00:00.000000000",
          "2023-11-06T00:00:00.000000000",
          "2023-11-07T00:00:00.000000000",
          "2023-11-08T00:00:00.000000000",
          "2023-11-09T00:00:00.000000000",
          "2023-11-10T00:00:00.000000000",
          "2023-11-13T00:00:00.000000000",
          "2023-11-14T00:00:00.000000000",
          "2023-11-15T00:00:00.000000000",
          "2023-11-16T00:00:00.000000000",
          "2023-11-17T00:00:00.000000000",
          "2023-11-20T00:00:00.000000000",
          "2023-11-21T00:00:00.000000000",
          "2023-11-22T00:00:00.000000000",
          "2023-11-23T00:00:00.000000000",
          "2023-11-24T00:00:00.000000000",
          "2023-11-27T00:00:00.000000000",
          "2023-11-28T00:00:00.000000000",
          "2023-11-29T00:00:00.000000000",
          "2023-11-30T00:00:00.000000000",
          "2023-12-01T00:00:00.000000000",
          "2023-12-04T00:00:00.000000000",
          "2023-12-05T00:00:00.000000000",
          "2023-12-06T00:00:00.000000000",
          "2023-12-07T00:00:00.000000000",
          "2023-12-08T00:00:00.000000000",
          "2023-12-11T00:00:00.000000000",
          "2023-12-12T00:00:00.000000000",
          "2023-12-13T00:00:00.000000000",
          "2023-12-14T00:00:00.000000000",
          "2023-12-15T00:00:00.000000000",
          "2023-12-18T00:00:00.000000000",
          "2023-12-19T00:00:00.000000000",
          "2023-12-20T00:00:00.000000000",
          "2023-12-21T00:00:00.000000000",
          "2023-12-22T00:00:00.000000000",
          "2023-12-25T00:00:00.000000000",
          "2023-12-26T00:00:00.000000000",
          "2023-12-27T00:00:00.000000000",
          "2023-12-28T00:00:00.000000000",
          "2023-12-29T00:00:00.000000000"
         ],
         "y": {
          "bdata": "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",
          "dtype": "f8"
         }
        },
        {
         "line": {
          "color": "red",
          "dash": "dash"
         },
         "mode": "lines",
         "name": "20-day MA",
         "type": "scatter",
         "x": [
          "2023-01-02T00:00:00.000000000",
          "2023-01-03T00:00:00.000000000",
          "2023-01-04T00:00:00.000000000",
          "2023-01-05T00:00:00.000000000",
          "2023-01-06T00:00:00.000000000",
          "2023-01-09T00:00:00.000000000",
          "2023-01-10T00:00:00.000000000",
          "2023-01-11T00:00:00.000000000",
          "2023-01-12T00:00:00.000000000",
          "2023-01-13T00:00:00.000000000",
          "2023-01-16T00:00:00.000000000",
          "2023-01-17T00:00:00.000000000",
          "2023-01-18T00:00:00.000000000",
          "2023-01-19T00:00:00.000000000",
          "2023-01-20T00:00:00.000000000",
          "2023-01-23T00:00:00.000000000",
          "2023-01-24T00:00:00.000000000",
          "2023-01-25T00:00:00.000000000",
          "2023-01-26T00:00:00.000000000",
          "2023-01-27T00:00:00.000000000",
          "2023-01-30T00:00:00.000000000",
          "2023-01-31T00:00:00.000000000",
          "2023-02-01T00:00:00.000000000",
          "2023-02-02T00:00:00.000000000",
          "2023-02-03T00:00:00.000000000",
          "2023-02-06T00:00:00.000000000",
          "2023-02-07T00:00:00.000000000",
          "2023-02-08T00:00:00.000000000",
          "2023-02-09T00:00:00.000000000",
          "2023-02-10T00:00:00.000000000",
          "2023-02-13T00:00:00.000000000",
          "2023-02-14T00:00:00.000000000",
          "2023-02-15T00:00:00.000000000",
          "2023-02-16T00:00:00.000000000",
          "2023-02-17T00:00:00.000000000",
          "2023-02-20T00:00:00.000000000",
          "2023-02-21T00:00:00.000000000",
          "2023-02-22T00:00:00.000000000",
          "2023-02-23T00:00:00.000000000",
          "2023-02-24T00:00:00.000000000",
          "2023-02-27T00:00:00.000000000",
          "2023-02-28T00:00:00.000000000",
          "2023-03-01T00:00:00.000000000",
          "2023-03-02T00:00:00.000000000",
          "2023-03-03T00:00:00.000000000",
          "2023-03-06T00:00:00.000000000",
          "2023-03-07T00:00:00.000000000",
          "2023-03-08T00:00:00.000000000",
          "2023-03-09T00:00:00.000000000",
          "2023-03-10T00:00:00.000000000",
          "2023-03-13T00:00:00.000000000",
          "2023-03-14T00:00:00.000000000",
          "2023-03-15T00:00:00.000000000",
          "2023-03-16T00:00:00.000000000",
          "2023-03-17T00:00:00.000000000",
          "2023-03-20T00:00:00.000000000",
          "2023-03-21T00:00:00.000000000",
          "2023-03-22T00:00:00.000000000",
          "2023-03-23T00:00:00.000000000",
          "2023-03-24T00:00:00.000000000",
          "2023-03-27T00:00:00.000000000",
          "2023-03-28T00:00:00.000000000",
          "2023-03-29T00:00:00.000000000",
          "2023-03-30T00:00:00.000000000",
          "2023-03-31T00:00:00.000000000",
          "2023-04-03T00:00:00.000000000",
          "2023-04-04T00:00:00.000000000",
          "2023-04-05T00:00:00.000000000",
          "2023-04-06T00:00:00.000000000",
          "2023-04-07T00:00:00.000000000",
          "2023-04-10T00:00:00.000000000",
          "2023-04-11T00:00:00.000000000",
          "2023-04-12T00:00:00.000000000",
          "2023-04-13T00:00:00.000000000",
          "2023-04-14T00:00:00.000000000",
          "2023-04-17T00:00:00.000000000",
          "2023-04-18T00:00:00.000000000",
          "2023-04-19T00:00:00.000000000",
          "2023-04-20T00:00:00.000000000",
          "2023-04-21T00:00:00.000000000",
          "2023-04-24T00:00:00.000000000",
          "2023-04-25T00:00:00.000000000",
          "2023-04-26T00:00:00.000000000",
          "2023-04-27T00:00:00.000000000",
          "2023-04-28T00:00:00.000000000",
          "2023-05-01T00:00:00.000000000",
          "2023-05-02T00:00:00.000000000",
          "2023-05-03T00:00:00.000000000",
          "2023-05-04T00:00:00.000000000",
          "2023-05-05T00:00:00.000000000",
          "2023-05-08T00:00:00.000000000",
          "2023-05-09T00:00:00.000000000",
          "2023-05-10T00:00:00.000000000",
          "2023-05-11T00:00:00.000000000",
          "2023-05-12T00:00:00.000000000",
          "2023-05-15T00:00:00.000000000",
          "2023-05-16T00:00:00.000000000",
          "2023-05-17T00:00:00.000000000",
          "2023-05-18T00:00:00.000000000",
          "2023-05-19T00:00:00.000000000",
          "2023-05-22T00:00:00.000000000",
          "2023-05-23T00:00:00.000000000",
          "2023-05-24T00:00:00.000000000",
          "2023-05-25T00:00:00.000000000",
          "2023-05-26T00:00:00.000000000",
          "2023-05-29T00:00:00.000000000",
          "2023-05-30T00:00:00.000000000",
          "2023-05-31T00:00:00.000000000",
          "2023-06-01T00:00:00.000000000",
          "2023-06-02T00:00:00.000000000",
          "2023-06-05T00:00:00.000000000",
          "2023-06-06T00:00:00.000000000",
          "2023-06-07T00:00:00.000000000",
          "2023-06-08T00:00:00.000000000",
          "2023-06-09T00:00:00.000000000",
          "2023-06-12T00:00:00.000000000",
          "2023-06-13T00:00:00.000000000",
          "2023-06-14T00:00:00.000000000",
          "2023-06-15T00:00:00.000000000",
          "2023-06-16T00:00:00.000000000",
          "2023-06-19T00:00:00.000000000",
          "2023-06-20T00:00:00.000000000",
          "2023-06-21T00:00:00.000000000",
          "2023-06-22T00:00:00.000000000",
          "2023-06-23T00:00:00.000000000",
          "2023-06-26T00:00:00.000000000",
          "2023-06-27T00:00:00.000000000",
          "2023-06-28T00:00:00.000000000",
          "2023-06-29T00:00:00.000000000",
          "2023-06-30T00:00:00.000000000",
          "2023-07-03T00:00:00.000000000",
          "2023-07-04T00:00:00.000000000",
          "2023-07-05T00:00:00.000000000",
          "2023-07-06T00:00:00.000000000",
          "2023-07-07T00:00:00.000000000",
          "2023-07-10T00:00:00.000000000",
          "2023-07-11T00:00:00.000000000",
          "2023-07-12T00:00:00.000000000",
          "2023-07-13T00:00:00.000000000",
          "2023-07-14T00:00:00.000000000",
          "2023-07-17T00:00:00.000000000",
          "2023-07-18T00:00:00.000000000",
          "2023-07-19T00:00:00.000000000",
          "2023-07-20T00:00:00.000000000",
          "2023-07-21T00:00:00.000000000",
          "2023-07-24T00:00:00.000000000",
          "2023-07-25T00:00:00.000000000",
          "2023-07-26T00:00:00.000000000",
          "2023-07-27T00:00:00.000000000",
          "2023-07-28T00:00:00.000000000",
          "2023-07-31T00:00:00.000000000",
          "2023-08-01T00:00:00.000000000",
          "2023-08-02T00:00:00.000000000",
          "2023-08-03T00:00:00.000000000",
          "2023-08-04T00:00:00.000000000",
          "2023-08-07T00:00:00.000000000",
          "2023-08-08T00:00:00.000000000",
          "2023-08-09T00:00:00.000000000",
          "2023-08-10T00:00:00.000000000",
          "2023-08-11T00:00:00.000000000",
          "2023-08-14T00:00:00.000000000",
          "2023-08-15T00:00:00.000000000",
          "2023-08-16T00:00:00.000000000",
          "2023-08-17T00:00:00.000000000",
          "2023-08-18T00:00:00.000000000",
          "2023-08-21T00:00:00.000000000",
          "2023-08-22T00:00:00.000000000",
          "2023-08-23T00:00:00.000000000",
          "2023-08-24T00:00:00.000000000",
          "2023-08-25T00:00:00.000000000",
          "2023-08-28T00:00:00.000000000",
          "2023-08-29T00:00:00.000000000",
          "2023-08-30T00:00:00.000000000",
          "2023-08-31T00:00:00.000000000",
          "2023-09-01T00:00:00.000000000",
          "2023-09-04T00:00:00.000000000",
          "2023-09-05T00:00:00.000000000",
          "2023-09-06T00:00:00.000000000",
          "2023-09-07T00:00:00.000000000",
          "2023-09-08T00:00:00.000000000",
          "2023-09-11T00:00:00.000000000",
          "2023-09-12T00:00:00.000000000",
          "2023-09-13T00:00:00.000000000",
          "2023-09-14T00:00:00.000000000",
          "2023-09-15T00:00:00.000000000",
          "2023-09-18T00:00:00.000000000",
          "2023-09-19T00:00:00.000000000",
          "2023-09-20T00:00:00.000000000",
          "2023-09-21T00:00:00.000000000",
          "2023-09-22T00:00:00.000000000",
          "2023-09-25T00:00:00.000000000",
          "2023-09-26T00:00:00.000000000",
          "2023-09-27T00:00:00.000000000",
          "2023-09-28T00:00:00.000000000",
          "2023-09-29T00:00:00.000000000",
          "2023-10-02T00:00:00.000000000",
          "2023-10-03T00:00:00.000000000",
          "2023-10-04T00:00:00.000000000",
          "2023-10-05T00:00:00.000000000",
          "2023-10-06T00:00:00.000000000",
          "2023-10-09T00:00:00.000000000",
          "2023-10-10T00:00:00.000000000",
          "2023-10-11T00:00:00.000000000",
          "2023-10-12T00:00:00.000000000",
          "2023-10-13T00:00:00.000000000",
          "2023-10-16T00:00:00.000000000",
          "2023-10-17T00:00:00.000000000",
          "2023-10-18T00:00:00.000000000",
          "2023-10-19T00:00:00.000000000",
          "2023-10-20T00:00:00.000000000",
          "2023-10-23T00:00:00.000000000",
          "2023-10-24T00:00:00.000000000",
          "2023-10-25T00:00:00.000000000",
          "2023-10-26T00:00:00.000000000",
          "2023-10-27T00:00:00.000000000",
          "2023-10-30T00:00:00.000000000",
          "2023-10-31T00:00:00.000000000",
          "2023-11-01T00:00:00.000000000",
          "2023-11-02T00:00:00.000000000",
          "2023-11-03T00:00:00.000000000",
          "2023-11-06T00:00:00.000000000",
          "2023-11-07T00:00:00.000000000",
          "2023-11-08T00:00:00.000000000",
          "2023-11-09T00:00:00.000000000",
          "2023-11-10T00:00:00.000000000",
          "2023-11-13T00:00:00.000000000",
          "2023-11-14T00:00:00.000000000",
          "2023-11-15T00:00:00.000000000",
          "2023-11-16T00:00:00.000000000",
          "2023-11-17T00:00:00.000000000",
          "2023-11-20T00:00:00.000000000",
          "2023-11-21T00:00:00.000000000",
          "2023-11-22T00:00:00.000000000",
          "2023-11-23T00:00:00.000000000",
          "2023-11-24T00:00:00.000000000",
          "2023-11-27T00:00:00.000000000",
          "2023-11-28T00:00:00.000000000",
          "2023-11-29T00:00:00.000000000",
          "2023-11-30T00:00:00.000000000",
          "2023-12-01T00:00:00.000000000",
          "2023-12-04T00:00:00.000000000",
          "2023-12-05T00:00:00.000000000",
          "2023-12-06T00:00:00.000000000",
          "2023-12-07T00:00:00.000000000",
          "2023-12-08T00:00:00.000000000",
          "2023-12-11T00:00:00.000000000",
          "2023-12-12T00:00:00.000000000",
          "2023-12-13T00:00:00.000000000",
          "2023-12-14T00:00:00.000000000",
          "2023-12-15T00:00:00.000000000",
          "2023-12-18T00:00:00.000000000",
          "2023-12-19T00:00:00.000000000",
          "2023-12-20T00:00:00.000000000",
          "2023-12-21T00:00:00.000000000",
          "2023-12-22T00:00:00.000000000",
          "2023-12-25T00:00:00.000000000",
          "2023-12-26T00:00:00.000000000",
          "2023-12-27T00:00:00.000000000",
          "2023-12-28T00:00:00.000000000",
          "2023-12-29T00:00:00.000000000"
         ],
         "y": {
          "bdata": "AAAAAAAA+H8AAAAAAAD4fwAAAAAAAPh/AAAAAAAA+H8AAAAAAAD4fwAAAAAAAPh/AAAAAAAA+H8AAAAAAAD4fwAAAAAAAPh/AAAAAAAA+H8AAAAAAAD4fwAAAAAAAPh/AAAAAAAA+H8AAAAAAAD4fwAAAAAAAPh/AAAAAAAA+H8AAAAAAAD4fwAAAAAAAPh/AAAAAAAA+H9iy/z5MweQvx+dXGwhbZS/Cl2S57KLmb/Sa+sUlSqgv9Xf7pjceqG/jGTO9vD2ob/+Mt/E+Lejvyk5m1Q/1aW/8NmSBq7Sp7/F+sNAew2pvxbQ/sZODqq/mGlfNDiPrb/qKyAAPyCwv2KBDzSR/LG/Z48l4RoBs7/MzqU1OJ2zv7DtUYf+GrO/AZV5sT8Ksr9S95fjrrexv3KQHl/dFLG/ps1THg05sL9OhS1n11avv2WZfpnFpq6/xYrnaygerb9Gk7BX7H+svy0ui2QZe62/VUlL/UC+rb/2T+WegAWvv42BUMqEWK2/wyfIuV5lrL943jfHd1msvxo+SfOrUau/C7oBC5YLrL9VOGtrK9Orv6bXjvYWR6u/1Tr7kH1Tqr9mVm2502mpv5GRHfyqB6m/yNvR5SZtp7+Pt52Oua+lv2yOt5gHaaO/+rXNNfqbor8b+srTLNGev3pmsy5Ivpq/XN2uxkynlr+aVRyTshuSv6+RP4RPQJG/ubTbJAHlhr9wNaVky9l8v8H+Txp8+XC/j6HTp5UZY7+DzyuGKpBUPxXPdhbT/3w/qutqqFOSjD+3s1RYruCWP/AbCRqCeZo/Gp/SW2B/nT+d01dTFDCfPw2k1U/9EaE/vJQM2BegoT8mAKU4f9mgP19hLYKWPqA/oC0ynnMnnj+uGmtHGfKdP9jO5eHe5Jk/fl8kc5BAmD9ScJNJMEWZP5f7wrghe5k/8T9O6DNUlD+BHtsacyaQP/4kexYYrJA/tt7fSa7Sjj+N8JQKQ3WNP8I723e/MIE/hUpL0IFnaj+S053UgqZVP0L4fz94h3G/A7If291od7/hqz3zRoOAvyMHceErVYW/ps9DOjw8hr8erF+fcYuJv8InLqYH2o+/XoVzpp3blb9DfNskZkSVvy1GZpVmGJi/Ot0U1PfrmL+A/RGzPiKbv81tn8JoVJi/CaDZEEkFlb/yJA9bFLyUvxJaBzO6GpW/eSMNvDBXl78lptjv/32Uvz7+LygicZK/ivEpcgUPj7+mhvkTf7uDv1UI3bMIuIS/SVhOZOsNhb/dbQZoHlCAv4AL8Eaz2oO/NhNPa1+1Yr+4VEVUv0hsPwsKPH9nKYY/QksexxzjiD9R9/Uk/xGSPyeM6+Z5KZg/0GkYiD+Lmj9zB3v8rX+cP6NSMU5zjZ0/vRs/1KDYnj9yXShMrBucP7BS3C2jHZw/TY9GuxzDmD/zby7dcauVPwpU/HBMgI0/bGe9zyQXgj8eh2+0hl1wP+YYXMy9XTy/zcfl7Wj1ab+6ZTOZvo52v8LNmwnkBIm/QEfHf+7+jr+AtgMtlHaSvw5JWyW035S//mLTzOPllb9yeJpztAmZv8ZYluwvm5q/kCv5VXRpn78L3VBKUIuhv9YmyWl9H6O/Q2IYn6tVob9oQp1Lpv2hvwf2gtNr8aC/kWzBAn3toL/N2+nj0Iyfv9fHFvIBCaG/iEECT99gnL8FSKSbAbWUv1bPsdDd85C/NjjNwwirhb+ag5hzPCGCv6hYf0O9Zny/CibL/qY6db/9ckFUYzZEv0o4k8IMxFM/NS6IoLFuZj9Cde8KrcJ0P367bxy3l4Y//xTXRz9GkT+K3VxSypKUPwliRmwsRpY//ucPWZp0mj/QTKTF/IKdP/3ipK4NIJ8/5CGJ+2aPoD81AaW8NrWjP2GxGLSKGaM/tPGlJvGKoD+mSjdS0GGeP7URsq1wGqA/8Ia5qc/Ooj/fpa4e2tqkP0DhAaNmxaU/duhUlQK3pj+5fwCYWgCnP8gEZrGoAag/LVDO2na3qD+6v2KvwESnP8hwNu4nMKY/ZFmDMDk+oz9iY0iSDd+hP66jliUsbKA/q/jSVhh7nj9ogEhzDHyaP1bA+dMDbJc/VelwNgiGkz9Tna97qmyQP8seiGRKeo8/26tZ1pTciz/PT3d5ZPmCPyrxDYYyp3k/wMXY9XSXQr98oHcSWi9zv/hcbXNzjnq/5mIXe7nWfb8ibzzDpIyJv/7dUU35LpC/0k+iD38Dkr/+oe/JJEyTv5Jl5U0IFoW/BuA3wBsaZL/eTZvpZ0V8PwSQMlf074g/wZmCP4GplD9N7e56NSieP+qpvrmopqU/zsGw++R5qz8jWKLjFd+vP5Lhi276HrI/MpEWiDPNsj/8l8EIB7GzP1CAjawjNbQ/JTVCTMZ2tD/1henw4AO0PyiLrJrQ+rI/FlJWhaaXsj8ifQO08qKyP4kz1XBfZLI/eZUeBbLjsT+eIv26CGGwP1pyMm28Fas/Hzz16Wwwpj+Wh8kiAfChP9XWU9FZ+5w/MNVg9XUZlz/Ttpsf0aSGP+op7W0AjFc/4jP72wrUcr9B28LPyM2Fv2SmeNFy0Ie/UOreUrQfkr/66gzDKSyVvztnbaW+6pW/k/usOmKslL8sVIDGcQuTv3r+G4WXn5G/gq+xBQTCkb+p67ObwyWRv09FAztdGJC/EgENWkXPkL9THECivmCLv/dTNlpzjYW/paGqQV2NdL8INLDBvLxRv5gS8fYYt1u/MBQil1E9NT8JD982Xpl2P20dpRjC/X4/233sN4hDgj8gPBI92WeFPw==",
          "dtype": "f8"
         }
        }
       ],
       "layout": {
        "hovermode": "x unified",
        "shapes": [
         {
          "line": {
           "color": "gray",
           "dash": "dot"
          },
          "opacity": 0.5,
          "type": "line",
          "x0": 0,
          "x1": 1,
          "xref": "x domain",
          "y0": 0,
          "y1": 0,
          "yref": "y"
         }
        ],
        "template": {
         "data": {
          "bar": [
           {
            "error_x": {
             "color": "#2a3f5f"
            },
            "error_y": {
             "color": "#2a3f5f"
            },
            "marker": {
             "line": {
              "color": "#E5ECF6",
              "width": 0.5
             },
             "pattern": {
              "fillmode": "overlay",
              "size": 10,
              "solidity": 0.2
             }
            },
            "type": "bar"
           }
          ],
          "barpolar": [
           {
            "marker": {
             "line": {
              "color": "#E5ECF6",
              "width": 0.5
             },
             "pattern": {
              "fillmode": "overlay",
              "size": 10,
              "solidity": 0.2
             }
            },
            "type": "barpolar"
           }
          ],
          "carpet": [
           {
            "aaxis": {
             "endlinecolor": "#2a3f5f",
             "gridcolor": "white",
             "linecolor": "white",
             "minorgridcolor": "white",
             "startlinecolor": "#2a3f5f"
            },
            "baxis": {
             "endlinecolor": "#2a3f5f",
             "gridcolor": "white",
             "linecolor": "white",
             "minorgridcolor": "white",
             "startlinecolor": "#2a3f5f"
            },
            "type": "carpet"
           }
          ],
          "choropleth": [
           {
            "colorbar": {
             "outlinewidth": 0,
             "ticks": ""
            },
            "type": "choropleth"
           }
          ],
          "contour": [
           {
            "colorbar": {
             "outlinewidth": 0,
             "ticks": ""
            },
            "colorscale": [
             [
              0,
              "#0d0887"
             ],
             [
              0.1111111111111111,
              "#46039f"
             ],
             [
              0.2222222222222222,
              "#7201a8"
             ],
             [
              0.3333333333333333,
              "#9c179e"
             ],
             [
              0.4444444444444444,
              "#bd3786"
             ],
             [
              0.5555555555555556,
              "#d8576b"
             ],
             [
              0.6666666666666666,
              "#ed7953"
             ],
             [
              0.7777777777777778,
              "#fb9f3a"
             ],
             [
              0.8888888888888888,
              "#fdca26"
             ],
             [
              1,
              "#f0f921"
             ]
            ],
            "type": "contour"
           }
          ],
          "contourcarpet": [
           {
            "colorbar": {
             "outlinewidth": 0,
             "ticks": ""
            },
            "type": "contourcarpet"
           }
          ],
          "heatmap": [
           {
            "colorbar": {
             "outlinewidth": 0,
             "ticks": ""
            },
            "colorscale": [
             [
              0,
              "#0d0887"
             ],
             [
              0.1111111111111111,
              "#46039f"
             ],
             [
              0.2222222222222222,
              "#7201a8"
             ],
             [
              0.3333333333333333,
              "#9c179e"
             ],
             [
              0.4444444444444444,
              "#bd3786"
             ],
             [
              0.5555555555555556,
              "#d8576b"
             ],
             [
              0.6666666666666666,
              "#ed7953"
             ],
             [
              0.7777777777777778,
              "#fb9f3a"
             ],
             [
              0.8888888888888888,
              "#fdca26"
             ],
             [
              1,
              "#f0f921"
             ]
            ],
            "type": "heatmap"
           }
          ],
          "histogram": [
           {
            "marker": {
             "pattern": {
              "fillmode": "overlay",
              "size": 10,
              "solidity": 0.2
             }
            },
            "type": "histogram"
           }
          ],
          "histogram2d": [
           {
            "colorbar": {
             "outlinewidth": 0,
             "ticks": ""
            },
            "colorscale": [
             [
              0,
              "#0d0887"
             ],
             [
              0.1111111111111111,
              "#46039f"
             ],
             [
              0.2222222222222222,
              "#7201a8"
             ],
             [
              0.3333333333333333,
              "#9c179e"
             ],
             [
              0.4444444444444444,
              "#bd3786"
             ],
             [
              0.5555555555555556,
              "#d8576b"
             ],
             [
              0.6666666666666666,
              "#ed7953"
             ],
             [
              0.7777777777777778,
              "#fb9f3a"
             ],
             [
              0.8888888888888888,
              "#fdca26"
             ],
             [
              1,
              "#f0f921"
             ]
            ],
            "type": "histogram2d"
           }
          ],
          "histogram2dcontour": [
           {
            "colorbar": {
             "outlinewidth": 0,
             "ticks": ""
            },
            "colorscale": [
             [
              0,
              "#0d0887"
             ],
             [
              0.1111111111111111,
              "#46039f"
             ],
             [
              0.2222222222222222,
              "#7201a8"
             ],
             [
              0.3333333333333333,
              "#9c179e"
             ],
             [
              0.4444444444444444,
              "#bd3786"
             ],
             [
              0.5555555555555556,
              "#d8576b"
             ],
             [
              0.6666666666666666,
              "#ed7953"
             ],
             [
              0.7777777777777778,
              "#fb9f3a"
             ],
             [
              0.8888888888888888,
              "#fdca26"
             ],
             [
              1,
              "#f0f921"
             ]
            ],
            "type": "histogram2dcontour"
           }
          ],
          "mesh3d": [
           {
            "colorbar": {
             "outlinewidth": 0,
             "ticks": ""
            },
            "type": "mesh3d"
           }
          ],
          "parcoords": [
           {
            "line": {
             "colorbar": {
              "outlinewidth": 0,
              "ticks": ""
             }
            },
            "type": "parcoords"
           }
          ],
          "pie": [
           {
            "automargin": true,
            "type": "pie"
           }
          ],
          "scatter": [
           {
            "fillpattern": {
             "fillmode": "overlay",
             "size": 10,
             "solidity": 0.2
            },
            "type": "scatter"
           }
          ],
          "scatter3d": [
           {
            "line": {
             "colorbar": {
              "outlinewidth": 0,
              "ticks": ""
             }
            },
            "marker": {
             "colorbar": {
              "outlinewidth": 0,
              "ticks": ""
             }
            },
            "type": "scatter3d"
           }
          ],
          "scattercarpet": [
           {
            "marker": {
             "colorbar": {
              "outlinewidth": 0,
              "ticks": ""
             }
            },
            "type": "scattercarpet"
           }
          ],
          "scattergeo": [
           {
            "marker": {
             "colorbar": {
              "outlinewidth": 0,
              "ticks": ""
             }
            },
            "type": "scattergeo"
           }
          ],
          "scattergl": [
           {
            "marker": {
             "colorbar": {
              "outlinewidth": 0,
              "ticks": ""
             }
            },
            "type": "scattergl"
           }
          ],
          "scattermap": [
           {
            "marker": {
             "colorbar": {
              "outlinewidth": 0,
              "ticks": ""
             }
            },
            "type": "scattermap"
           }
          ],
          "scattermapbox": [
           {
            "marker": {
             "colorbar": {
              "outlinewidth": 0,
              "ticks": ""
             }
            },
            "type": "scattermapbox"
           }
          ],
          "scatterpolar": [
           {
            "marker": {
             "colorbar": {
              "outlinewidth": 0,
              "ticks": ""
             }
            },
            "type": "scatterpolar"
           }
          ],
          "scatterpolargl": [
           {
            "marker": {
             "colorbar": {
              "outlinewidth": 0,
              "ticks": ""
             }
            },
            "type": "scatterpolargl"
           }
          ],
          "scatterternary": [
           {
            "marker": {
             "colorbar": {
              "outlinewidth": 0,
              "ticks": ""
             }
            },
            "type": "scatterternary"
           }
          ],
          "surface": [
           {
            "colorbar": {
             "outlinewidth": 0,
             "ticks": ""
            },
            "colorscale": [
             [
              0,
              "#0d0887"
             ],
             [
              0.1111111111111111,
              "#46039f"
             ],
             [
              0.2222222222222222,
              "#7201a8"
             ],
             [
              0.3333333333333333,
              "#9c179e"
             ],
             [
              0.4444444444444444,
              "#bd3786"
             ],
             [
              0.5555555555555556,
              "#d8576b"
             ],
             [
              0.6666666666666666,
              "#ed7953"
             ],
             [
              0.7777777777777778,
              "#fb9f3a"
             ],
             [
              0.8888888888888888,
              "#fdca26"
             ],
             [
              1,
              "#f0f921"
             ]
            ],
            "type": "surface"
           }
          ],
          "table": [
           {
            "cells": {
             "fill": {
              "color": "#EBF0F8"
             },
             "line": {
              "color": "white"
             }
            },
            "header": {
             "fill": {
              "color": "#C8D4E3"
             },
             "line": {
              "color": "white"
             }
            },
            "type": "table"
           }
          ]
         },
         "layout": {
          "annotationdefaults": {
           "arrowcolor": "#2a3f5f",
           "arrowhead": 0,
           "arrowwidth": 1
          },
          "autotypenumbers": "strict",
          "coloraxis": {
           "colorbar": {
            "outlinewidth": 0,
            "ticks": ""
           }
          },
          "colorscale": {
           "diverging": [
            [
             0,
             "#8e0152"
            ],
            [
             0.1,
             "#c51b7d"
            ],
            [
             0.2,
             "#de77ae"
            ],
            [
             0.3,
             "#f1b6da"
            ],
            [
             0.4,
             "#fde0ef"
            ],
            [
             0.5,
             "#f7f7f7"
            ],
            [
             0.6,
             "#e6f5d0"
            ],
            [
             0.7,
             "#b8e186"
            ],
            [
             0.8,
             "#7fbc41"
            ],
            [
             0.9,
             "#4d9221"
            ],
            [
             1,
             "#276419"
            ]
           ],
           "sequential": [
            [
             0,
             "#0d0887"
            ],
            [
             0.1111111111111111,
             "#46039f"
            ],
            [
             0.2222222222222222,
             "#7201a8"
            ],
            [
             0.3333333333333333,
             "#9c179e"
            ],
            [
             0.4444444444444444,
             "#bd3786"
            ],
            [
             0.5555555555555556,
             "#d8576b"
            ],
            [
             0.6666666666666666,
             "#ed7953"
            ],
            [
             0.7777777777777778,
             "#fb9f3a"
            ],
            [
             0.8888888888888888,
             "#fdca26"
            ],
            [
             1,
             "#f0f921"
            ]
           ],
           "sequentialminus": [
            [
             0,
             "#0d0887"
            ],
            [
             0.1111111111111111,
             "#46039f"
            ],
            [
             0.2222222222222222,
             "#7201a8"
            ],
            [
             0.3333333333333333,
             "#9c179e"
            ],
            [
             0.4444444444444444,
             "#bd3786"
            ],
            [
             0.5555555555555556,
             "#d8576b"
            ],
            [
             0.6666666666666666,
             "#ed7953"
            ],
            [
             0.7777777777777778,
             "#fb9f3a"
            ],
            [
             0.8888888888888888,
             "#fdca26"
            ],
            [
             1,
             "#f0f921"
            ]
           ]
          },
          "colorway": [
           "#636efa",
           "#EF553B",
           "#00cc96",
           "#ab63fa",
           "#FFA15A",
           "#19d3f3",
           "#FF6692",
           "#B6E880",
           "#FF97FF",
           "#FECB52"
          ],
          "font": {
           "color": "#2a3f5f"
          },
          "geo": {
           "bgcolor": "white",
           "lakecolor": "white",
           "landcolor": "#E5ECF6",
           "showlakes": true,
           "showland": true,
           "subunitcolor": "white"
          },
          "hoverlabel": {
           "align": "left"
          },
          "hovermode": "closest",
          "mapbox": {
           "style": "light"
          },
          "paper_bgcolor": "white",
          "plot_bgcolor": "#E5ECF6",
          "polar": {
           "angularaxis": {
            "gridcolor": "white",
            "linecolor": "white",
            "ticks": ""
           },
           "bgcolor": "#E5ECF6",
           "radialaxis": {
            "gridcolor": "white",
            "linecolor": "white",
            "ticks": ""
           }
          },
          "scene": {
           "xaxis": {
            "backgroundcolor": "#E5ECF6",
            "gridcolor": "white",
            "gridwidth": 2,
            "linecolor": "white",
            "showbackground": true,
            "ticks": "",
            "zerolinecolor": "white"
           },
           "yaxis": {
            "backgroundcolor": "#E5ECF6",
            "gridcolor": "white",
            "gridwidth": 2,
            "linecolor": "white",
            "showbackground": true,
            "ticks": "",
            "zerolinecolor": "white"
           },
           "zaxis": {
            "backgroundcolor": "#E5ECF6",
            "gridcolor": "white",
            "gridwidth": 2,
            "linecolor": "white",
            "showbackground": true,
            "ticks": "",
            "zerolinecolor": "white"
           }
          },
          "shapedefaults": {
           "line": {
            "color": "#2a3f5f"
           }
          },
          "ternary": {
           "aaxis": {
            "gridcolor": "white",
            "linecolor": "white",
            "ticks": ""
           },
           "baxis": {
            "gridcolor": "white",
            "linecolor": "white",
            "ticks": ""
           },
           "bgcolor": "#E5ECF6",
           "caxis": {
            "gridcolor": "white",
            "linecolor": "white",
            "ticks": ""
           }
          },
          "title": {
           "x": 0.05
          },
          "xaxis": {
           "automargin": true,
           "gridcolor": "white",
           "linecolor": "white",
           "ticks": "",
           "title": {
            "standoff": 15
           },
           "zerolinecolor": "white",
           "zerolinewidth": 2
          },
          "yaxis": {
           "automargin": true,
           "gridcolor": "white",
           "linecolor": "white",
           "ticks": "",
           "title": {
            "standoff": 15
           },
           "zerolinecolor": "white",
           "zerolinewidth": 2
          }
         }
        },
        "title": {
         "text": "Momentum Time Series"
        },
        "xaxis": {
         "title": {
          "text": "Date"
         }
        },
        "yaxis": {
         "title": {
          "text": "Momentum"
         }
        }
       }
      }
     },
     "metadata": {},
     "output_type": "display_data"
    }
   ],
   "source": [
    "FactorPlot.plot_factor_time_series(\n",
    "    factor_data=factor_data[\"momentum\"],\n",
    "    factor_name=\"Momentum\",\n",
    "    show_rolling_mean=True,\n",
    "    rolling_window=20\n",
    ")"
   ]
  }
 ],
 "metadata": {
  "kernelspec": {
   "display_name": "frozen",
   "language": "python",
   "name": "python3"
  },
  "language_info": {
   "codemirror_mode": {
    "name": "ipython",
    "version": 3
   },
   "file_extension": ".py",
   "mimetype": "text/x-python",
   "name": "python",
   "nbconvert_exporter": "python",
   "pygments_lexer": "ipython3",
   "version": "3.11.0"
  }
 },
 "nbformat": 4,
 "nbformat_minor": 5
}
