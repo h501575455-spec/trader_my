{
 "cells": [
  {
   "cell_type": "markdown",
   "id": "52b703e9",
   "metadata": {},
   "source": [
    "# Factor Management System\n",
    "\n",
    "This tutorial demonstrates how to use the Frozen Factor Management System, a comprehensive framework for managing quantitative factors in financial analysis. The system provides:\n",
    "\n",
    "- **Factor Registration**: Register and manage factors with metadata, dependencies, and lifecycle tracking\n",
    "- **Dependency Management**: Handle complex factor dependencies with automatic validation and visualization\n",
    "- **Lifecycle Management**: Track factor development stages from draft to production\n",
    "- **Storage & Retrieval**: Efficient storage and retrieval of factor data with multiple backends\n",
    "- **Performance Monitoring**: Monitor factor performance and health\n",
    "\n",
    "## Key Components\n",
    "\n",
    "1. **FactorManager**: Main interface for factor operations\n",
    "2. **FactorRegistry**: Manages factor metadata and dependencies\n",
    "3. **LifecycleManager**: Handles factor status transitions and versioning\n",
    "4. **Storage Handlers**: Backend storage implementations (DuckDB, etc.)\n",
    "\n",
    "Let's start by setting up the environment and exploring the system capabilities."
   ]
  },
  {
   "cell_type": "markdown",
   "id": "0f0b844a",
   "metadata": {},
   "source": [
    "## Environment Setup\n",
    "\n",
    "First, we need to import the necessary modules and set up our data providers and loaders. The Factor Management System integrates with Frozen's data infrastructure to provide seamless factor computation and storage."
   ]
  },
  {
   "cell_type": "code",
   "execution_count": null,
   "id": "f3ad113d",
   "metadata": {},
   "outputs": [],
   "source": [
    "from frozen.factor.library.inventory import FactorManager\n",
    "from frozen.factor.expression import *\n",
    "from frozen.data.etl.dataload import DataLoadManager, DatabaseTypes\n",
    "from frozen.data.provider.factory import ProviderFactory, ProviderTypes\n",
    "from frozen.data.provider import TickerType\n",
    "from frozen.utils import GL"
   ]
  },
  {
   "cell_type": "markdown",
   "id": "c89a2ae3",
   "metadata": {},
   "source": [
    "Now we initialize the data provider (Tushare for market data) and data loader (DuckDB for storage). We also enable logging to see the system's operations."
   ]
  },
  {
   "cell_type": "code",
   "execution_count": null,
   "id": "88e30158",
   "metadata": {},
   "outputs": [],
   "source": [
    "provider = ProviderFactory.create_data_feed(ProviderTypes.TUSHARE)\n",
    "dataloader = DataLoadManager(DatabaseTypes.DUCKDB)\n",
    "GL.unmute()"
   ]
  },
  {
   "cell_type": "markdown",
   "id": "5018a1bd",
   "metadata": {},
   "source": [
    "Create the FactorManager instance with DuckDB as the storage backend. The system automatically loads any existing factors from the database."
   ]
  },
  {
   "cell_type": "code",
   "execution_count": null,
   "id": "99726b64",
   "metadata": {},
   "outputs": [
    {
     "name": "stdout",
     "output_type": "stream",
     "text": [
      "[INFO] frozen.factor.library.inventory [inventory.py:431]: Loaded 5 factors from database\n"
     ]
    }
   ],
   "source": [
    "factor_manager = FactorManager(DatabaseTypes.DUCKDB)"
   ]
  },
  {
   "cell_type": "markdown",
   "id": "98b9ded7",
   "metadata": {},
   "source": [
    "## 1. Factor Registration\n",
    "\n",
    "Factor registration is the foundation of the management system. Each factor is registered with metadata including name, description, category, tags, and dependencies. The system automatically generates unique identifiers (UIDs) and tracks the factor's lifecycle status."
   ]
  },
  {
   "cell_type": "markdown",
   "id": "5d47f9f4",
   "metadata": {},
   "source": [
    "### 1.1 Basic Factor Registration\n",
    "\n",
    "Let's start by registering basic factors without dependencies. These are typically raw data factors like price and volume that serve as building blocks for more complex factors."
   ]
  },
  {
   "cell_type": "code",
   "execution_count": null,
   "id": "851f7d17",
   "metadata": {},
   "outputs": [
    {
     "name": "stdout",
     "output_type": "stream",
     "text": [
      "[INFO] frozen.factor.library.lifecycle [lifecycle.py:304]: Initialized lifecycle for factor '7d6808fb_9eab_45be_87db_54e31e88df56' with status development\n",
      "[INFO] frozen.factor.library.inventory [inventory.py:204]: Factor 'close' registered successfully with UID 7d6808fb_9eab_45be_87db_54e31e88df56 and status development\n",
      "[INFO] frozen.factor.library.lifecycle [lifecycle.py:304]: Initialized lifecycle for factor '4cb9d8dc_e5e6_4b97_af48_dbb63d306654' with status development\n",
      "[INFO] frozen.factor.library.inventory [inventory.py:204]: Factor 'volume' registered successfully with UID 4cb9d8dc_e5e6_4b97_af48_dbb63d306654 and status development\n"
     ]
    },
    {
     "data": {
      "text/plain": [
       "'4cb9d8dc_e5e6_4b97_af48_dbb63d306654'"
      ]
     },
     "execution_count": 4,
     "metadata": {},
     "output_type": "execute_result"
    }
   ],
   "source": [
    "factor_manager.register_factor(\n",
    "        name=\"close\",\n",
    "        description=\"daily close price\",\n",
    "        category=\"volume-price\",\n",
    "        tags=[\"basic\", \"price\"]\n",
    "    )\n",
    "\n",
    "factor_manager.register_factor(\n",
    "        name=\"volume\",\n",
    "        description=\"daily volume\",\n",
    "        category=\"volume-price\",\n",
    "        tags=[\"basic\", \"volume\"]\n",
    "    )"
   ]
  },
  {
   "cell_type": "markdown",
   "id": "7e705107",
   "metadata": {},
   "source": [
    "### 1.2 Registering Dependent Factors\n",
    "\n",
    "Now we'll register factors that depend on other factors. The system automatically tracks these dependencies and ensures proper execution order. Notice how factors like 'returns' depend on 'close', and 'vwap' depends on both 'close' and 'volume'."
   ]
  },
  {
   "cell_type": "code",
   "execution_count": 5,
   "id": "830ab24d",
   "metadata": {},
   "outputs": [
    {
     "name": "stdout",
     "output_type": "stream",
     "text": [
      "[INFO] frozen.factor.library.lifecycle [lifecycle.py:304]: Initialized lifecycle for factor '5696ca0b_de34_45e2_a29a_dc1c22f15e49' with status development\n",
      "[INFO] frozen.factor.library.inventory [inventory.py:204]: Factor 'returns' registered successfully with UID 5696ca0b_de34_45e2_a29a_dc1c22f15e49 and status development\n",
      "[INFO] frozen.factor.library.lifecycle [lifecycle.py:304]: Initialized lifecycle for factor '6eb9bdef_773f_40b8_b8a9_02d6bf61c594' with status development\n",
      "[INFO] frozen.factor.library.inventory [inventory.py:204]: Factor 'ma5' registered successfully with UID 6eb9bdef_773f_40b8_b8a9_02d6bf61c594 and status development\n",
      "[INFO] frozen.factor.library.lifecycle [lifecycle.py:304]: Initialized lifecycle for factor '2856c44f_9a70_460f_b8ec_ef7b5c078e74' with status development\n",
      "[INFO] frozen.factor.library.inventory [inventory.py:204]: Factor 'vwap' registered successfully with UID 2856c44f_9a70_460f_b8ec_ef7b5c078e74 and status development\n"
     ]
    },
    {
     "data": {
      "text/plain": [
       "'2856c44f_9a70_460f_b8ec_ef7b5c078e74'"
      ]
     },
     "execution_count": 5,
     "metadata": {},
     "output_type": "execute_result"
    }
   ],
   "source": [
    "# Factor with dependency\n",
    "factor_manager.register_factor(\n",
    "    name=\"returns\",\n",
    "    description=\"daily returns\",\n",
    "    dependencies=[\"close\"],\n",
    "    category=\"basic\",\n",
    "    tags=[\"basic\"]\n",
    ")\n",
    "    \n",
    "factor_manager.register_factor(\n",
    "    name=\"ma5\",\n",
    "    description=\"5-day moving average\",\n",
    "    dependencies=[\"close\"],\n",
    "    category=\"technical\",\n",
    "    tags=[\"moving_average\", \"technical\"]\n",
    ")\n",
    "    \n",
    "factor_manager.register_factor(\n",
    "    name=\"vwap\",\n",
    "    description=\"volume-weighted average price\",\n",
    "    dependencies=[\"close\", \"volume\"],\n",
    "    category=\"technical\",\n",
    "    tags=[\"volume\", \"price\", \"weighted\"]\n",
    ")"
   ]
  },
  {
   "cell_type": "markdown",
   "id": "fa48fdc9",
   "metadata": {},
   "source": [
    "### 1.3 Error Detection and Validation\n",
    "\n",
    "The system includes built-in validation to prevent logical errors. For example, it prevents registering factors with duplicate names and blocks removal of factors that other factors depend on. These commented examples show what would happen if you tried these operations."
   ]
  },
  {
   "cell_type": "code",
   "execution_count": 6,
   "id": "7a38073d",
   "metadata": {},
   "outputs": [],
   "source": [
    "# Register factor with same name\n",
    "# This should raise an error\n",
    "# factor_manager.register_factor(\n",
    "#     name=\"close\",\n",
    "#     description=\"\"\n",
    "# )"
   ]
  },
  {
   "cell_type": "code",
   "execution_count": 17,
   "id": "3a03988a",
   "metadata": {},
   "outputs": [],
   "source": [
    "# Remove factor where other factors depend on\n",
    "# This will raise an error\n",
    "# factor_manager.registry.remove_factor(\"close\")"
   ]
  },
  {
   "cell_type": "markdown",
   "id": "c17593ca",
   "metadata": {},
   "source": [
    "### 1.4 Factor Metadata and Statistics\n",
    "\n",
    "Once factors are registered, you can query various metadata and statistics about your factor library. This includes factor summaries, execution orders, dependency information, and validation status."
   ]
  },
  {
   "cell_type": "markdown",
   "id": "7987cd73",
   "metadata": {},
   "source": [
    "**Factor Summary**: Get an overview of all registered factors with their UIDs, status, version, category, and author information."
   ]
  },
  {
   "cell_type": "code",
   "execution_count": 6,
   "id": "e4362939",
   "metadata": {},
   "outputs": [
    {
     "data": {
      "text/plain": [
       "{'close': {'uid': 'dca52787_20dc_4cc4_950a_065fd79e0d52',\n",
       "  'status': 'development',\n",
       "  'version': '1.0.0',\n",
       "  'category': 'volume-price',\n",
       "  'author': ''},\n",
       " 'volume': {'uid': '84aff8d1_9997_49e4_b292_adafa4eceb1a',\n",
       "  'status': 'development',\n",
       "  'version': '1.0.0',\n",
       "  'category': 'volume-price',\n",
       "  'author': ''},\n",
       " 'returns': {'uid': 'b882a592_ce1c_4a70_a7e8_c264b58cb616',\n",
       "  'status': 'development',\n",
       "  'version': '1.0.0',\n",
       "  'category': 'basic',\n",
       "  'author': ''},\n",
       " 'ma5': {'uid': '2ef97207_e704_47cf_a28e_27f4496228f6',\n",
       "  'status': 'development',\n",
       "  'version': '1.0.0',\n",
       "  'category': 'technical',\n",
       "  'author': ''},\n",
       " 'vwap': {'uid': 'c1dc083c_c86b_4197_9a26_4c33c2d588f9',\n",
       "  'status': 'development',\n",
       "  'version': '1.0.0',\n",
       "  'category': 'technical',\n",
       "  'author': ''}}"
      ]
     },
     "execution_count": 6,
     "metadata": {},
     "output_type": "execute_result"
    }
   ],
   "source": [
    "factor_manager.registry.get_factor_summary()"
   ]
  },
  {
   "cell_type": "markdown",
   "id": "626ce4fa",
   "metadata": {},
   "source": [
    "**Execution Order**: The system automatically determines the correct order for computing factors based on their dependencies. This ensures that dependent factors are computed after their prerequisites."
   ]
  },
  {
   "cell_type": "code",
   "execution_count": 7,
   "id": "bfe96b8e",
   "metadata": {},
   "outputs": [
    {
     "data": {
      "text/plain": [
       "['fb6c37b5_07f4_4257_8bd4_75a5bc5dc30b',\n",
       " 'd8f035c5_3868_4f01_9ffc_2d55cc4f1bb7',\n",
       " 'b7a25a73_926d_4a37_a8a8_d9451946fe26',\n",
       " '707cf7ea_f05d_4bba_95ea_ca341c4ad975',\n",
       " '3dfba257_8e3e_4a69_9e96_41fbf3f2f4f2']"
      ]
     },
     "execution_count": 7,
     "metadata": {},
     "output_type": "execute_result"
    }
   ],
   "source": [
    "factor_manager.registry.get_execution_order()"
   ]
  },
  {
   "cell_type": "markdown",
   "id": "112e42e7",
   "metadata": {},
   "source": [
    "**Factor Listing**: List all factor names or filter by category. You can also retrieve detailed metadata for specific factors."
   ]
  },
  {
   "cell_type": "code",
   "execution_count": 6,
   "id": "3a5d9031",
   "metadata": {},
   "outputs": [
    {
     "data": {
      "text/plain": [
       "['close', 'volume', 'returns', 'ma5', 'vwap']"
      ]
     },
     "execution_count": 6,
     "metadata": {},
     "output_type": "execute_result"
    }
   ],
   "source": [
    "factor_manager.registry.get_all_factor_names()"
   ]
  },
  {
   "cell_type": "markdown",
   "id": "dbdcf695",
   "metadata": {},
   "source": [
    "**Individual Factor Information**: Retrieve detailed metadata for specific factors by name or UID."
   ]
  },
  {
   "cell_type": "code",
   "execution_count": 12,
   "id": "1d739ecf",
   "metadata": {},
   "outputs": [
    {
     "data": {
      "text/plain": [
       "['close', 'volume', 'returns', 'ma5', 'vwap']"
      ]
     },
     "execution_count": 12,
     "metadata": {},
     "output_type": "execute_result"
    }
   ],
   "source": [
    "factor_manager.registry.list_factors(return_uids=False)"
   ]
  },
  {
   "cell_type": "markdown",
   "id": "c550b284",
   "metadata": {},
   "source": [
    "**Pipeline Validation**: Check if a factor pipeline is ready for production by validating dependencies and lifecycle status."
   ]
  },
  {
   "cell_type": "code",
   "execution_count": 10,
   "id": "ab6977c2",
   "metadata": {},
   "outputs": [
    {
     "data": {
      "text/plain": [
       "['close', 'volume']"
      ]
     },
     "execution_count": 10,
     "metadata": {},
     "output_type": "execute_result"
    }
   ],
   "source": [
    "factor_manager.registry.list_factors(category=\"volume-price\", return_uids=False)"
   ]
  },
  {
   "cell_type": "code",
   "execution_count": 8,
   "id": "40900df3",
   "metadata": {},
   "outputs": [
    {
     "data": {
      "text/plain": [
       "FactorMetadata(name='close', uid='factor_a266e428_9c36_4ff1_a158_db0d927d8eb6', description='daily close price', dependencies=[], category='volume-price', tags=['basic', 'price'], created_time=datetime.datetime(2025, 9, 13, 19, 39, 11, 863780), updated_time=datetime.datetime(2025, 9, 13, 19, 39, 11, 920785), lifecycle_status=<FactorLifecycleStatus.DRAFT: 'draft'>, version=FactorVersion(major=1, minor=0, patch=0), author='', maintainer='', last_performance_check=None, performance_score=None, is_active=True, monitoring_enabled=False, namespace='default')"
      ]
     },
     "execution_count": 8,
     "metadata": {},
     "output_type": "execute_result"
    }
   ],
   "source": [
    "factor_manager.registry.get_factor_by_name(\"close\")"
   ]
  },
  {
   "cell_type": "code",
   "execution_count": 15,
   "id": "a0a2cb84",
   "metadata": {},
   "outputs": [
    {
     "data": {
      "text/plain": [
       "FactorMetadata(name='vwap', uid='factor_469c6895_4281_4e8b_b826_7b7383565412', description='volume-weighted average price', dependencies=['factor_a266e428_9c36_4ff1_a158_db0d927d8eb6', 'factor_8fad08b5_2745_4b7c_8458_dbb5969ca77f'], category='technical', tags=['volume', 'price', 'weighted'], created_time=datetime.datetime(2025, 9, 13, 19, 39, 13, 191101), updated_time=datetime.datetime(2025, 9, 13, 19, 39, 13, 226900), lifecycle_status=<FactorLifecycleStatus.DRAFT: 'draft'>, version=FactorVersion(major=1, minor=0, patch=0), author='', maintainer='', last_performance_check=None, performance_score=None, is_active=True, monitoring_enabled=False, namespace='default')"
      ]
     },
     "execution_count": 15,
     "metadata": {},
     "output_type": "execute_result"
    }
   ],
   "source": [
    "factor_manager.registry.get_factor_by_uid(\"factor_469c6895_4281_4e8b_b826_7b7383565412\")"
   ]
  },
  {
   "cell_type": "code",
   "execution_count": 9,
   "id": "60209b74",
   "metadata": {},
   "outputs": [
    {
     "data": {
      "text/plain": [
       "FactorMetadata(name='ma5', uid='factor_c3895200_c73b_42d1_981e_eddfa313be76', description='5-day moving average', dependencies=['factor_666872bc_033b_4f86_8245_eaf52b6f7875'], category='technical', tags=['moving_average', 'technical'], created_time=datetime.datetime(2025, 9, 13, 18, 27, 24, 561829), updated_time=datetime.datetime(2025, 9, 13, 18, 27, 24, 561830), lifecycle_status=<FactorLifecycleStatus.DRAFT: 'draft'>, version=FactorVersion(major=1, minor=0, patch=0), author='', maintainer='', last_performance_check=None, performance_score=None, is_active=True, monitoring_enabled=False, namespace='default')"
      ]
     },
     "execution_count": 9,
     "metadata": {},
     "output_type": "execute_result"
    }
   ],
   "source": [
    "factor_manager.registry.get_factor_info(\"ma5\")"
   ]
  },
  {
   "cell_type": "code",
   "execution_count": 12,
   "id": "a81e6625",
   "metadata": {},
   "outputs": [],
   "source": [
    "# This will fail because other factors depend on close\n",
    "# factor_manager.registry.remove_factor(\"close\")\n",
    "\n",
    "# if indeed needed, use force=True to remove the factor\n",
    "# factor_manager.registry.remove_factor(\"close\", force=True)"
   ]
  },
  {
   "cell_type": "code",
   "execution_count": 8,
   "id": "0e9f7eb1",
   "metadata": {},
   "outputs": [
    {
     "data": {
      "text/plain": [
       "{'overall_status': 'warning',\n",
       " 'factors': {'close': {'lifecycle_status': 'development',\n",
       "   'production_ready': False,\n",
       "   'needs_attention': False,\n",
       "   'dependencies_ready': True},\n",
       "  'volume': {'lifecycle_status': 'development',\n",
       "   'production_ready': False,\n",
       "   'needs_attention': False,\n",
       "   'dependencies_ready': True},\n",
       "  'vwap': {'lifecycle_status': 'development',\n",
       "   'production_ready': False,\n",
       "   'needs_attention': False,\n",
       "   'dependencies_ready': False}},\n",
       " 'issues': [\"Dependency 'close' of factor 'vwap' is not production ready\",\n",
       "  \"Dependency 'volume' of factor 'vwap' is not production ready\"]}"
      ]
     },
     "execution_count": 8,
     "metadata": {},
     "output_type": "execute_result"
    }
   ],
   "source": [
    "factor_manager.registry.validate_factor_pipeline([\"close\", \"vwap\"])"
   ]
  },
  {
   "cell_type": "markdown",
   "id": "41e0bdb4",
   "metadata": {},
   "source": [
    "### 1.5 Factor Dependency Visualization\n",
    "\n",
    "The system provides powerful visualization tools to understand factor relationships and dependencies. This is crucial for managing complex factor libraries and ensuring proper computation order."
   ]
  },
  {
   "cell_type": "markdown",
   "id": "9fab033d",
   "metadata": {},
   "source": [
    "**Graph Statistics**: Get comprehensive statistics about the factor dependency graph including total factors, edges, categories, and dependency metrics."
   ]
  },
  {
   "cell_type": "code",
   "execution_count": 20,
   "id": "e459f504",
   "metadata": {},
   "outputs": [
    {
     "data": {
      "text/plain": [
       "{'total_factors': 8,\n",
       " 'total_nodes': 8,\n",
       " 'total_edges': 6,\n",
       " 'categories': {'volume-price': 2, 'basic': 1, 'technical': 2, 'default': 3},\n",
       " 'dependency_stats': {'max_in_degree': 2,\n",
       "  'max_out_degree': 3,\n",
       "  'avg_in_degree': 0.75,\n",
       "  'avg_out_degree': 0.75,\n",
       "  'isolated_nodes': 0}}"
      ]
     },
     "execution_count": 20,
     "metadata": {},
     "output_type": "execute_result"
    }
   ],
   "source": [
    "factor_manager.registry.get_graph_statistics()"
   ]
  },
  {
   "cell_type": "markdown",
   "id": "a04d3efe",
   "metadata": {},
   "source": [
    "**Basic Dependency Graph**: Generate a simple visualization of factor dependencies and save it as a PNG file."
   ]
  },
  {
   "cell_type": "code",
   "execution_count": 5,
   "id": "768cb7ef",
   "metadata": {},
   "outputs": [
    {
     "name": "stdout",
     "output_type": "stream",
     "text": [
      "[INFO] frozen.factor.library.inventory [inventory.py:563]: Dependency graph visualized and saved to dependency_graph.png\n"
     ]
    }
   ],
   "source": [
    "factor_manager.registry.visualize_dependency_graph()"
   ]
  },
  {
   "cell_type": "markdown",
   "id": "0ed09691",
   "metadata": {},
   "source": [
    "**Advanced Dependency Graph**: Create a more sophisticated visualization with different layout algorithms (spring, circular, etc.) and optional interactive features."
   ]
  },
  {
   "cell_type": "code",
   "execution_count": null,
   "id": "04dbbae0",
   "metadata": {},
   "outputs": [
    {
     "name": "stdout",
     "output_type": "stream",
     "text": [
      "[INFO] frozen.factor.library.inventory [inventory.py:858]: Advanced dependency graph saved to dependency_graph_advanced.png\n"
     ]
    }
   ],
   "source": [
    "factor_manager.registry.visualize_dependency_graph_advanced(layout=\"spring\")"
   ]
  },
  {
   "cell_type": "markdown",
   "id": "2dc46b70",
   "metadata": {},
   "source": [
    "**Subgraph Visualization**: Visualize a subset of factors and their relationships, useful for focusing on specific parts of a large factor library."
   ]
  },
  {
   "cell_type": "code",
   "execution_count": 4,
   "id": "ace1818c",
   "metadata": {},
   "outputs": [],
   "source": [
    "# factor_manager.registry.visualize_dependency_graph_advanced(layout=\"spring\", interactive=True)"
   ]
  },
  {
   "cell_type": "markdown",
   "id": "82e09200",
   "metadata": {},
   "source": [
    "**Graph Data Export**: Export the dependency graph data to JSON format for external analysis or integration with other tools."
   ]
  },
  {
   "cell_type": "code",
   "execution_count": 6,
   "id": "83582beb",
   "metadata": {},
   "outputs": [
    {
     "name": "stdout",
     "output_type": "stream",
     "text": [
      "[INFO] frozen.factor.library.inventory [inventory.py:944]: Subgraph visualization saved to subgraph.png\n"
     ]
    }
   ],
   "source": [
    "factor_manager.registry.visualize_subgraph([\"ma5\", \"volume\"])"
   ]
  },
  {
   "cell_type": "code",
   "execution_count": 7,
   "id": "b30aacd3",
   "metadata": {},
   "outputs": [
    {
     "name": "stdout",
     "output_type": "stream",
     "text": [
      "[INFO] frozen.factor.library.inventory [inventory.py:991]: Graph data exported to dependency_graph.json\n"
     ]
    }
   ],
   "source": [
    "factor_manager.registry.export_graph_data()"
   ]
  },
  {
   "cell_type": "markdown",
   "id": "4a7d6c6c",
   "metadata": {},
   "source": [
    "## 2. Factor Lifecycle Management\n",
    "\n",
    "The lifecycle management system tracks factors through different stages of development and deployment. Each factor progresses through states like development, review, active, deprecated, and archived, with automatic versioning and monitoring capabilities."
   ]
  },
  {
   "cell_type": "markdown",
   "id": "87c45a2e",
   "metadata": {},
   "source": [
    "First, we import the lifecycle status enum to work with different factor states."
   ]
  },
  {
   "cell_type": "code",
   "execution_count": 13,
   "id": "956a8e36",
   "metadata": {},
   "outputs": [],
   "source": [
    "from frozen.factor.library.inventory import FactorLifecycleStatus"
   ]
  },
  {
   "cell_type": "markdown",
   "id": "c541032a",
   "metadata": {},
   "source": [
    "**Dependency Status Check**: Check the lifecycle status of factors that other factors depend on. This helps ensure that dependent factors are only activated when their prerequisites are production-ready."
   ]
  },
  {
   "cell_type": "code",
   "execution_count": 23,
   "id": "a3375528",
   "metadata": {},
   "outputs": [
    {
     "data": {
      "text/plain": [
       "{'close': {'status': 'active', 'version': '1.0.1', 'production_ready': True},\n",
       " 'volume': {'status': 'development',\n",
       "  'version': '1.0.0',\n",
       "  'production_ready': False}}"
      ]
     },
     "execution_count": 23,
     "metadata": {},
     "output_type": "execute_result"
    }
   ],
   "source": [
    "factor_manager.registry.get_factor_dependencies_status(\"vwap\")"
   ]
  },
  {
   "cell_type": "markdown",
   "id": "e860c89b",
   "metadata": {},
   "source": [
    "**Status Transition**: Move factors between lifecycle states. Here we transition the 'close' factor to 'active' status, which enables monitoring and makes it available for production use."
   ]
  },
  {
   "cell_type": "code",
   "execution_count": 15,
   "id": "589b7ba6",
   "metadata": {},
   "outputs": [
    {
     "name": "stdout",
     "output_type": "stream",
     "text": [
      "[INFO] frozen.factor.library.lifecycle [lifecycle.py:383]: Enabled monitoring for factor 'close'\n",
      "[INFO] frozen.factor.library.lifecycle [lifecycle.py:374]: Factor 'close' transitioned from active to active\n",
      "[INFO] frozen.factor.library.handlers.duck [duck.py:417]: Saved lifecycle metadata for factor 'close'\n"
     ]
    },
    {
     "data": {
      "text/plain": [
       "True"
      ]
     },
     "execution_count": 15,
     "metadata": {},
     "output_type": "execute_result"
    }
   ],
   "source": [
    "factor_manager.transition_factor_status(\"close\", FactorLifecycleStatus.ACTIVE)"
   ]
  },
  {
   "cell_type": "markdown",
   "id": "c7b798e9",
   "metadata": {},
   "source": [
    "**Version Management**: Create new versions of factors with automatic versioning. The system supports semantic versioning (major.minor.patch) and tracks version history."
   ]
  },
  {
   "cell_type": "code",
   "execution_count": 17,
   "id": "1412eaa8",
   "metadata": {},
   "outputs": [
    {
     "name": "stdout",
     "output_type": "stream",
     "text": [
      "[INFO] frozen.factor.library.lifecycle [lifecycle.py:191]: Created version 1.0.3 for factor close\n",
      "[INFO] frozen.factor.library.lifecycle [lifecycle.py:419]: Created version 1.0.3 for factor 'close'\n"
     ]
    },
    {
     "data": {
      "text/plain": [
       "FactorVersion(major=1, minor=0, patch=3)"
      ]
     },
     "execution_count": 17,
     "metadata": {},
     "output_type": "execute_result"
    }
   ],
   "source": [
    "factor_manager.create_factor_version(\"close\", \"patch\", \"close = close + 1e-8\")"
   ]
  },
  {
   "cell_type": "markdown",
   "id": "08510ab8",
   "metadata": {},
   "source": [
    "**Lifecycle Information**: Retrieve detailed lifecycle information including status history, version history, and monitoring settings for a specific factor."
   ]
  },
  {
   "cell_type": "code",
   "execution_count": 20,
   "id": "733eb9e3",
   "metadata": {},
   "outputs": [
    {
     "data": {
      "text/plain": [
       "{'status': 'active',\n",
       " 'version': '1.0.1',\n",
       " 'status_history': [{'from_status': 'development',\n",
       "   'to_status': 'development',\n",
       "   'timestamp': '2025-09-14T19:09:49.303587',\n",
       "   'operator': 'system',\n",
       "   'reason': 'Factor lifecycle initialization',\n",
       "   'metadata': {}},\n",
       "  {'from_status': 'development',\n",
       "   'to_status': 'review',\n",
       "   'timestamp': '2025-09-14T19:09:49.305058',\n",
       "   'operator': 'system',\n",
       "   'reason': '',\n",
       "   'metadata': {}},\n",
       "  {'from_status': 'review',\n",
       "   'to_status': 'active',\n",
       "   'timestamp': '2025-09-14T19:25:08.507745',\n",
       "   'operator': 'system',\n",
       "   'reason': '',\n",
       "   'metadata': {}}],\n",
       " 'monitoring_enabled': True,\n",
       " 'alert_contacts': [],\n",
       " 'version_history': [{'version': '1.0.1',\n",
       "   'created_at': '2025-09-14T19:13:58.199082',\n",
       "   'operator': 'system',\n",
       "   'parent_version': '1.0.0'}],\n",
       " 'parent_version': None}"
      ]
     },
     "execution_count": 20,
     "metadata": {},
     "output_type": "execute_result"
    }
   ],
   "source": [
    "factor_manager.registry.get_lifecycle_info(\"close\")"
   ]
  },
  {
   "cell_type": "markdown",
   "id": "ea05938a",
   "metadata": {},
   "source": [
    "**Bulk Operations**: Update multiple factors to the same lifecycle status simultaneously. This is useful for promoting a set of related factors to production together."
   ]
  },
  {
   "cell_type": "code",
   "execution_count": 19,
   "id": "a841d4b8",
   "metadata": {},
   "outputs": [
    {
     "name": "stdout",
     "output_type": "stream",
     "text": [
      "[INFO] frozen.factor.library.lifecycle [lifecycle.py:383]: Enabled monitoring for factor 'close'\n",
      "[INFO] frozen.factor.library.lifecycle [lifecycle.py:374]: Factor 'close' transitioned from review to active\n",
      "[INFO] frozen.factor.library.handlers.duck [duck.py:417]: Saved lifecycle metadata for factor 'close'\n",
      "[INFO] frozen.factor.library.lifecycle [lifecycle.py:304]: Initialized lifecycle for factor 'vwap' with status development\n",
      "[INFO] frozen.factor.library.lifecycle [lifecycle.py:383]: Enabled monitoring for factor 'vwap'\n",
      "[INFO] frozen.factor.library.lifecycle [lifecycle.py:374]: Factor 'vwap' transitioned from development to active\n",
      "[INFO] frozen.factor.library.handlers.duck [duck.py:417]: Saved lifecycle metadata for factor 'vwap'\n"
     ]
    },
    {
     "data": {
      "text/plain": [
       "{'close': True, 'vwap': True}"
      ]
     },
     "execution_count": 19,
     "metadata": {},
     "output_type": "execute_result"
    }
   ],
   "source": [
    "factor_manager.registry.bulk_status_update([\"close\", \"vwap\"], FactorLifecycleStatus.ACTIVE)"
   ]
  },
  {
   "cell_type": "markdown",
   "id": "03952f13",
   "metadata": {},
   "source": [
    "**Lifecycle Dashboard**: Get a comprehensive overview of all factors' lifecycle status, including statistics and factors that need attention."
   ]
  },
  {
   "cell_type": "code",
   "execution_count": 21,
   "id": "2b828292",
   "metadata": {},
   "outputs": [
    {
     "data": {
      "text/plain": [
       "{'summary': {'total_factors': 5,\n",
       "  'total_nodes': 5,\n",
       "  'total_edges': 4,\n",
       "  'categories': {'volume-price': 2, 'basic': 1, 'technical': 2},\n",
       "  'dependency_stats': {'max_in_degree': 2,\n",
       "   'max_out_degree': 3,\n",
       "   'avg_in_degree': 0.8,\n",
       "   'avg_out_degree': 0.8,\n",
       "   'isolated_nodes': 0}},\n",
       " 'factors_by_status': {'development': ['4cb9d8dc_e5e6_4b97_af48_dbb63d306654',\n",
       "   '5696ca0b_de34_45e2_a29a_dc1c22f15e49',\n",
       "   '6eb9bdef_773f_40b8_b8a9_02d6bf61c594'],\n",
       "  'review': [],\n",
       "  'active': ['7d6808fb_9eab_45be_87db_54e31e88df56',\n",
       "   '2856c44f_9a70_460f_b8ec_ef7b5c078e74'],\n",
       "  'deprecated': [],\n",
       "  'archived': []},\n",
       " 'factors_needing_attention': [],\n",
       " 'recent_transitions': []}"
      ]
     },
     "execution_count": 21,
     "metadata": {},
     "output_type": "execute_result"
    }
   ],
   "source": [
    "factor_manager.get_lifecycle_dashboard()"
   ]
  },
  {
   "cell_type": "markdown",
   "id": "ff98aa01",
   "metadata": {},
   "source": [
    "**Portfolio Export**: Export the entire factor portfolio including metadata, lifecycle information, and dependencies to a JSON file for backup or external analysis."
   ]
  },
  {
   "cell_type": "code",
   "execution_count": 20,
   "id": "e96f3523",
   "metadata": {},
   "outputs": [
    {
     "name": "stdout",
     "output_type": "stream",
     "text": [
      "[INFO] frozen.factor.library.inventory [inventory.py:1598]: Factor portfolio exported to factor_portfolio.json\n"
     ]
    },
    {
     "data": {
      "text/plain": [
       "{'export_timestamp': '2025-09-14T23:13:19.675674',\n",
       " 'total_factors': 5,\n",
       " 'statistics': {'total_factors': 5,\n",
       "  'total_nodes': 5,\n",
       "  'total_edges': 4,\n",
       "  'categories': {'volume-price': 2, 'basic': 1, 'technical': 2},\n",
       "  'dependency_stats': {'max_in_degree': 2,\n",
       "   'max_out_degree': 3,\n",
       "   'avg_in_degree': 0.8,\n",
       "   'avg_out_degree': 0.8,\n",
       "   'isolated_nodes': 0}},\n",
       " 'factors': {'close': {'basic_info': {'name': 'close',\n",
       "    'uid': '7d6808fb_9eab_45be_87db_54e31e88df56',\n",
       "    'description': 'daily close price',\n",
       "    'category': 'volume-price',\n",
       "    'tags': ['basic', 'price'],\n",
       "    'author': '',\n",
       "    'created_time': '2025-09-14T19:09:38.609855',\n",
       "    'updated_time': '2025-09-14T23:11:04.256155'},\n",
       "   'lifecycle': {'status': 'active',\n",
       "    'version': '1.0.3',\n",
       "    'is_production_ready': True,\n",
       "    'needs_attention': False},\n",
       "   'dependencies': [],\n",
       "   'detailed_lifecycle': {'status': 'active',\n",
       "    'version': '1.0.3',\n",
       "    'status_history': [{'from_status': 'development',\n",
       "      'to_status': 'development',\n",
       "      'timestamp': '2025-09-14T19:09:49.303587',\n",
       "      'operator': 'system',\n",
       "      'reason': 'Factor lifecycle initialization',\n",
       "      'metadata': {}},\n",
       "     {'from_status': 'development',\n",
       "      'to_status': 'review',\n",
       "      'timestamp': '2025-09-14T19:09:49.305058',\n",
       "      'operator': 'system',\n",
       "      'reason': '',\n",
       "      'metadata': {}},\n",
       "     {'from_status': 'review',\n",
       "      'to_status': 'active',\n",
       "      'timestamp': '2025-09-14T19:25:08.507745',\n",
       "      'operator': 'system',\n",
       "      'reason': '',\n",
       "      'metadata': {}},\n",
       "     {'from_status': 'active',\n",
       "      'to_status': 'active',\n",
       "      'timestamp': '2025-09-14T23:10:49.729755',\n",
       "      'operator': 'system',\n",
       "      'reason': '',\n",
       "      'metadata': {}}],\n",
       "    'monitoring_enabled': True,\n",
       "    'alert_contacts': [],\n",
       "    'version_history': [{'version': '1.0.1',\n",
       "      'created_at': '2025-09-14T19:13:58.199082',\n",
       "      'operator': 'system',\n",
       "      'parent_version': '1.0.0'},\n",
       "     {'version': '1.0.2',\n",
       "      'created_at': '2025-09-14T23:11:02.416142',\n",
       "      'operator': 'system',\n",
       "      'parent_version': '1.0.1'},\n",
       "     {'version': '1.0.3',\n",
       "      'created_at': '2025-09-14T23:11:04.255874',\n",
       "      'operator': 'system',\n",
       "      'parent_version': '1.0.2'}],\n",
       "    'parent_version': None}},\n",
       "  'volume': {'basic_info': {'name': 'volume',\n",
       "    'uid': '4cb9d8dc_e5e6_4b97_af48_dbb63d306654',\n",
       "    'description': 'daily volume',\n",
       "    'category': 'volume-price',\n",
       "    'tags': ['basic', 'volume'],\n",
       "    'author': '',\n",
       "    'created_time': '2025-09-14T19:09:38.702439',\n",
       "    'updated_time': '2025-09-14T19:09:38.741348'},\n",
       "   'lifecycle': {'status': 'development',\n",
       "    'version': '1.0.0',\n",
       "    'is_production_ready': False,\n",
       "    'needs_attention': False},\n",
       "   'dependencies': []},\n",
       "  'returns': {'basic_info': {'name': 'returns',\n",
       "    'uid': '5696ca0b_de34_45e2_a29a_dc1c22f15e49',\n",
       "    'description': 'daily returns',\n",
       "    'category': 'basic',\n",
       "    'tags': ['basic'],\n",
       "    'author': '',\n",
       "    'created_time': '2025-09-14T19:09:40.211126',\n",
       "    'updated_time': '2025-09-14T19:09:40.271130'},\n",
       "   'lifecycle': {'status': 'development',\n",
       "    'version': '1.0.0',\n",
       "    'is_production_ready': False,\n",
       "    'needs_attention': False},\n",
       "   'dependencies': ['7d6808fb_9eab_45be_87db_54e31e88df56']},\n",
       "  'ma5': {'basic_info': {'name': 'ma5',\n",
       "    'uid': '6eb9bdef_773f_40b8_b8a9_02d6bf61c594',\n",
       "    'description': '5-day moving average',\n",
       "    'category': 'technical',\n",
       "    'tags': ['moving_average', 'technical'],\n",
       "    'author': '',\n",
       "    'created_time': '2025-09-14T19:09:40.282137',\n",
       "    'updated_time': '2025-09-14T19:09:40.319522'},\n",
       "   'lifecycle': {'status': 'development',\n",
       "    'version': '1.0.0',\n",
       "    'is_production_ready': False,\n",
       "    'needs_attention': False},\n",
       "   'dependencies': ['7d6808fb_9eab_45be_87db_54e31e88df56']},\n",
       "  'vwap': {'basic_info': {'name': 'vwap',\n",
       "    'uid': '2856c44f_9a70_460f_b8ec_ef7b5c078e74',\n",
       "    'description': 'volume-weighted average price',\n",
       "    'category': 'technical',\n",
       "    'tags': ['volume', 'price', 'weighted'],\n",
       "    'author': '',\n",
       "    'created_time': '2025-09-14T19:09:40.329490',\n",
       "    'updated_time': '2025-09-14T19:25:08.698778'},\n",
       "   'lifecycle': {'status': 'active',\n",
       "    'version': '1.0.0',\n",
       "    'is_production_ready': True,\n",
       "    'needs_attention': False},\n",
       "   'dependencies': ['7d6808fb_9eab_45be_87db_54e31e88df56',\n",
       "    '4cb9d8dc_e5e6_4b97_af48_dbb63d306654']}}}"
      ]
     },
     "execution_count": 20,
     "metadata": {},
     "output_type": "execute_result"
    }
   ],
   "source": [
    "factor_manager.export_factor_portfolio(\"factor_portfolio.json\")"
   ]
  },
  {
   "cell_type": "markdown",
   "id": "82b697d6",
   "metadata": {},
   "source": [
    "## 3. Factor Inventory Storage\n",
    "\n",
    "The storage system provides multiple ways to store and retrieve factor data. It supports different storage backends (DuckDB, etc.) and offers various methods for factor computation and storage, including direct factor objects, string expressions, and computation functions."
   ]
  },
  {
   "cell_type": "markdown",
   "id": "80753258",
   "metadata": {},
   "source": [
    "First, we load the universe of stocks and market data that we'll use for factor computation and storage."
   ]
  },
  {
   "cell_type": "code",
   "execution_count": 4,
   "id": "18aab038",
   "metadata": {},
   "outputs": [],
   "source": [
    "universe = provider.get_instrument_list(TickerType.LISTED_STOCK)"
   ]
  },
  {
   "cell_type": "markdown",
   "id": "43694478",
   "metadata": {},
   "source": [
    "Load the market data (OHLCV) for the specified universe and date range. This data will be used as the foundation for factor computation."
   ]
  },
  {
   "cell_type": "code",
   "execution_count": 5,
   "id": "6f4504f4",
   "metadata": {},
   "outputs": [],
   "source": [
    "open, high, low, close, volume, amount = dataloader.load_volume_price(\"stock_daily_hfq\", col=(\"open\", \"high\", \"low\", \"close\", \"volume\", \"amount\"), universe=universe, start_date=\"20230101\", end_date=\"20231231\")"
   ]
  },
  {
   "cell_type": "markdown",
   "id": "fb66b8ba",
   "metadata": {},
   "source": [
    "### 3.1 Storage by Factor Object\n",
    "\n",
    "Store factors directly as Factor objects. This method is useful when you already have computed factor data and want to store it in the factor library."
   ]
  },
  {
   "cell_type": "code",
   "execution_count": 6,
   "id": "38c711eb",
   "metadata": {},
   "outputs": [],
   "source": [
    "factors = {\n",
    "    \"close\": Factor(close)\n",
    "}"
   ]
  },
  {
   "cell_type": "markdown",
   "id": "94acf9d2",
   "metadata": {},
   "source": [
    "Create a dictionary of Factor objects and store them in the database. The system automatically handles the storage format and metadata."
   ]
  },
  {
   "cell_type": "code",
   "execution_count": 7,
   "id": "ae22acdc",
   "metadata": {},
   "outputs": [
    {
     "name": "stdout",
     "output_type": "stream",
     "text": [
      "[INFO] frozen.factor.library.inventory [inventory.py:1308]: Storing factor 'close'\n",
      "[INFO] frozen.factor.library.handlers.duck [duck.py:177]: Factor 'close' data updated.\n",
      "[INFO] frozen.factor.library.inventory [inventory.py:1311]: Factor 'close' stored successfully\n"
     ]
    }
   ],
   "source": [
    "factor_manager.store_factors(factors=factors, table_name=\"basic_factors\", force_recompute=True)"
   ]
  },
  {
   "cell_type": "markdown",
   "id": "b196e3a7",
   "metadata": {},
   "source": [
    "Retrieve the stored factor data from the database. The system returns the factor as a Factor object that can be used for further computation."
   ]
  },
  {
   "cell_type": "code",
   "execution_count": null,
   "id": "94f7ec90",
   "metadata": {},
   "outputs": [
    {
     "data": {
      "text/plain": [
       "<frozen.factor.expression.base.Factor at 0x149e8ee90>"
      ]
     },
     "execution_count": 29,
     "metadata": {},
     "output_type": "execute_result"
    }
   ],
   "source": [
    "factor_manager.handler.read_factor(table_name=\"basic_factors\", factor_name=\"close\")"
   ]
  },
  {
   "cell_type": "markdown",
   "id": "90f2417a",
   "metadata": {},
   "source": [
    "### 3.2 Storage by String Expression\n",
    "\n",
    "Store factors using string expressions. This method allows you to define factors using mathematical expressions and automatically compute them from the provided variables."
   ]
  },
  {
   "cell_type": "code",
   "execution_count": 10,
   "id": "88a30c45",
   "metadata": {},
   "outputs": [],
   "source": [
    "factor_strings = {\n",
    "    \"volume\": \"volume\"\n",
    "}"
   ]
  },
  {
   "cell_type": "markdown",
   "id": "aa879a77",
   "metadata": {},
   "source": [
    "Define factor expressions as strings. The system will parse these expressions and compute the factors using the provided additional variables."
   ]
  },
  {
   "cell_type": "code",
   "execution_count": 11,
   "id": "b4c070d4",
   "metadata": {},
   "outputs": [
    {
     "name": "stdout",
     "output_type": "stream",
     "text": [
      "[INFO] frozen.factor.library.inventory [inventory.py:1347]: Computing factor 'volume' from string expression\n",
      "[INFO] frozen.factor.library.handlers.duck [duck.py:166]: Column 'volume' added.\n",
      "[INFO] frozen.factor.library.handlers.duck [duck.py:177]: Factor 'volume' data updated.\n",
      "[INFO] frozen.factor.library.inventory [inventory.py:1371]: Factor 'volume' computed from string and stored successfully\n"
     ]
    }
   ],
   "source": [
    "factor_manager.store_string_factors(factor_strings=factor_strings, additional_vars={\"volume\": Factor(volume)}, table_name=\"basic_factors\", force_recompute=True)"
   ]
  },
  {
   "cell_type": "markdown",
   "id": "a67e7cbd",
   "metadata": {},
   "source": [
    "Store factors computed from string expressions. The system automatically evaluates the expressions and stores the computed results."
   ]
  },
  {
   "cell_type": "code",
   "execution_count": 12,
   "id": "9d1f0d62",
   "metadata": {},
   "outputs": [
    {
     "data": {
      "text/plain": [
       "<frozen.factor.expression.base.Factor at 0x1492a03d0>"
      ]
     },
     "execution_count": 12,
     "metadata": {},
     "output_type": "execute_result"
    }
   ],
   "source": [
    "factor_manager.handler.read_factor(table_name=\"basic_factors\", factor_name=\"volume\")"
   ]
  },
  {
   "cell_type": "markdown",
   "id": "32871654",
   "metadata": {},
   "source": [
    "Verify that the factor was stored correctly by reading it back from the database."
   ]
  },
  {
   "cell_type": "markdown",
   "id": "6f69d4ab",
   "metadata": {},
   "source": [
    "### 3.3 Storage by Computation Function\n",
    "\n",
    "Store factors using Python functions. This method provides the most flexibility for complex factor computations and allows you to define custom logic for factor calculation."
   ]
  },
  {
   "cell_type": "markdown",
   "id": "12b348ef",
   "metadata": {},
   "source": [
    "Define a computation function for the moving average factor. This function takes the close price as input and returns the 5-day moving average."
   ]
  },
  {
   "cell_type": "code",
   "execution_count": 9,
   "id": "c91d8170",
   "metadata": {},
   "outputs": [],
   "source": [
    "def compute_ma5(close):\n",
    "    return ts_mean(close, 5)\n"
   ]
  },
  {
   "cell_type": "markdown",
   "id": "057b6e7f",
   "metadata": {},
   "source": [
    "Create a dictionary mapping factor names to their computation functions. The system will use these functions to compute and store the factors."
   ]
  },
  {
   "cell_type": "code",
   "execution_count": 10,
   "id": "7774cd14",
   "metadata": {},
   "outputs": [],
   "source": [
    "factor_functions = {\n",
    "    \"ma5\": compute_ma5\n",
    "}"
   ]
  },
  {
   "cell_type": "markdown",
   "id": "f0e2e59c",
   "metadata": {},
   "source": [
    "Compute and store factors using the provided functions. The system automatically handles the computation process and stores the results in the database."
   ]
  },
  {
   "cell_type": "code",
   "execution_count": 11,
   "id": "bb89b7d9",
   "metadata": {},
   "outputs": [
    {
     "name": "stdout",
     "output_type": "stream",
     "text": [
      "[WARNING] frozen.factor.library.inventory [inventory.py:1402]: No computation function provided for factor 'close' (UID: 7d6808fb_9eab_45be_87db_54e31e88df56)\n",
      "[INFO] frozen.factor.library.inventory [inventory.py:1421]: Computing factor 'ma5'\n",
      "[INFO] frozen.factor.library.handlers.duck [duck.py:166]: Column 'ma5' added.\n",
      "[INFO] frozen.factor.library.handlers.duck [duck.py:177]: Factor 'ma5' data updated.\n",
      "[INFO] frozen.factor.library.inventory [inventory.py:1445]: Factor 'ma5' computed and stored successfully\n"
     ]
    }
   ],
   "source": [
    "factor_manager.compute_and_store_factors(\n",
    "            factor_functions=factor_functions,\n",
    "            table_name='basic_factors',\n",
    "            force_recompute=True\n",
    "        )"
   ]
  },
  {
   "cell_type": "markdown",
   "id": "248cf0db",
   "metadata": {},
   "source": [
    "**Smart Backfill**: Automatically backfill historical data for all registered factors. This ensures that your factor library has complete historical coverage for analysis and backtesting."
   ]
  },
  {
   "cell_type": "code",
   "execution_count": 7,
   "id": "3d6d7e2b",
   "metadata": {},
   "outputs": [
    {
     "name": "stdout",
     "output_type": "stream",
     "text": [
      "[INFO] frozen.factor.library.inventory [inventory.py:1481]: Backfilling 5 factors: ['close', 'volume', 'returns', 'ma5', 'vwap']\n"
     ]
    }
   ],
   "source": [
    "factor_manager.smart_backfill(\n",
    "    table_name=\"basic_factors\",\n",
    "    target_days=3650\n",
    ")"
   ]
  }
 ],
 "metadata": {
  "kernelspec": {
   "display_name": "frozen-dev",
   "language": "python",
   "name": "python3"
  },
  "language_info": {
   "codemirror_mode": {
    "name": "ipython",
    "version": 3
   },
   "file_extension": ".py",
   "mimetype": "text/x-python",
   "name": "python",
   "nbconvert_exporter": "python",
   "pygments_lexer": "ipython3",
   "version": "3.11.8"
  }
 },
 "nbformat": 4,
 "nbformat_minor": 5
}
