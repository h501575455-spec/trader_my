{
 "cells": [
  {
   "cell_type": "markdown",
   "metadata": {},
   "source": [
    "## How to conduct Industry Neutralization"
   ]
  },
  {
   "cell_type": "markdown",
   "metadata": {},
   "source": [
    "### Neutralize inside `calc` method"
   ]
  },
  {
   "cell_type": "code",
   "execution_count": 1,
   "metadata": {},
   "outputs": [
    {
     "name": "stderr",
     "output_type": "stream",
     "text": [
      "/Users/lig/opt/anaconda3/envs/frozen-dev/lib/python3.11/site-packages/tqdm_joblib/__init__.py:4: TqdmWarning: IProgress not found. Please update jupyter and ipywidgets. See https://ipywidgets.readthedocs.io/en/stable/user_install.html\n",
      "  from tqdm.autonotebook import tqdm\n"
     ]
    }
   ],
   "source": [
    "from frozen.engine import FrozenBt\n",
    "from frozen.factor import *\n",
    "from frozen.utils import Universe\n",
    "from frozen.utils import IndustryManager\n",
    "from frozen.data.database import DatabaseTypes\n",
    "from frozen.utils.calendar import CalendarTypes\n",
    "\n",
    "class FactorFactory(FrozenBt):\n",
    "\n",
    "    def __init__(self):\n",
    "        super().__init__(__vsc_ipynb_file__)\n",
    "    \n",
    "    def univ(self):\n",
    "        universe = Universe(self.config)\n",
    "        self.universe = universe.pool\n",
    "    \n",
    "    def prepare_data(self):\n",
    "        data_definitions = [\n",
    "            ('stock_daily_hfq', ('close', 'pct_chg'), ('close', 'returns')),\n",
    "        ]\n",
    "        return self.dataloader.load_batch(data_definitions, self.universe, start_date=self.start_date_lookback, end_date=self.end_date)\n",
    "    \n",
    "    def calc(self):\n",
    "        string = \"SignedPower(where(returns < 0 ? stddev(returns, 5) : close), 2.0)\"\n",
    "        alpha = calc_str(string, self.prepare_data())\n",
    "        manager = IndustryManager(database_type=DatabaseTypes(self.config.database))\n",
    "        industry_mapping = manager.get_industry_time_series(self.universe, start_date=self.start_date_lookback, end_date=self.end_date, classification=\"sw_l1\", calendar_type=CalendarTypes.SSE)\n",
    "        neutralized_alpha = industry_neutralize(alpha, industry_mapping, method=\"regression\")\n",
    "        return neutralized_alpha"
   ]
  },
  {
   "cell_type": "markdown",
   "metadata": {},
   "source": [
    "### Use Factor embedded method"
   ]
  },
  {
   "cell_type": "code",
   "execution_count": 2,
   "metadata": {},
   "outputs": [],
   "source": [
    "from frozen.engine import FrozenBt\n",
    "from frozen.factor import *\n",
    "from frozen.utils import Universe\n",
    "from frozen.data.database import DatabaseTypes\n",
    "from frozen.utils.calendar import CalendarTypes\n",
    "\n",
    "class FactorFactory(FrozenBt):\n",
    "\n",
    "    def __init__(self):\n",
    "        super().__init__(__vsc_ipynb_file__)\n",
    "    \n",
    "    def univ(self):\n",
    "        universe = Universe(self.config)\n",
    "        self.universe = universe.pool\n",
    "    \n",
    "    def prepare_data(self):\n",
    "        data_definitions = [\n",
    "            ('stock_daily_hfq', ('close', 'pct_chg'), ('close', 'returns')),\n",
    "        ]\n",
    "        return self.dataloader.load_batch(data_definitions, self.universe, start_date=self.start_date_lookback, end_date=self.end_date)\n",
    "    \n",
    "    def calc(self):\n",
    "        string = \"SignedPower(where(returns < 0 ? stddev(returns, 5) : close), 2.0)\"\n",
    "        alpha = calc_str(string, self.prepare_data())\n",
    "        return alpha"
   ]
  },
  {
   "cell_type": "code",
   "execution_count": 3,
   "metadata": {},
   "outputs": [
    {
     "name": "stdout",
     "output_type": "stream",
     "text": [
      "Warning: Strategy config not found at /Users/lig/Documents/GitHub/Frozen/demo/tutorial/config.yaml, using defaults only\n"
     ]
    }
   ],
   "source": [
    "factory = FactorFactory()\n",
    "factor = factory.calc()"
   ]
  },
  {
   "cell_type": "code",
   "execution_count": 4,
   "metadata": {},
   "outputs": [],
   "source": [
    "neutralized_factor = factor.industry_neutralize(method=\"demean\", classification=\"sw_l1\", database_type=DatabaseTypes.DUCKDB, calendar_type=CalendarTypes.SSE)"
   ]
  },
  {
   "cell_type": "markdown",
   "metadata": {},
   "source": [
    "### Neutralize Factor in MultiIndex format"
   ]
  },
  {
   "cell_type": "code",
   "execution_count": 5,
   "metadata": {},
   "outputs": [],
   "source": [
    "from frozen.engine import FrozenBt\n",
    "from frozen.factor import *\n",
    "from frozen.utils import Universe\n",
    "from frozen.utils import IndustryManager\n",
    "from frozen.data.database import DatabaseTypes\n",
    "from frozen.utils.calendar import CalendarTypes\n",
    "\n",
    "class FactorFactory(FrozenBt):\n",
    "\n",
    "    def __init__(self):\n",
    "        super().__init__(__vsc_ipynb_file__)\n",
    "\n",
    "    def univ(self):\n",
    "        universe = Universe(self.config)\n",
    "        self.universe = universe.pool\n",
    "\n",
    "    def prepare_data(self):\n",
    "\n",
    "        data_definitions = [\n",
    "            (\"stock_daily_hfq\", (\"high\", \"low\", \"close\", \"pct_chg\"), (\"high\", \"low\", \"close\", \"returns\")),\n",
    "            (\"stock_daily_fundamental\", \"pe_ttm\", \"pe\")\n",
    "            ]\n",
    "        \n",
    "        return self.dataloader.load_batch(data_definitions, self.universe, self.start_date_lookback, self.end_date)\n",
    "\n",
    "    def calc(self):\n",
    "\n",
    "        str_list = []\n",
    "        name_list = []\n",
    "\n",
    "        str_list += [\"rank(Ts_ArgMax(SignedPower(where(returns < 0 ? stddev(returns, 5) : close), 2.0), 5))\"]\n",
    "        name_list += [\"alpha1\"]\n",
    "\n",
    "        str_list += [\"where(ts_min(delta(close, 1), 5) > 0 ? delta(close, 1) : where((ts_max(delta(close, 1), 5) < 0) ? delta(close, 1) : (mul(delta(close, 1), -1))))\"]\n",
    "        name_list += [\"alpha2\"]\n",
    "\n",
    "        wms = \"(ts_max(high, 12) - close) / (ts_max(high, 12) - ts_min(low, 12)) * 100\"\n",
    "        roc = \"(close - delay(close, 12)) / delay(close, 12)\"\n",
    "        bias = \"close * mean(close, 12) / mean(close, 12) * 100\"\n",
    "\n",
    "        pe = \"normalize(pe, 30)\"\n",
    "        wms = f\"normalize({wms}, 30)\"\n",
    "        roc = f\"normalize({roc}, 30)\"\n",
    "        bias = f\"normalize({bias}, 30)\"\n",
    "\n",
    "        str_list += [f\"{pe} * 0.0415 - {wms} * 0.1512 + {roc} * 0.1427 + {bias} * 0.6652\"]\n",
    "        name_list += ['alpha3']\n",
    "\n",
    "        alpha = batch_calc(str_list, name_list, self.prepare_data(), parallel=True)\n",
    "\n",
    "        manager = IndustryManager(database_type=DatabaseTypes(self.config.database))\n",
    "        industry_mapping = manager.get_industry_time_series(self.universe, start_date=self.start_date_lookback, end_date=self.end_date, classification=\"sw_l1\", calendar_type=CalendarTypes.SSE, multiindex=True)\n",
    "        neutralized_alpha = industry_neutralize(alpha, industry_mapping, method=\"regression\", multiindex=True)\n",
    "\n",
    "        return neutralized_alpha"
   ]
  }
 ],
 "metadata": {
  "kernelspec": {
   "display_name": "frozen-dev",
   "language": "python",
   "name": "python3"
  },
  "language_info": {
   "codemirror_mode": {
    "name": "ipython",
    "version": 3
   },
   "file_extension": ".py",
   "mimetype": "text/x-python",
   "name": "python",
   "nbconvert_exporter": "python",
   "pygments_lexer": "ipython3",
   "version": "3.11.8"
  }
 },
 "nbformat": 4,
 "nbformat_minor": 2
}
