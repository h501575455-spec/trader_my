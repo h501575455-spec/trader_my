{
 "cells": [
  {
   "cell_type": "markdown",
   "id": "932c6fd5",
   "metadata": {},
   "source": [
    "## Several ways to conduct factor preprocessing in FROZEN"
   ]
  },
  {
   "cell_type": "markdown",
   "id": "740c024d",
   "metadata": {},
   "source": [
    "### 1. Use a decorator `@prep`"
   ]
  },
  {
   "cell_type": "code",
   "execution_count": 1,
   "id": "9afad7d7",
   "metadata": {},
   "outputs": [
    {
     "name": "stderr",
     "output_type": "stream",
     "text": [
      "c:\\Users\\zhaoxs3\\AppData\\Local\\miniforge3\\envs\\frozen\\Lib\\site-packages\\tqdm_joblib\\__init__.py:4: TqdmWarning: IProgress not found. Please update jupyter and ipywidgets. See https://ipywidgets.readthedocs.io/en/stable/user_install.html\n",
      "  from tqdm.autonotebook import tqdm\n"
     ]
    }
   ],
   "source": [
    "from frozen.engine import FrozenBt\n",
    "from frozen.factor import *\n",
    "from frozen.utils import Universe\n",
    "\n",
    "class FactorFactory(FrozenBt):\n",
    "\n",
    "    def __init__(self):\n",
    "        super().__init__(__vsc_ipynb_file__)\n",
    "    \n",
    "    def univ(self):\n",
    "        universe = Universe(self.config)\n",
    "        self.universe = universe.pool\n",
    "    \n",
    "    def prepare_data(self):\n",
    "        data_definitions = [\n",
    "            ('stock_daily_hfq', ('close', 'pct_chg'), ('close', 'returns')),\n",
    "        ]\n",
    "        return self.dataloader.load_batch(data_definitions, self.universe, start_date=self.start_date_lookback, end_date=self.end_date)\n",
    "    \n",
    "    @prep(method=\"standardize\", cross_section=True)\n",
    "    def calc(self):\n",
    "        string = \"rank(Ts_ArgMax(SignedPower(where(returns < 0 ? stddev(returns, 5) : close), 2.0), 5))\"\n",
    "        alpha = calc_str(string, self.prepare_data())\n",
    "        return alpha"
   ]
  },
  {
   "cell_type": "markdown",
   "id": "bc3ae2db",
   "metadata": {},
   "source": [
    "### 2. Wrap factor directly in `calc`"
   ]
  },
  {
   "cell_type": "code",
   "execution_count": 2,
   "id": "c72cce99",
   "metadata": {},
   "outputs": [],
   "source": [
    "from frozen.engine import FrozenBt\n",
    "from frozen.factor import *\n",
    "from frozen.utils import Universe\n",
    "\n",
    "class FactorFactory(FrozenBt):\n",
    "\n",
    "    def __init__(self):\n",
    "        super().__init__(__vsc_ipynb_file__)\n",
    "    \n",
    "    def univ(self):\n",
    "        universe = Universe(self.config)\n",
    "        self.universe = universe.pool\n",
    "    \n",
    "    def prepare_data(self):\n",
    "        data_definitions = [\n",
    "            ('stock_daily_hfq', ('close', 'pct_chg'), ('close', 'returns')),\n",
    "        ]\n",
    "        return self.dataloader.load_batch(data_definitions, self.universe, start_date=self.start_date_lookback, end_date=self.end_date)\n",
    "    \n",
    "    def calc(self):\n",
    "        string = \"rank(Ts_ArgMax(SignedPower(where(returns < 0 ? stddev(returns, 5) : close), 2.0), 5))\"\n",
    "        alpha = calc_str(string, self.prepare_data())\n",
    "        alpha = clip_mad(normalize(alpha, cross_section=False, expanding=True), expanding=False, window=5)\n",
    "        return alpha"
   ]
  },
  {
   "cell_type": "markdown",
   "id": "2f4f8dc6",
   "metadata": {},
   "source": [
    "### 3. Use chaining/pipelining operations"
   ]
  },
  {
   "cell_type": "code",
   "execution_count": 3,
   "id": "b51ef528",
   "metadata": {},
   "outputs": [],
   "source": [
    "from frozen.engine import FrozenBt\n",
    "from frozen.factor import *\n",
    "from frozen.utils import Universe\n",
    "\n",
    "class FactorFactory(FrozenBt):\n",
    "\n",
    "    def __init__(self):\n",
    "        super().__init__(__vsc_ipynb_file__)\n",
    "    \n",
    "    def univ(self):\n",
    "        universe = Universe(self.config)\n",
    "        self.universe = universe.pool\n",
    "    \n",
    "    def prepare_data(self):\n",
    "        data_definitions = [\n",
    "            ('stock_daily_hfq', ('close', 'pct_chg'), ('close', 'returns')),\n",
    "        ]\n",
    "        return self.dataloader.load_batch(data_definitions, self.universe, start_date=self.start_date_lookback, end_date=self.end_date)\n",
    "    \n",
    "    def calc(self):\n",
    "        string = \"rank(Ts_ArgMax(SignedPower(where(returns < 0 ? stddev(returns, 5) : close), 2.0), 5))\"\n",
    "        alpha = calc_str(string, self.prepare_data())\n",
    "        alpha = alpha.normalize(cross_section=True).winsorize()\n",
    "        return alpha"
   ]
  }
 ],
 "metadata": {
  "kernelspec": {
   "display_name": "frozen",
   "language": "python",
   "name": "python3"
  },
  "language_info": {
   "codemirror_mode": {
    "name": "ipython",
    "version": 3
   },
   "file_extension": ".py",
   "mimetype": "text/x-python",
   "name": "python",
   "nbconvert_exporter": "python",
   "pygments_lexer": "ipython3",
   "version": "3.11.0"
  }
 },
 "nbformat": 4,
 "nbformat_minor": 5
}
